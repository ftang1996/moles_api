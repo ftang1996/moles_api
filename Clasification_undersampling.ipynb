{
 "cells": [
  {
   "cell_type": "code",
   "execution_count": 1,
   "metadata": {
    "ExecuteTime": {
     "end_time": "2019-04-16T04:40:38.228530Z",
     "start_time": "2019-04-16T04:40:35.799003Z"
    }
   },
   "outputs": [
    {
     "name": "stderr",
     "output_type": "stream",
     "text": [
      "C:\\Users\\petra\\Anaconda3\\lib\\site-packages\\h5py\\__init__.py:36: FutureWarning: Conversion of the second argument of issubdtype from `float` to `np.floating` is deprecated. In future, it will be treated as `np.float64 == np.dtype(float).type`.\n",
      "  from ._conv import register_converters as _register_converters\n",
      "Using TensorFlow backend.\n"
     ]
    }
   ],
   "source": [
    "import tensorflow as tf\n",
    "from keras.models import Sequential\n",
    "import pandas as pd\n",
    "import numpy as np\n",
    "from keras_preprocessing.image import ImageDataGenerator\n",
    "from sklearn.model_selection import train_test_split\n",
    "import keras_metrics\n",
    "from keras.models import Sequential\n",
    "from keras.layers import Conv2D, MaxPooling2D\n",
    "from keras.layers import Activation, Dropout, Flatten, Dense\n",
    "from keras import backend as K\n",
    "from keras.layers.convolutional import SeparableConv2D\n",
    "from keras.layers.normalization import BatchNormalization\n",
    "from math import ceil\n",
    "import matplotlib.pyplot as plt\n",
    "\n",
    "\n",
    "from numpy.random import seed\n",
    "seed(1)\n",
    "from tensorflow import set_random_seed\n",
    "set_random_seed(2)\n",
    "PYTHONHASHSEED=0\n",
    "\n"
   ]
  },
  {
   "cell_type": "code",
   "execution_count": 2,
   "metadata": {
    "ExecuteTime": {
     "end_time": "2019-04-16T04:40:38.568506Z",
     "start_time": "2019-04-16T04:40:38.514626Z"
    },
    "scrolled": true
   },
   "outputs": [
    {
     "data": {
      "text/html": [
       "<div>\n",
       "<style scoped>\n",
       "    .dataframe tbody tr th:only-of-type {\n",
       "        vertical-align: middle;\n",
       "    }\n",
       "\n",
       "    .dataframe tbody tr th {\n",
       "        vertical-align: top;\n",
       "    }\n",
       "\n",
       "    .dataframe thead th {\n",
       "        text-align: right;\n",
       "    }\n",
       "</style>\n",
       "<table border=\"1\" class=\"dataframe\">\n",
       "  <thead>\n",
       "    <tr style=\"text-align: right;\">\n",
       "      <th></th>\n",
       "      <th>lesion_id</th>\n",
       "      <th>image_id</th>\n",
       "      <th>dx</th>\n",
       "      <th>dx_type</th>\n",
       "      <th>age</th>\n",
       "      <th>sex</th>\n",
       "      <th>localization</th>\n",
       "    </tr>\n",
       "  </thead>\n",
       "  <tbody>\n",
       "    <tr>\n",
       "      <th>0</th>\n",
       "      <td>HAM_0000118</td>\n",
       "      <td>ISIC_0027419</td>\n",
       "      <td>bkl</td>\n",
       "      <td>histo</td>\n",
       "      <td>80.0</td>\n",
       "      <td>male</td>\n",
       "      <td>scalp</td>\n",
       "    </tr>\n",
       "    <tr>\n",
       "      <th>1</th>\n",
       "      <td>HAM_0000118</td>\n",
       "      <td>ISIC_0025030</td>\n",
       "      <td>bkl</td>\n",
       "      <td>histo</td>\n",
       "      <td>80.0</td>\n",
       "      <td>male</td>\n",
       "      <td>scalp</td>\n",
       "    </tr>\n",
       "    <tr>\n",
       "      <th>2</th>\n",
       "      <td>HAM_0002730</td>\n",
       "      <td>ISIC_0026769</td>\n",
       "      <td>bkl</td>\n",
       "      <td>histo</td>\n",
       "      <td>80.0</td>\n",
       "      <td>male</td>\n",
       "      <td>scalp</td>\n",
       "    </tr>\n",
       "    <tr>\n",
       "      <th>3</th>\n",
       "      <td>HAM_0002730</td>\n",
       "      <td>ISIC_0025661</td>\n",
       "      <td>bkl</td>\n",
       "      <td>histo</td>\n",
       "      <td>80.0</td>\n",
       "      <td>male</td>\n",
       "      <td>scalp</td>\n",
       "    </tr>\n",
       "    <tr>\n",
       "      <th>4</th>\n",
       "      <td>HAM_0001466</td>\n",
       "      <td>ISIC_0031633</td>\n",
       "      <td>bkl</td>\n",
       "      <td>histo</td>\n",
       "      <td>75.0</td>\n",
       "      <td>male</td>\n",
       "      <td>ear</td>\n",
       "    </tr>\n",
       "    <tr>\n",
       "      <th>5</th>\n",
       "      <td>HAM_0001466</td>\n",
       "      <td>ISIC_0027850</td>\n",
       "      <td>bkl</td>\n",
       "      <td>histo</td>\n",
       "      <td>75.0</td>\n",
       "      <td>male</td>\n",
       "      <td>ear</td>\n",
       "    </tr>\n",
       "    <tr>\n",
       "      <th>6</th>\n",
       "      <td>HAM_0002761</td>\n",
       "      <td>ISIC_0029176</td>\n",
       "      <td>bkl</td>\n",
       "      <td>histo</td>\n",
       "      <td>60.0</td>\n",
       "      <td>male</td>\n",
       "      <td>face</td>\n",
       "    </tr>\n",
       "    <tr>\n",
       "      <th>7</th>\n",
       "      <td>HAM_0002761</td>\n",
       "      <td>ISIC_0029068</td>\n",
       "      <td>bkl</td>\n",
       "      <td>histo</td>\n",
       "      <td>60.0</td>\n",
       "      <td>male</td>\n",
       "      <td>face</td>\n",
       "    </tr>\n",
       "    <tr>\n",
       "      <th>8</th>\n",
       "      <td>HAM_0005132</td>\n",
       "      <td>ISIC_0025837</td>\n",
       "      <td>bkl</td>\n",
       "      <td>histo</td>\n",
       "      <td>70.0</td>\n",
       "      <td>female</td>\n",
       "      <td>back</td>\n",
       "    </tr>\n",
       "    <tr>\n",
       "      <th>9</th>\n",
       "      <td>HAM_0005132</td>\n",
       "      <td>ISIC_0025209</td>\n",
       "      <td>bkl</td>\n",
       "      <td>histo</td>\n",
       "      <td>70.0</td>\n",
       "      <td>female</td>\n",
       "      <td>back</td>\n",
       "    </tr>\n",
       "  </tbody>\n",
       "</table>\n",
       "</div>"
      ],
      "text/plain": [
       "     lesion_id      image_id   dx dx_type   age     sex localization\n",
       "0  HAM_0000118  ISIC_0027419  bkl   histo  80.0    male        scalp\n",
       "1  HAM_0000118  ISIC_0025030  bkl   histo  80.0    male        scalp\n",
       "2  HAM_0002730  ISIC_0026769  bkl   histo  80.0    male        scalp\n",
       "3  HAM_0002730  ISIC_0025661  bkl   histo  80.0    male        scalp\n",
       "4  HAM_0001466  ISIC_0031633  bkl   histo  75.0    male          ear\n",
       "5  HAM_0001466  ISIC_0027850  bkl   histo  75.0    male          ear\n",
       "6  HAM_0002761  ISIC_0029176  bkl   histo  60.0    male         face\n",
       "7  HAM_0002761  ISIC_0029068  bkl   histo  60.0    male         face\n",
       "8  HAM_0005132  ISIC_0025837  bkl   histo  70.0  female         back\n",
       "9  HAM_0005132  ISIC_0025209  bkl   histo  70.0  female         back"
      ]
     },
     "execution_count": 2,
     "metadata": {},
     "output_type": "execute_result"
    }
   ],
   "source": [
    "df = pd.read_csv('.\\HAM10000_metadata.csv')\n",
    "df.head(10)"
   ]
  },
  {
   "cell_type": "code",
   "execution_count": 3,
   "metadata": {
    "ExecuteTime": {
     "end_time": "2019-04-16T04:40:39.008299Z",
     "start_time": "2019-04-16T04:40:38.999359Z"
    }
   },
   "outputs": [
    {
     "data": {
      "text/plain": [
       "(10015, 7)"
      ]
     },
     "execution_count": 3,
     "metadata": {},
     "output_type": "execute_result"
    }
   ],
   "source": [
    "df.shape"
   ]
  },
  {
   "cell_type": "code",
   "execution_count": 4,
   "metadata": {
    "ExecuteTime": {
     "end_time": "2019-04-16T04:40:39.247658Z",
     "start_time": "2019-04-16T04:40:39.240708Z"
    }
   },
   "outputs": [
    {
     "data": {
      "text/plain": [
       "False"
      ]
     },
     "execution_count": 4,
     "metadata": {},
     "output_type": "execute_result"
    }
   ],
   "source": [
    "df['lesion_id'].is_unique"
   ]
  },
  {
   "cell_type": "code",
   "execution_count": 5,
   "metadata": {
    "ExecuteTime": {
     "end_time": "2019-04-16T04:40:39.421192Z",
     "start_time": "2019-04-16T04:40:39.414211Z"
    },
    "collapsed": true
   },
   "outputs": [],
   "source": [
    "df_new=df.drop_duplicates('lesion_id')"
   ]
  },
  {
   "cell_type": "code",
   "execution_count": 6,
   "metadata": {
    "ExecuteTime": {
     "end_time": "2019-04-16T04:40:39.597719Z",
     "start_time": "2019-04-16T04:40:39.586750Z"
    }
   },
   "outputs": [
    {
     "data": {
      "text/html": [
       "<div>\n",
       "<style scoped>\n",
       "    .dataframe tbody tr th:only-of-type {\n",
       "        vertical-align: middle;\n",
       "    }\n",
       "\n",
       "    .dataframe tbody tr th {\n",
       "        vertical-align: top;\n",
       "    }\n",
       "\n",
       "    .dataframe thead th {\n",
       "        text-align: right;\n",
       "    }\n",
       "</style>\n",
       "<table border=\"1\" class=\"dataframe\">\n",
       "  <thead>\n",
       "    <tr style=\"text-align: right;\">\n",
       "      <th></th>\n",
       "      <th>lesion_id</th>\n",
       "      <th>image_id</th>\n",
       "      <th>dx</th>\n",
       "      <th>dx_type</th>\n",
       "      <th>age</th>\n",
       "      <th>sex</th>\n",
       "      <th>localization</th>\n",
       "    </tr>\n",
       "  </thead>\n",
       "  <tbody>\n",
       "    <tr>\n",
       "      <th>0</th>\n",
       "      <td>HAM_0000118</td>\n",
       "      <td>ISIC_0027419</td>\n",
       "      <td>bkl</td>\n",
       "      <td>histo</td>\n",
       "      <td>80.0</td>\n",
       "      <td>male</td>\n",
       "      <td>scalp</td>\n",
       "    </tr>\n",
       "    <tr>\n",
       "      <th>2</th>\n",
       "      <td>HAM_0002730</td>\n",
       "      <td>ISIC_0026769</td>\n",
       "      <td>bkl</td>\n",
       "      <td>histo</td>\n",
       "      <td>80.0</td>\n",
       "      <td>male</td>\n",
       "      <td>scalp</td>\n",
       "    </tr>\n",
       "    <tr>\n",
       "      <th>4</th>\n",
       "      <td>HAM_0001466</td>\n",
       "      <td>ISIC_0031633</td>\n",
       "      <td>bkl</td>\n",
       "      <td>histo</td>\n",
       "      <td>75.0</td>\n",
       "      <td>male</td>\n",
       "      <td>ear</td>\n",
       "    </tr>\n",
       "    <tr>\n",
       "      <th>6</th>\n",
       "      <td>HAM_0002761</td>\n",
       "      <td>ISIC_0029176</td>\n",
       "      <td>bkl</td>\n",
       "      <td>histo</td>\n",
       "      <td>60.0</td>\n",
       "      <td>male</td>\n",
       "      <td>face</td>\n",
       "    </tr>\n",
       "    <tr>\n",
       "      <th>8</th>\n",
       "      <td>HAM_0005132</td>\n",
       "      <td>ISIC_0025837</td>\n",
       "      <td>bkl</td>\n",
       "      <td>histo</td>\n",
       "      <td>70.0</td>\n",
       "      <td>female</td>\n",
       "      <td>back</td>\n",
       "    </tr>\n",
       "  </tbody>\n",
       "</table>\n",
       "</div>"
      ],
      "text/plain": [
       "     lesion_id      image_id   dx dx_type   age     sex localization\n",
       "0  HAM_0000118  ISIC_0027419  bkl   histo  80.0    male        scalp\n",
       "2  HAM_0002730  ISIC_0026769  bkl   histo  80.0    male        scalp\n",
       "4  HAM_0001466  ISIC_0031633  bkl   histo  75.0    male          ear\n",
       "6  HAM_0002761  ISIC_0029176  bkl   histo  60.0    male         face\n",
       "8  HAM_0005132  ISIC_0025837  bkl   histo  70.0  female         back"
      ]
     },
     "execution_count": 6,
     "metadata": {},
     "output_type": "execute_result"
    }
   ],
   "source": [
    "df_new.head()"
   ]
  },
  {
   "cell_type": "code",
   "execution_count": 7,
   "metadata": {
    "ExecuteTime": {
     "end_time": "2019-04-16T04:40:39.685486Z",
     "start_time": "2019-04-16T04:40:39.680505Z"
    }
   },
   "outputs": [
    {
     "data": {
      "text/plain": [
       "(7470, 7)"
      ]
     },
     "execution_count": 7,
     "metadata": {},
     "output_type": "execute_result"
    }
   ],
   "source": [
    "df_new.shape"
   ]
  },
  {
   "cell_type": "code",
   "execution_count": 8,
   "metadata": {
    "ExecuteTime": {
     "end_time": "2019-04-16T04:40:39.964739Z",
     "start_time": "2019-04-16T04:40:39.958757Z"
    }
   },
   "outputs": [
    {
     "data": {
      "text/plain": [
       "True"
      ]
     },
     "execution_count": 8,
     "metadata": {},
     "output_type": "execute_result"
    }
   ],
   "source": [
    "df_new['lesion_id'].is_unique"
   ]
  },
  {
   "cell_type": "code",
   "execution_count": 9,
   "metadata": {
    "ExecuteTime": {
     "end_time": "2019-04-16T04:40:40.016600Z",
     "start_time": "2019-04-16T04:40:40.000642Z"
    },
    "scrolled": false
   },
   "outputs": [
    {
     "data": {
      "text/html": [
       "<div>\n",
       "<style scoped>\n",
       "    .dataframe tbody tr th:only-of-type {\n",
       "        vertical-align: middle;\n",
       "    }\n",
       "\n",
       "    .dataframe tbody tr th {\n",
       "        vertical-align: top;\n",
       "    }\n",
       "\n",
       "    .dataframe thead th {\n",
       "        text-align: right;\n",
       "    }\n",
       "</style>\n",
       "<table border=\"1\" class=\"dataframe\">\n",
       "  <thead>\n",
       "    <tr style=\"text-align: right;\">\n",
       "      <th></th>\n",
       "      <th>lesion_id</th>\n",
       "      <th>image_id</th>\n",
       "      <th>dx_type</th>\n",
       "      <th>age</th>\n",
       "      <th>sex</th>\n",
       "      <th>localization</th>\n",
       "    </tr>\n",
       "    <tr>\n",
       "      <th>dx</th>\n",
       "      <th></th>\n",
       "      <th></th>\n",
       "      <th></th>\n",
       "      <th></th>\n",
       "      <th></th>\n",
       "      <th></th>\n",
       "    </tr>\n",
       "  </thead>\n",
       "  <tbody>\n",
       "    <tr>\n",
       "      <th>akiec</th>\n",
       "      <td>228</td>\n",
       "      <td>228</td>\n",
       "      <td>228</td>\n",
       "      <td>228</td>\n",
       "      <td>228</td>\n",
       "      <td>228</td>\n",
       "    </tr>\n",
       "    <tr>\n",
       "      <th>bcc</th>\n",
       "      <td>327</td>\n",
       "      <td>327</td>\n",
       "      <td>327</td>\n",
       "      <td>327</td>\n",
       "      <td>327</td>\n",
       "      <td>327</td>\n",
       "    </tr>\n",
       "    <tr>\n",
       "      <th>bkl</th>\n",
       "      <td>727</td>\n",
       "      <td>727</td>\n",
       "      <td>727</td>\n",
       "      <td>718</td>\n",
       "      <td>727</td>\n",
       "      <td>727</td>\n",
       "    </tr>\n",
       "    <tr>\n",
       "      <th>df</th>\n",
       "      <td>73</td>\n",
       "      <td>73</td>\n",
       "      <td>73</td>\n",
       "      <td>73</td>\n",
       "      <td>73</td>\n",
       "      <td>73</td>\n",
       "    </tr>\n",
       "    <tr>\n",
       "      <th>mel</th>\n",
       "      <td>614</td>\n",
       "      <td>614</td>\n",
       "      <td>614</td>\n",
       "      <td>613</td>\n",
       "      <td>614</td>\n",
       "      <td>614</td>\n",
       "    </tr>\n",
       "    <tr>\n",
       "      <th>nv</th>\n",
       "      <td>5403</td>\n",
       "      <td>5403</td>\n",
       "      <td>5403</td>\n",
       "      <td>5361</td>\n",
       "      <td>5403</td>\n",
       "      <td>5403</td>\n",
       "    </tr>\n",
       "    <tr>\n",
       "      <th>vasc</th>\n",
       "      <td>98</td>\n",
       "      <td>98</td>\n",
       "      <td>98</td>\n",
       "      <td>98</td>\n",
       "      <td>98</td>\n",
       "      <td>98</td>\n",
       "    </tr>\n",
       "  </tbody>\n",
       "</table>\n",
       "</div>"
      ],
      "text/plain": [
       "       lesion_id  image_id  dx_type   age   sex  localization\n",
       "dx                                                           \n",
       "akiec        228       228      228   228   228           228\n",
       "bcc          327       327      327   327   327           327\n",
       "bkl          727       727      727   718   727           727\n",
       "df            73        73       73    73    73            73\n",
       "mel          614       614      614   613   614           614\n",
       "nv          5403      5403     5403  5361  5403          5403\n",
       "vasc          98        98       98    98    98            98"
      ]
     },
     "execution_count": 9,
     "metadata": {},
     "output_type": "execute_result"
    }
   ],
   "source": [
    "df_new.groupby('dx').count()"
   ]
  },
  {
   "cell_type": "code",
   "execution_count": 10,
   "metadata": {
    "ExecuteTime": {
     "end_time": "2019-04-16T04:40:40.312652Z",
     "start_time": "2019-04-16T04:40:40.252778Z"
    },
    "scrolled": false
   },
   "outputs": [
    {
     "name": "stderr",
     "output_type": "stream",
     "text": [
      "C:\\Users\\petra\\Anaconda3\\lib\\site-packages\\ipykernel_launcher.py:2: SettingWithCopyWarning: \n",
      "A value is trying to be set on a copy of a slice from a DataFrame.\n",
      "Try using .loc[row_indexer,col_indexer] = value instead\n",
      "\n",
      "See the caveats in the documentation: http://pandas.pydata.org/pandas-docs/stable/indexing.html#indexing-view-versus-copy\n",
      "  \n"
     ]
    }
   ],
   "source": [
    "#add .jpg extension to filepaths for every sample in image_id column\n",
    "df_new['image_id']=df_new['image_id'].apply(lambda x: x+'.jpg' )"
   ]
  },
  {
   "cell_type": "code",
   "execution_count": 11,
   "metadata": {
    "ExecuteTime": {
     "end_time": "2019-04-16T04:40:40.433332Z",
     "start_time": "2019-04-16T04:40:40.421329Z"
    }
   },
   "outputs": [
    {
     "data": {
      "text/html": [
       "<div>\n",
       "<style scoped>\n",
       "    .dataframe tbody tr th:only-of-type {\n",
       "        vertical-align: middle;\n",
       "    }\n",
       "\n",
       "    .dataframe tbody tr th {\n",
       "        vertical-align: top;\n",
       "    }\n",
       "\n",
       "    .dataframe thead th {\n",
       "        text-align: right;\n",
       "    }\n",
       "</style>\n",
       "<table border=\"1\" class=\"dataframe\">\n",
       "  <thead>\n",
       "    <tr style=\"text-align: right;\">\n",
       "      <th></th>\n",
       "      <th>lesion_id</th>\n",
       "      <th>image_id</th>\n",
       "      <th>dx</th>\n",
       "      <th>dx_type</th>\n",
       "      <th>age</th>\n",
       "      <th>sex</th>\n",
       "      <th>localization</th>\n",
       "    </tr>\n",
       "  </thead>\n",
       "  <tbody>\n",
       "    <tr>\n",
       "      <th>0</th>\n",
       "      <td>HAM_0000118</td>\n",
       "      <td>ISIC_0027419.jpg</td>\n",
       "      <td>bkl</td>\n",
       "      <td>histo</td>\n",
       "      <td>80.0</td>\n",
       "      <td>male</td>\n",
       "      <td>scalp</td>\n",
       "    </tr>\n",
       "    <tr>\n",
       "      <th>2</th>\n",
       "      <td>HAM_0002730</td>\n",
       "      <td>ISIC_0026769.jpg</td>\n",
       "      <td>bkl</td>\n",
       "      <td>histo</td>\n",
       "      <td>80.0</td>\n",
       "      <td>male</td>\n",
       "      <td>scalp</td>\n",
       "    </tr>\n",
       "    <tr>\n",
       "      <th>4</th>\n",
       "      <td>HAM_0001466</td>\n",
       "      <td>ISIC_0031633.jpg</td>\n",
       "      <td>bkl</td>\n",
       "      <td>histo</td>\n",
       "      <td>75.0</td>\n",
       "      <td>male</td>\n",
       "      <td>ear</td>\n",
       "    </tr>\n",
       "    <tr>\n",
       "      <th>6</th>\n",
       "      <td>HAM_0002761</td>\n",
       "      <td>ISIC_0029176.jpg</td>\n",
       "      <td>bkl</td>\n",
       "      <td>histo</td>\n",
       "      <td>60.0</td>\n",
       "      <td>male</td>\n",
       "      <td>face</td>\n",
       "    </tr>\n",
       "    <tr>\n",
       "      <th>8</th>\n",
       "      <td>HAM_0005132</td>\n",
       "      <td>ISIC_0025837.jpg</td>\n",
       "      <td>bkl</td>\n",
       "      <td>histo</td>\n",
       "      <td>70.0</td>\n",
       "      <td>female</td>\n",
       "      <td>back</td>\n",
       "    </tr>\n",
       "  </tbody>\n",
       "</table>\n",
       "</div>"
      ],
      "text/plain": [
       "     lesion_id          image_id   dx dx_type   age     sex localization\n",
       "0  HAM_0000118  ISIC_0027419.jpg  bkl   histo  80.0    male        scalp\n",
       "2  HAM_0002730  ISIC_0026769.jpg  bkl   histo  80.0    male        scalp\n",
       "4  HAM_0001466  ISIC_0031633.jpg  bkl   histo  75.0    male          ear\n",
       "6  HAM_0002761  ISIC_0029176.jpg  bkl   histo  60.0    male         face\n",
       "8  HAM_0005132  ISIC_0025837.jpg  bkl   histo  70.0  female         back"
      ]
     },
     "execution_count": 11,
     "metadata": {},
     "output_type": "execute_result"
    }
   ],
   "source": [
    "df_new.head()\n"
   ]
  },
  {
   "cell_type": "code",
   "execution_count": 12,
   "metadata": {
    "ExecuteTime": {
     "end_time": "2019-04-16T04:40:40.563945Z",
     "start_time": "2019-04-16T04:40:40.546991Z"
    }
   },
   "outputs": [
    {
     "data": {
      "text/html": [
       "<div>\n",
       "<style scoped>\n",
       "    .dataframe tbody tr th:only-of-type {\n",
       "        vertical-align: middle;\n",
       "    }\n",
       "\n",
       "    .dataframe tbody tr th {\n",
       "        vertical-align: top;\n",
       "    }\n",
       "\n",
       "    .dataframe thead th {\n",
       "        text-align: right;\n",
       "    }\n",
       "</style>\n",
       "<table border=\"1\" class=\"dataframe\">\n",
       "  <thead>\n",
       "    <tr style=\"text-align: right;\">\n",
       "      <th></th>\n",
       "      <th>image_id</th>\n",
       "      <th>dx</th>\n",
       "    </tr>\n",
       "  </thead>\n",
       "  <tbody>\n",
       "    <tr>\n",
       "      <th>0</th>\n",
       "      <td>ISIC_0027419.jpg</td>\n",
       "      <td>bkl</td>\n",
       "    </tr>\n",
       "    <tr>\n",
       "      <th>2</th>\n",
       "      <td>ISIC_0026769.jpg</td>\n",
       "      <td>bkl</td>\n",
       "    </tr>\n",
       "    <tr>\n",
       "      <th>4</th>\n",
       "      <td>ISIC_0031633.jpg</td>\n",
       "      <td>bkl</td>\n",
       "    </tr>\n",
       "    <tr>\n",
       "      <th>6</th>\n",
       "      <td>ISIC_0029176.jpg</td>\n",
       "      <td>bkl</td>\n",
       "    </tr>\n",
       "    <tr>\n",
       "      <th>8</th>\n",
       "      <td>ISIC_0025837.jpg</td>\n",
       "      <td>bkl</td>\n",
       "    </tr>\n",
       "  </tbody>\n",
       "</table>\n",
       "</div>"
      ],
      "text/plain": [
       "           image_id   dx\n",
       "0  ISIC_0027419.jpg  bkl\n",
       "2  ISIC_0026769.jpg  bkl\n",
       "4  ISIC_0031633.jpg  bkl\n",
       "6  ISIC_0029176.jpg  bkl\n",
       "8  ISIC_0025837.jpg  bkl"
      ]
     },
     "execution_count": 12,
     "metadata": {},
     "output_type": "execute_result"
    }
   ],
   "source": [
    "\n",
    "\n",
    "#keeping only relevant data, image filepath, and category\n",
    "df_new=df_new.loc[:,['image_id','dx']]\n",
    "\n",
    "\n",
    "df_new.head()\n",
    "\n"
   ]
  },
  {
   "cell_type": "code",
   "execution_count": 13,
   "metadata": {
    "ExecuteTime": {
     "end_time": "2019-04-16T04:40:40.721526Z",
     "start_time": "2019-04-16T04:40:40.712550Z"
    },
    "scrolled": true
   },
   "outputs": [
    {
     "data": {
      "text/plain": [
       "dx\n",
       "akiec     228\n",
       "bcc       327\n",
       "bkl       727\n",
       "df         73\n",
       "mel       614\n",
       "nv       5403\n",
       "vasc       98\n",
       "Name: dx, dtype: int64"
      ]
     },
     "execution_count": 13,
     "metadata": {},
     "output_type": "execute_result"
    }
   ],
   "source": [
    "df_new['dx'].groupby(df_new['dx']).count()"
   ]
  },
  {
   "cell_type": "code",
   "execution_count": 14,
   "metadata": {
    "ExecuteTime": {
     "end_time": "2019-04-16T04:40:40.832228Z",
     "start_time": "2019-04-16T04:40:40.823251Z"
    },
    "collapsed": true
   },
   "outputs": [],
   "source": [
    "#call bkl, mel and bcc cancer (1) and the rest not cancer (0)\n",
    "\n",
    "\n",
    "def binary_coder(sample):\n",
    "    if (sample =='mel') or (sample=='bcc') or (sample==\"akiec\"):\n",
    "        sample='1_cancer'\n",
    "    else:\n",
    "        sample='0_not_cancer'\n",
    "        \n",
    "    return sample\n",
    "    \n",
    "\n",
    "# def binary_coder(sample):\n",
    "#     if (sample =='mel') or (sample=='bcc') or (sample==\"akiec\"):\n",
    "#         sample='cancer'\n",
    "#         return sample\n",
    "\n",
    "#     else:\n",
    "#         sample='not cancer'\n",
    "#         return sample\n",
    "    \n",
    "df_new['dx'] = df_new['dx'].apply(binary_coder) \n",
    "\n",
    "\n",
    "# df.head()"
   ]
  },
  {
   "cell_type": "code",
   "execution_count": 15,
   "metadata": {
    "ExecuteTime": {
     "end_time": "2019-04-16T04:40:41.013670Z",
     "start_time": "2019-04-16T04:40:41.000704Z"
    },
    "scrolled": true
   },
   "outputs": [
    {
     "data": {
      "text/plain": [
       "dx\n",
       "0_not_cancer    6301\n",
       "1_cancer        1169\n",
       "Name: dx, dtype: int64"
      ]
     },
     "execution_count": 15,
     "metadata": {},
     "output_type": "execute_result"
    }
   ],
   "source": [
    "df_new['dx'].groupby(df_new['dx']).count()"
   ]
  },
  {
   "cell_type": "markdown",
   "metadata": {},
   "source": [
    "# Undersampling"
   ]
  },
  {
   "cell_type": "code",
   "execution_count": 16,
   "metadata": {
    "ExecuteTime": {
     "end_time": "2019-04-16T04:40:41.349770Z",
     "start_time": "2019-04-16T04:40:41.341792Z"
    },
    "collapsed": true
   },
   "outputs": [],
   "source": [
    "instances_of_cancer = len(df_new.loc[df_new['dx']=='1_cancer'])\n",
    "instances_of_not_cancer = len(df_new.loc[df_new['dx']=='0_not_cancer'])\n",
    "\n",
    "#ratio of cancer to not cancer\n",
    "\n",
    "# instances_of_not "
   ]
  },
  {
   "cell_type": "code",
   "execution_count": 17,
   "metadata": {
    "ExecuteTime": {
     "end_time": "2019-04-16T04:40:41.513582Z",
     "start_time": "2019-04-16T04:40:41.501614Z"
    }
   },
   "outputs": [
    {
     "data": {
      "text/plain": [
       "dx\n",
       "0_not_cancer    6301\n",
       "1_cancer        1169\n",
       "Name: dx, dtype: int64"
      ]
     },
     "execution_count": 17,
     "metadata": {},
     "output_type": "execute_result"
    }
   ],
   "source": [
    "df_new['dx'].groupby(df_new['dx']).count()"
   ]
  },
  {
   "cell_type": "code",
   "execution_count": 18,
   "metadata": {
    "ExecuteTime": {
     "end_time": "2019-04-16T04:40:41.746958Z",
     "start_time": "2019-04-16T04:40:41.737019Z"
    },
    "collapsed": true
   },
   "outputs": [],
   "source": [
    "balanced_df=df_new.drop(df_new[df_new['dx']=='0_not_cancer'].sample(frac=.8145).index)"
   ]
  },
  {
   "cell_type": "code",
   "execution_count": 19,
   "metadata": {
    "ExecuteTime": {
     "end_time": "2019-04-16T04:40:41.980361Z",
     "start_time": "2019-04-16T04:40:41.972355Z"
    }
   },
   "outputs": [
    {
     "data": {
      "text/plain": [
       "dx\n",
       "0_not_cancer    1169\n",
       "1_cancer        1169\n",
       "Name: dx, dtype: int64"
      ]
     },
     "execution_count": 19,
     "metadata": {},
     "output_type": "execute_result"
    }
   ],
   "source": [
    "balanced_df['dx'].groupby(balanced_df['dx']).count()"
   ]
  },
  {
   "cell_type": "code",
   "execution_count": 20,
   "metadata": {
    "ExecuteTime": {
     "end_time": "2019-04-16T04:40:42.260587Z",
     "start_time": "2019-04-16T04:40:42.249614Z"
    }
   },
   "outputs": [
    {
     "name": "stderr",
     "output_type": "stream",
     "text": [
      "C:\\Users\\petra\\Anaconda3\\lib\\site-packages\\sklearn\\model_selection\\_split.py:2026: FutureWarning: From version 0.21, test_size will always complement train_size unless both are specified.\n",
      "  FutureWarning)\n"
     ]
    }
   ],
   "source": [
    "df_train, df_test =train_test_split(balanced_df, train_size=.8, random_state =2, stratify=balanced_df['dx'])\n"
   ]
  },
  {
   "cell_type": "code",
   "execution_count": 21,
   "metadata": {
    "ExecuteTime": {
     "end_time": "2019-04-16T04:40:42.608673Z",
     "start_time": "2019-04-16T04:40:42.603690Z"
    },
    "run_control": {
     "marked": true
    }
   },
   "outputs": [
    {
     "name": "stdout",
     "output_type": "stream",
     "text": [
      "(1870, 2)\n",
      "(468, 2)\n"
     ]
    }
   ],
   "source": [
    "print(df_train.shape)\n",
    "print(df_test.shape)"
   ]
  },
  {
   "cell_type": "code",
   "execution_count": 22,
   "metadata": {
    "ExecuteTime": {
     "end_time": "2019-04-16T04:40:43.016587Z",
     "start_time": "2019-04-16T04:40:43.002624Z"
    }
   },
   "outputs": [
    {
     "data": {
      "text/html": [
       "<div>\n",
       "<style scoped>\n",
       "    .dataframe tbody tr th:only-of-type {\n",
       "        vertical-align: middle;\n",
       "    }\n",
       "\n",
       "    .dataframe tbody tr th {\n",
       "        vertical-align: top;\n",
       "    }\n",
       "\n",
       "    .dataframe thead th {\n",
       "        text-align: right;\n",
       "    }\n",
       "</style>\n",
       "<table border=\"1\" class=\"dataframe\">\n",
       "  <thead>\n",
       "    <tr style=\"text-align: right;\">\n",
       "      <th></th>\n",
       "      <th>image_id</th>\n",
       "      <th>dx</th>\n",
       "    </tr>\n",
       "  </thead>\n",
       "  <tbody>\n",
       "    <tr>\n",
       "      <th>2904</th>\n",
       "      <td>ISIC_0030094.jpg</td>\n",
       "      <td>1_cancer</td>\n",
       "    </tr>\n",
       "    <tr>\n",
       "      <th>2473</th>\n",
       "      <td>ISIC_0026760.jpg</td>\n",
       "      <td>1_cancer</td>\n",
       "    </tr>\n",
       "    <tr>\n",
       "      <th>9739</th>\n",
       "      <td>ISIC_0025539.jpg</td>\n",
       "      <td>1_cancer</td>\n",
       "    </tr>\n",
       "    <tr>\n",
       "      <th>2120</th>\n",
       "      <td>ISIC_0027071.jpg</td>\n",
       "      <td>1_cancer</td>\n",
       "    </tr>\n",
       "    <tr>\n",
       "      <th>3623</th>\n",
       "      <td>ISIC_0027331.jpg</td>\n",
       "      <td>0_not_cancer</td>\n",
       "    </tr>\n",
       "  </tbody>\n",
       "</table>\n",
       "</div>"
      ],
      "text/plain": [
       "              image_id            dx\n",
       "2904  ISIC_0030094.jpg      1_cancer\n",
       "2473  ISIC_0026760.jpg      1_cancer\n",
       "9739  ISIC_0025539.jpg      1_cancer\n",
       "2120  ISIC_0027071.jpg      1_cancer\n",
       "3623  ISIC_0027331.jpg  0_not_cancer"
      ]
     },
     "execution_count": 22,
     "metadata": {},
     "output_type": "execute_result"
    }
   ],
   "source": [
    "df_train.head()"
   ]
  },
  {
   "cell_type": "code",
   "execution_count": 23,
   "metadata": {
    "ExecuteTime": {
     "end_time": "2019-04-16T03:20:38.321967Z",
     "start_time": "2019-04-16T03:20:37.879670Z"
    }
   },
   "outputs": [
    {
     "name": "stdout",
     "output_type": "stream",
     "text": [
      "Found 1870 images belonging to 2 classes.\n",
      "Found 468 images belonging to 2 classes.\n"
     ]
    }
   ],
   "source": [
    "batch_size = 15\n",
    "image_dimensions = (150,150)\n",
    "\n",
    "train_gen = ImageDataGenerator(rescale = 1./255, rotation_range = 45, horizontal_flip = True, vertical_flip = True, width_shift_range=[-20,20], height_shift_range=[-20,20])\n",
    "test_gen = ImageDataGenerator(rescale = 1./255)\n",
    "\n",
    "# train_gen = im_gen.flow_from_directory(directory = '..\\Images\\All_images_in_classes', target_size=(50,50), color_mode='rgb', class_mode = 'categorical', batch_size =100, subset ='training')\n",
    "# test_gen = im_gen.flow_from_directory(directory = '..\\Images\\All_images_in_classes', target_size=(50,50), color_mode='rgb', class_mode = 'categorical', batch_size =100, subset = 'validation')\n",
    "\n",
    "train_gen=train_gen.flow_from_dataframe(dataframe=df_train, directory ='.\\All_Images', x_col='image_id', y_col='dx',target_size=image_dimensions, color_mode='grayscale', class_mode='binary', batch_size= batch_size)\n",
    "test_gen = test_gen.flow_from_dataframe(dataframe=df_test, directory ='.\\All_Images', x_col='image_id', y_col='dx',target_size=image_dimensions, color_mode='grayscale', class_mode='binary', batch_size= batch_size)\n"
   ]
  },
  {
   "cell_type": "code",
   "execution_count": 24,
   "metadata": {
    "ExecuteTime": {
     "end_time": "2019-04-16T03:20:38.981125Z",
     "start_time": "2019-04-16T03:20:38.977097Z"
    }
   },
   "outputs": [
    {
     "data": {
      "text/plain": [
       "{'0_not_cancer': 0, '1_cancer': 1}"
      ]
     },
     "execution_count": 24,
     "metadata": {},
     "output_type": "execute_result"
    }
   ],
   "source": [
    "train_gen.class_indices"
   ]
  },
  {
   "cell_type": "code",
   "execution_count": 25,
   "metadata": {
    "ExecuteTime": {
     "end_time": "2019-04-16T03:20:39.450082Z",
     "start_time": "2019-04-16T03:20:39.437118Z"
    }
   },
   "outputs": [
    {
     "data": {
      "text/html": [
       "<div>\n",
       "<style scoped>\n",
       "    .dataframe tbody tr th:only-of-type {\n",
       "        vertical-align: middle;\n",
       "    }\n",
       "\n",
       "    .dataframe tbody tr th {\n",
       "        vertical-align: top;\n",
       "    }\n",
       "\n",
       "    .dataframe thead th {\n",
       "        text-align: right;\n",
       "    }\n",
       "</style>\n",
       "<table border=\"1\" class=\"dataframe\">\n",
       "  <thead>\n",
       "    <tr style=\"text-align: right;\">\n",
       "      <th></th>\n",
       "      <th>image_id</th>\n",
       "    </tr>\n",
       "    <tr>\n",
       "      <th>dx</th>\n",
       "      <th></th>\n",
       "    </tr>\n",
       "  </thead>\n",
       "  <tbody>\n",
       "    <tr>\n",
       "      <th>0_not_cancer</th>\n",
       "      <td>935</td>\n",
       "    </tr>\n",
       "    <tr>\n",
       "      <th>1_cancer</th>\n",
       "      <td>935</td>\n",
       "    </tr>\n",
       "  </tbody>\n",
       "</table>\n",
       "</div>"
      ],
      "text/plain": [
       "              image_id\n",
       "dx                    \n",
       "0_not_cancer       935\n",
       "1_cancer           935"
      ]
     },
     "execution_count": 25,
     "metadata": {},
     "output_type": "execute_result"
    }
   ],
   "source": [
    "df_train.groupby('dx').count()"
   ]
  },
  {
   "cell_type": "markdown",
   "metadata": {},
   "source": [
    "# Defining Custom Metrics"
   ]
  },
  {
   "cell_type": "code",
   "execution_count": 23,
   "metadata": {
    "ExecuteTime": {
     "end_time": "2019-04-16T04:40:49.951940Z",
     "start_time": "2019-04-16T04:40:49.943964Z"
    },
    "collapsed": true
   },
   "outputs": [],
   "source": [
    "def precision(y_true, y_pred):\n",
    "        \"\"\"Precision metric.\n",
    "\n",
    "        Only computes a batch-wise average of precision.\n",
    "\n",
    "        Computes the precision, a metric for multi-label classification of\n",
    "        how many selected items are relevant.\n",
    "        \"\"\"\n",
    "        true_positives = K.sum(K.round(K.clip(y_true * y_pred, 0, 1)))\n",
    "        predicted_positives = K.sum(K.round(K.clip(y_pred, 0, 1)))\n",
    "        precision = true_positives / (predicted_positives + K.epsilon())\n",
    "        return precision\n",
    "    \n",
    "    \n",
    "\n",
    "def recall(y_true, y_pred):\n",
    "        \"\"\"Recall metric.\n",
    "\n",
    "        Only computes a batch-wise average of recall.\n",
    "\n",
    "        Computes the recall, a metric for multi-label classification of\n",
    "        how many relevant items are selected.\n",
    "        \"\"\"\n",
    "        true_positives = K.sum(K.round(K.clip(y_true * y_pred, 0, 1)))\n",
    "        possible_positives = K.sum(K.round(K.clip(y_true, 0, 1)))\n",
    "        recall = true_positives / (possible_positives + K.epsilon())\n",
    "        return recall\n",
    "    \n",
    "def f1(y_true, y_pred):\n",
    "    def recall(y_true, y_pred):\n",
    "        \"\"\"Recall metric.\n",
    "\n",
    "        Only computes a batch-wise average of recall.\n",
    "\n",
    "        Computes the recall, a metric for multi-label classification of\n",
    "        how many relevant items are selected.\n",
    "        \"\"\"\n",
    "        true_positives = K.sum(K.round(K.clip(y_true * y_pred, 0, 1)))\n",
    "        possible_positives = K.sum(K.round(K.clip(y_true, 0, 1)))\n",
    "        recall = true_positives / (possible_positives + K.epsilon())\n",
    "        return recall\n",
    "\n",
    "    def precision(y_true, y_pred):\n",
    "        \"\"\"Precision metric.\n",
    "\n",
    "        Only computes a batch-wise average of precision.\n",
    "\n",
    "        Computes the precision, a metric for multi-label classification of\n",
    "        how many selected items are relevant.\n",
    "        \"\"\"\n",
    "        true_positives = K.sum(K.round(K.clip(y_true * y_pred, 0, 1)))\n",
    "        predicted_positives = K.sum(K.round(K.clip(y_pred, 0, 1)))\n",
    "        precision = true_positives / (predicted_positives + K.epsilon())\n",
    "        return precision\n",
    "    precision = precision(y_true, y_pred)\n",
    "    recall = recall(y_true, y_pred)\n",
    "    return 2*((precision*recall)/(precision+recall+K.epsilon()))"
   ]
  },
  {
   "cell_type": "markdown",
   "metadata": {},
   "source": [
    "# Iteration 1"
   ]
  },
  {
   "cell_type": "code",
   "execution_count": 176,
   "metadata": {
    "ExecuteTime": {
     "end_time": "2019-04-14T21:57:17.086242Z",
     "start_time": "2019-04-14T21:57:16.652609Z"
    }
   },
   "outputs": [
    {
     "name": "stdout",
     "output_type": "stream",
     "text": [
      "_________________________________________________________________\n",
      "Layer (type)                 Output Shape              Param #   \n",
      "=================================================================\n",
      "conv2d_34 (Conv2D)           (None, 148, 148, 32)      320       \n",
      "_________________________________________________________________\n",
      "activation_12 (Activation)   (None, 148, 148, 32)      0         \n",
      "_________________________________________________________________\n",
      "max_pooling2d_34 (MaxPooling (None, 74, 74, 32)        0         \n",
      "_________________________________________________________________\n",
      "conv2d_35 (Conv2D)           (None, 72, 72, 32)        9248      \n",
      "_________________________________________________________________\n",
      "max_pooling2d_35 (MaxPooling (None, 36, 36, 32)        0         \n",
      "_________________________________________________________________\n",
      "conv2d_36 (Conv2D)           (None, 34, 34, 64)        18496     \n",
      "_________________________________________________________________\n",
      "max_pooling2d_36 (MaxPooling (None, 17, 17, 64)        0         \n",
      "_________________________________________________________________\n",
      "flatten_12 (Flatten)         (None, 18496)             0         \n",
      "_________________________________________________________________\n",
      "dense_23 (Dense)             (None, 64)                1183808   \n",
      "_________________________________________________________________\n",
      "dense_24 (Dense)             (None, 1)                 65        \n",
      "=================================================================\n",
      "Total params: 1,211,937\n",
      "Trainable params: 1,211,937\n",
      "Non-trainable params: 0\n",
      "_________________________________________________________________\n"
     ]
    }
   ],
   "source": [
    "\n",
    "input_into_first_layer = (150,150,1)\n",
    "\n",
    "model = Sequential()\n",
    "\n",
    "model.add(Conv2D(32, (3, 3),input_shape=input_into_first_layer))\n",
    "model.add(Activation('relu'))\n",
    "model.add(MaxPooling2D(pool_size=(2, 2)))\n",
    "\n",
    "model.add(Conv2D(32, (3, 3),activation = 'relu'))\n",
    "model.add(MaxPooling2D(pool_size=(2, 2) ))\n",
    "\n",
    "model.add(Conv2D(64, (3, 3), activation ='relu'))\n",
    "model.add(MaxPooling2D(pool_size=(2, 2)))\n",
    "\n",
    "model.add(Flatten())  # this converts our 3D feature maps to 1D feature vectors\n",
    "model.add(Dense(64, activation ='relu'))\n",
    "# model.add(Dropout(0.5))\n",
    "model.add(Dense(1, activation ='sigmoid'))\n",
    "# model.add(Activation('softmax'))\n",
    "\n",
    "model.compile(loss='binary_crossentropy',\n",
    "              optimizer='adam',\n",
    "              metrics=['binary_accuracy',recall, f1])\n",
    "\n",
    "model.summary()"
   ]
  },
  {
   "cell_type": "code",
   "execution_count": 177,
   "metadata": {
    "ExecuteTime": {
     "end_time": "2019-04-14T22:15:41.255933Z",
     "start_time": "2019-04-14T21:57:21.979277Z"
    },
    "scrolled": true
   },
   "outputs": [
    {
     "name": "stdout",
     "output_type": "stream",
     "text": [
      "Epoch 1/30\n",
      "125/125 [==============================] - 46s 369ms/step - loss: 1.1257 - binary_accuracy: 0.5000 - recall: 1.0000 - f1: 0.6580\n",
      "Epoch 2/30\n",
      "125/125 [==============================] - 36s 291ms/step - loss: 1.1069 - binary_accuracy: 0.4995 - recall: 0.9989 - f1: 0.6542\n",
      "Epoch 3/30\n",
      "125/125 [==============================] - 36s 287ms/step - loss: 1.0701 - binary_accuracy: 0.5141 - recall: 0.9716 - f1: 0.6568\n",
      "Epoch 4/30\n",
      "125/125 [==============================] - 37s 295ms/step - loss: 1.0542 - binary_accuracy: 0.5027 - recall: 0.9966 - f1: 0.6582\n",
      "Epoch 5/30\n",
      "125/125 [==============================] - 37s 293ms/step - loss: 1.0361 - binary_accuracy: 0.5315 - recall: 0.9786 - f1: 0.6666\n",
      "Epoch 6/30\n",
      "125/125 [==============================] - 37s 299ms/step - loss: 1.0560 - binary_accuracy: 0.5211 - recall: 0.9846 - f1: 0.6629\n",
      "Epoch 7/30\n",
      "125/125 [==============================] - 36s 291ms/step - loss: 0.9961 - binary_accuracy: 0.5512 - recall: 0.9780 - f1: 0.6740\n",
      "Epoch 8/30\n",
      "125/125 [==============================] - 36s 291ms/step - loss: 0.9656 - binary_accuracy: 0.5960 - recall: 0.9598 - f1: 0.6938\n",
      "Epoch 9/30\n",
      "125/125 [==============================] - 36s 288ms/step - loss: 0.9401 - binary_accuracy: 0.6192 - recall: 0.9656 - f1: 0.7101\n",
      "Epoch 10/30\n",
      "125/125 [==============================] - 38s 302ms/step - loss: 0.9344 - binary_accuracy: 0.6395 - recall: 0.9506 - f1: 0.7204\n",
      "Epoch 11/30\n",
      "125/125 [==============================] - 37s 299ms/step - loss: 0.9071 - binary_accuracy: 0.6437 - recall: 0.9593 - f1: 0.7232\n",
      "Epoch 12/30\n",
      "125/125 [==============================] - 36s 290ms/step - loss: 0.8906 - binary_accuracy: 0.6619 - recall: 0.9397 - f1: 0.7255\n",
      "Epoch 13/30\n",
      "125/125 [==============================] - 36s 291ms/step - loss: 0.8593 - binary_accuracy: 0.6904 - recall: 0.9460 - f1: 0.7448\n",
      "Epoch 14/30\n",
      "125/125 [==============================] - 36s 291ms/step - loss: 0.8688 - binary_accuracy: 0.6720 - recall: 0.9505 - f1: 0.7360\n",
      "Epoch 15/30\n",
      "125/125 [==============================] - 36s 290ms/step - loss: 0.8627 - binary_accuracy: 0.6997 - recall: 0.9352 - f1: 0.7434\n",
      "Epoch 16/30\n",
      "125/125 [==============================] - 36s 289ms/step - loss: 0.8274 - binary_accuracy: 0.7048 - recall: 0.9442 - f1: 0.7549\n",
      "Epoch 17/30\n",
      "125/125 [==============================] - 38s 300ms/step - loss: 0.8642 - binary_accuracy: 0.6925 - recall: 0.9349 - f1: 0.7457\n",
      "Epoch 18/30\n",
      "125/125 [==============================] - 37s 293ms/step - loss: 0.8556 - binary_accuracy: 0.6917 - recall: 0.9487 - f1: 0.7468\n",
      "Epoch 19/30\n",
      "125/125 [==============================] - 38s 305ms/step - loss: 0.8307 - binary_accuracy: 0.7051 - recall: 0.9383 - f1: 0.7539\n",
      "Epoch 20/30\n",
      "125/125 [==============================] - 36s 286ms/step - loss: 0.8059 - binary_accuracy: 0.7219 - recall: 0.9441 - f1: 0.7659\n",
      "Epoch 21/30\n",
      "125/125 [==============================] - 38s 300ms/step - loss: 0.7874 - binary_accuracy: 0.7320 - recall: 0.9376 - f1: 0.7678\n",
      "Epoch 22/30\n",
      "125/125 [==============================] - 37s 300ms/step - loss: 0.8137 - binary_accuracy: 0.7272 - recall: 0.9455 - f1: 0.7700\n",
      "Epoch 23/30\n",
      "125/125 [==============================] - 38s 300ms/step - loss: 0.7930 - binary_accuracy: 0.7365 - recall: 0.9481 - f1: 0.7695\n",
      "Epoch 24/30\n",
      "125/125 [==============================] - 36s 287ms/step - loss: 0.7685 - binary_accuracy: 0.7325 - recall: 0.9436 - f1: 0.7706\n",
      "Epoch 25/30\n",
      "125/125 [==============================] - 37s 294ms/step - loss: 0.7907 - binary_accuracy: 0.7264 - recall: 0.9394 - f1: 0.7647\n",
      "Epoch 26/30\n",
      "125/125 [==============================] - 37s 296ms/step - loss: 0.7700 - binary_accuracy: 0.7461 - recall: 0.9361 - f1: 0.7775\n",
      "Epoch 27/30\n",
      "125/125 [==============================] - 37s 294ms/step - loss: 0.7559 - binary_accuracy: 0.7424 - recall: 0.9330 - f1: 0.7735\n",
      "Epoch 28/30\n",
      "125/125 [==============================] - 35s 277ms/step - loss: 0.7483 - binary_accuracy: 0.7459 - recall: 0.9410 - f1: 0.7746\n",
      "Epoch 29/30\n",
      "125/125 [==============================] - 31s 250ms/step - loss: 0.7508 - binary_accuracy: 0.7456 - recall: 0.9382 - f1: 0.7784\n",
      "Epoch 30/30\n",
      "125/125 [==============================] - 31s 248ms/step - loss: 0.7459 - binary_accuracy: 0.7485 - recall: 0.9437 - f1: 0.7773\n"
     ]
    },
    {
     "data": {
      "text/plain": [
       "<keras.callbacks.History at 0x22b4a143cf8>"
      ]
     },
     "execution_count": 177,
     "metadata": {},
     "output_type": "execute_result"
    }
   ],
   "source": [
    "model.fit_generator(\n",
    "        train_gen,\n",
    "        steps_per_epoch=ceil(1870/batch_size),\n",
    "        epochs=30,\n",
    "        class_weight = {0:1,\n",
    "                        1:3}\n",
    ")"
   ]
  },
  {
   "cell_type": "code",
   "execution_count": 288,
   "metadata": {
    "ExecuteTime": {
     "end_time": "2019-04-13T23:39:54.352086Z",
     "start_time": "2019-04-13T23:39:45.084381Z"
    },
    "scrolled": true
   },
   "outputs": [
    {
     "data": {
      "text/plain": [
       "[0.5743401226324912,\n",
       " 0.7371795009344052,\n",
       " 0.9313949927305564,\n",
       " 0.7747461306743133]"
      ]
     },
     "execution_count": 288,
     "metadata": {},
     "output_type": "execute_result"
    }
   ],
   "source": [
    "model.evaluate_generator(test_gen, steps = len(test_gen))\n"
   ]
  },
  {
   "cell_type": "code",
   "execution_count": 178,
   "metadata": {
    "ExecuteTime": {
     "end_time": "2019-04-14T22:17:36.858806Z",
     "start_time": "2019-04-14T22:17:29.427767Z"
    }
   },
   "outputs": [
    {
     "data": {
      "text/plain": [
       "[0.5312961641794596,\n",
       " 0.7777777910232544,\n",
       " 0.8931728028334104,\n",
       " 0.7931332015074216]"
      ]
     },
     "execution_count": 178,
     "metadata": {},
     "output_type": "execute_result"
    }
   ],
   "source": [
    "model.evaluate_generator(test_gen, steps=len(test_gen))"
   ]
  },
  {
   "cell_type": "code",
   "execution_count": 183,
   "metadata": {
    "ExecuteTime": {
     "end_time": "2019-04-14T22:19:30.456197Z",
     "start_time": "2019-04-14T22:19:23.970831Z"
    }
   },
   "outputs": [
    {
     "data": {
      "text/plain": [
       "array([[0.9561094 ],\n",
       "       [0.9389213 ],\n",
       "       [0.9160671 ],\n",
       "       [0.32291675],\n",
       "       [0.8411027 ],\n",
       "       [0.9402746 ],\n",
       "       [0.91403186],\n",
       "       [0.55686784],\n",
       "       [0.6563827 ],\n",
       "       [0.9299679 ],\n",
       "       [0.6021623 ],\n",
       "       [0.8766493 ],\n",
       "       [0.01542564],\n",
       "       [0.44289583],\n",
       "       [0.43057498],\n",
       "       [0.8293996 ],\n",
       "       [0.5632729 ],\n",
       "       [0.95762   ],\n",
       "       [0.24148282],\n",
       "       [0.6365726 ],\n",
       "       [0.76565003],\n",
       "       [0.8827876 ],\n",
       "       [0.40634325],\n",
       "       [0.775023  ],\n",
       "       [0.91720414],\n",
       "       [0.8579552 ],\n",
       "       [0.9893608 ],\n",
       "       [0.26101786],\n",
       "       [0.7088862 ],\n",
       "       [0.11142515],\n",
       "       [0.038652  ],\n",
       "       [0.93577975],\n",
       "       [0.989998  ],\n",
       "       [0.11615637],\n",
       "       [0.9477804 ],\n",
       "       [0.21683529],\n",
       "       [0.05119297],\n",
       "       [0.49173635],\n",
       "       [0.04385802],\n",
       "       [0.95053375],\n",
       "       [0.19184756],\n",
       "       [0.48839357],\n",
       "       [0.94122285],\n",
       "       [0.98418206],\n",
       "       [0.7467841 ],\n",
       "       [0.9384419 ],\n",
       "       [0.9844174 ],\n",
       "       [0.8998034 ],\n",
       "       [0.86208105],\n",
       "       [0.98850876],\n",
       "       [0.97044057],\n",
       "       [0.9813443 ],\n",
       "       [0.8187072 ],\n",
       "       [0.24803993],\n",
       "       [0.5106698 ],\n",
       "       [0.900282  ],\n",
       "       [0.97493654],\n",
       "       [0.10006117],\n",
       "       [0.90488815],\n",
       "       [0.8889326 ],\n",
       "       [0.99760854],\n",
       "       [0.89696825],\n",
       "       [0.9374813 ],\n",
       "       [0.42667758],\n",
       "       [0.04929382],\n",
       "       [0.9043701 ],\n",
       "       [0.80308056],\n",
       "       [0.9588989 ],\n",
       "       [0.941975  ],\n",
       "       [0.06233498],\n",
       "       [0.06384352],\n",
       "       [0.37821007],\n",
       "       [0.5848437 ],\n",
       "       [0.8995636 ],\n",
       "       [0.22430374],\n",
       "       [0.98378336],\n",
       "       [0.2229253 ],\n",
       "       [0.549149  ],\n",
       "       [0.84350055],\n",
       "       [0.97398084],\n",
       "       [0.28930888],\n",
       "       [0.17040384],\n",
       "       [0.20650017],\n",
       "       [0.9797892 ],\n",
       "       [0.92244154],\n",
       "       [0.7327361 ],\n",
       "       [0.5134629 ],\n",
       "       [0.9133975 ],\n",
       "       [0.84521055],\n",
       "       [0.7381921 ],\n",
       "       [0.9231008 ],\n",
       "       [0.24052897],\n",
       "       [0.14630115],\n",
       "       [0.3595755 ],\n",
       "       [0.59908074],\n",
       "       [0.1194407 ],\n",
       "       [0.70365167],\n",
       "       [0.93541896],\n",
       "       [0.03541324],\n",
       "       [0.04981351],\n",
       "       [0.85758024],\n",
       "       [0.16107428],\n",
       "       [0.10068186],\n",
       "       [0.46214998],\n",
       "       [0.93162537],\n",
       "       [0.9843302 ],\n",
       "       [0.4975909 ],\n",
       "       [0.97805524],\n",
       "       [0.05275658],\n",
       "       [0.9194375 ],\n",
       "       [0.9359685 ],\n",
       "       [0.32097554],\n",
       "       [0.18783897],\n",
       "       [0.8737684 ],\n",
       "       [0.9559863 ],\n",
       "       [0.15196776],\n",
       "       [0.21603367],\n",
       "       [0.8154482 ],\n",
       "       [0.8175041 ],\n",
       "       [0.92323416],\n",
       "       [0.4004453 ],\n",
       "       [0.9795054 ],\n",
       "       [0.11029485],\n",
       "       [0.30957812],\n",
       "       [0.8761356 ],\n",
       "       [0.14242283],\n",
       "       [0.97182894],\n",
       "       [0.290765  ],\n",
       "       [0.17962271],\n",
       "       [0.0983105 ],\n",
       "       [0.8887867 ],\n",
       "       [0.6810026 ],\n",
       "       [0.65695465],\n",
       "       [0.9519316 ],\n",
       "       [0.9562902 ],\n",
       "       [0.012714  ],\n",
       "       [0.83619905],\n",
       "       [0.04274821],\n",
       "       [0.01678732],\n",
       "       [0.3391614 ],\n",
       "       [0.09557271],\n",
       "       [0.9643153 ],\n",
       "       [0.9169657 ],\n",
       "       [0.28974527],\n",
       "       [0.85400826],\n",
       "       [0.4726742 ],\n",
       "       [0.91259784],\n",
       "       [0.20155896],\n",
       "       [0.93784773],\n",
       "       [0.96629   ],\n",
       "       [0.9941825 ],\n",
       "       [0.08783635],\n",
       "       [0.99344885],\n",
       "       [0.9851645 ],\n",
       "       [0.8148453 ],\n",
       "       [0.42854887],\n",
       "       [0.08962822],\n",
       "       [0.8788079 ],\n",
       "       [0.03928852],\n",
       "       [0.18437678],\n",
       "       [0.9843271 ],\n",
       "       [0.9570667 ],\n",
       "       [0.02450348],\n",
       "       [0.9584875 ],\n",
       "       [0.87755805],\n",
       "       [0.07363388],\n",
       "       [0.9259077 ],\n",
       "       [0.8622815 ],\n",
       "       [0.04284358],\n",
       "       [0.9896771 ],\n",
       "       [0.66249806],\n",
       "       [0.42409238],\n",
       "       [0.91835505],\n",
       "       [0.84564376],\n",
       "       [0.9137412 ],\n",
       "       [0.8052106 ],\n",
       "       [0.9117526 ],\n",
       "       [0.9057118 ],\n",
       "       [0.95613194],\n",
       "       [0.9260386 ],\n",
       "       [0.89237607],\n",
       "       [0.7785708 ],\n",
       "       [0.19387558],\n",
       "       [0.27121973],\n",
       "       [0.82565683],\n",
       "       [0.4582227 ],\n",
       "       [0.06509584],\n",
       "       [0.9823594 ],\n",
       "       [0.1168189 ],\n",
       "       [0.9659126 ],\n",
       "       [0.45432776],\n",
       "       [0.9663788 ],\n",
       "       [0.93490195],\n",
       "       [0.45293397],\n",
       "       [0.9710815 ],\n",
       "       [0.867808  ],\n",
       "       [0.39062726],\n",
       "       [0.64955485],\n",
       "       [0.9845871 ],\n",
       "       [0.33186805],\n",
       "       [0.80324906],\n",
       "       [0.9962877 ],\n",
       "       [0.9979923 ],\n",
       "       [0.08090729],\n",
       "       [0.34423813],\n",
       "       [0.9871001 ],\n",
       "       [0.9019436 ],\n",
       "       [0.13035074],\n",
       "       [0.88624644],\n",
       "       [0.98252493],\n",
       "       [0.08927876],\n",
       "       [0.7390572 ],\n",
       "       [0.9709411 ],\n",
       "       [0.97805727],\n",
       "       [0.18914053],\n",
       "       [0.9396001 ],\n",
       "       [0.99442285],\n",
       "       [0.9226408 ],\n",
       "       [0.1242736 ],\n",
       "       [0.76667047],\n",
       "       [0.7934042 ],\n",
       "       [0.06360924],\n",
       "       [0.13085888],\n",
       "       [0.6109269 ],\n",
       "       [0.34711927],\n",
       "       [0.91001093],\n",
       "       [0.8893806 ],\n",
       "       [0.80805385],\n",
       "       [0.9392222 ],\n",
       "       [0.39194983],\n",
       "       [0.9531702 ],\n",
       "       [0.9906845 ],\n",
       "       [0.9544357 ],\n",
       "       [0.8390833 ],\n",
       "       [0.61796004],\n",
       "       [0.06337348],\n",
       "       [0.9460622 ],\n",
       "       [0.6746231 ],\n",
       "       [0.9238776 ],\n",
       "       [0.4694143 ],\n",
       "       [0.90531635],\n",
       "       [0.2762353 ],\n",
       "       [0.0840238 ],\n",
       "       [0.9689638 ],\n",
       "       [0.9820871 ],\n",
       "       [0.8351591 ],\n",
       "       [0.69319576],\n",
       "       [0.9329107 ],\n",
       "       [0.88787615],\n",
       "       [0.97228074],\n",
       "       [0.88611746],\n",
       "       [0.61541724],\n",
       "       [0.13449313],\n",
       "       [0.13055843],\n",
       "       [0.84843606],\n",
       "       [0.73087406],\n",
       "       [0.91155833],\n",
       "       [0.8203436 ],\n",
       "       [0.15261754],\n",
       "       [0.06677419],\n",
       "       [0.6856583 ],\n",
       "       [0.37170792],\n",
       "       [0.2621479 ],\n",
       "       [0.8684662 ],\n",
       "       [0.541752  ],\n",
       "       [0.36761147],\n",
       "       [0.48248905],\n",
       "       [0.79631436],\n",
       "       [0.4509582 ],\n",
       "       [0.96470416],\n",
       "       [0.8503158 ],\n",
       "       [0.92413163],\n",
       "       [0.94055724],\n",
       "       [0.899196  ],\n",
       "       [0.9570065 ],\n",
       "       [0.15994066],\n",
       "       [0.23656854],\n",
       "       [0.75433326],\n",
       "       [0.9245018 ],\n",
       "       [0.9852596 ],\n",
       "       [0.83608526],\n",
       "       [0.5745051 ],\n",
       "       [0.49434748],\n",
       "       [0.9569673 ],\n",
       "       [0.93864906],\n",
       "       [0.71149373],\n",
       "       [0.9296293 ],\n",
       "       [0.63695437],\n",
       "       [0.5809089 ],\n",
       "       [0.70529485],\n",
       "       [0.9704726 ],\n",
       "       [0.06184599],\n",
       "       [0.8051348 ],\n",
       "       [0.60324717],\n",
       "       [0.5718831 ],\n",
       "       [0.91568244],\n",
       "       [0.8617053 ],\n",
       "       [0.19987234],\n",
       "       [0.9820255 ],\n",
       "       [0.02715294],\n",
       "       [0.0493277 ],\n",
       "       [0.1502831 ],\n",
       "       [0.04077575],\n",
       "       [0.0835084 ],\n",
       "       [0.14096215],\n",
       "       [0.74125284],\n",
       "       [0.9739741 ],\n",
       "       [0.06910411],\n",
       "       [0.7781247 ],\n",
       "       [0.11359137],\n",
       "       [0.11037225],\n",
       "       [0.00743338],\n",
       "       [0.94017386],\n",
       "       [0.26964182],\n",
       "       [0.4977939 ],\n",
       "       [0.7890973 ],\n",
       "       [0.79397345],\n",
       "       [0.08826393],\n",
       "       [0.36807764],\n",
       "       [0.00981289],\n",
       "       [0.8440269 ],\n",
       "       [0.5958187 ],\n",
       "       [0.6474035 ],\n",
       "       [0.7697176 ],\n",
       "       [0.9270915 ],\n",
       "       [0.13060445],\n",
       "       [0.8282201 ],\n",
       "       [0.04451856],\n",
       "       [0.5926044 ],\n",
       "       [0.98221797],\n",
       "       [0.98871756],\n",
       "       [0.7245221 ],\n",
       "       [0.01629993],\n",
       "       [0.11829105],\n",
       "       [0.9910909 ],\n",
       "       [0.03423595],\n",
       "       [0.75621486],\n",
       "       [0.9372184 ],\n",
       "       [0.98197186],\n",
       "       [0.10791728],\n",
       "       [0.84471786],\n",
       "       [0.7406998 ],\n",
       "       [0.13186516],\n",
       "       [0.06469072],\n",
       "       [0.48642796],\n",
       "       [0.8736824 ],\n",
       "       [0.9912051 ],\n",
       "       [0.88550687],\n",
       "       [0.97103244],\n",
       "       [0.979618  ],\n",
       "       [0.81012475],\n",
       "       [0.25533426],\n",
       "       [0.82030594],\n",
       "       [0.20842671],\n",
       "       [0.89290637],\n",
       "       [0.9640301 ],\n",
       "       [0.92622507],\n",
       "       [0.35883716],\n",
       "       [0.9396382 ],\n",
       "       [0.8040278 ],\n",
       "       [0.88708967],\n",
       "       [0.8904966 ],\n",
       "       [0.18978643],\n",
       "       [0.07249588],\n",
       "       [0.9764898 ],\n",
       "       [0.83295965],\n",
       "       [0.68541163],\n",
       "       [0.84932923],\n",
       "       [0.8474382 ],\n",
       "       [0.93099856],\n",
       "       [0.6478323 ],\n",
       "       [0.3904956 ],\n",
       "       [0.8947835 ],\n",
       "       [0.7635738 ],\n",
       "       [0.89760184],\n",
       "       [0.78085554],\n",
       "       [0.91645736],\n",
       "       [0.38786137],\n",
       "       [0.7202033 ],\n",
       "       [0.9729913 ],\n",
       "       [0.18657488],\n",
       "       [0.9387839 ],\n",
       "       [0.06377926],\n",
       "       [0.21001297],\n",
       "       [0.38588724],\n",
       "       [0.925694  ],\n",
       "       [0.38560653],\n",
       "       [0.12127647],\n",
       "       [0.6957375 ],\n",
       "       [0.4593301 ],\n",
       "       [0.04600894],\n",
       "       [0.296203  ],\n",
       "       [0.9679451 ],\n",
       "       [0.9674094 ],\n",
       "       [0.218929  ],\n",
       "       [0.1638583 ],\n",
       "       [0.13425583],\n",
       "       [0.24444583],\n",
       "       [0.10792056],\n",
       "       [0.18224356],\n",
       "       [0.91358113],\n",
       "       [0.6141768 ],\n",
       "       [0.958807  ],\n",
       "       [0.96443284],\n",
       "       [0.7077629 ],\n",
       "       [0.96992373],\n",
       "       [0.27728736],\n",
       "       [0.8079118 ],\n",
       "       [0.00679913],\n",
       "       [0.9252808 ],\n",
       "       [0.9410486 ],\n",
       "       [0.26185784],\n",
       "       [0.3978427 ],\n",
       "       [0.0435518 ],\n",
       "       [0.10895768],\n",
       "       [0.0604417 ],\n",
       "       [0.81481576],\n",
       "       [0.33924553],\n",
       "       [0.6514933 ],\n",
       "       [0.94988656],\n",
       "       [0.62980676],\n",
       "       [0.70726764],\n",
       "       [0.93487954],\n",
       "       [0.8767932 ],\n",
       "       [0.9960774 ],\n",
       "       [0.8519073 ],\n",
       "       [0.94863594],\n",
       "       [0.9905108 ],\n",
       "       [0.2517026 ],\n",
       "       [0.0838241 ],\n",
       "       [0.62111664],\n",
       "       [0.9198664 ],\n",
       "       [0.01811886],\n",
       "       [0.9967257 ],\n",
       "       [0.34231457],\n",
       "       [0.37702313],\n",
       "       [0.8750336 ],\n",
       "       [0.71925133],\n",
       "       [0.9047561 ],\n",
       "       [0.9722929 ],\n",
       "       [0.45735028],\n",
       "       [0.78696096],\n",
       "       [0.9794246 ],\n",
       "       [0.72095406],\n",
       "       [0.4268924 ],\n",
       "       [0.36849082],\n",
       "       [0.93441784],\n",
       "       [0.91407204],\n",
       "       [0.806353  ],\n",
       "       [0.20133665],\n",
       "       [0.16173257],\n",
       "       [0.9903183 ],\n",
       "       [0.07929597],\n",
       "       [0.3423146 ],\n",
       "       [0.2229253 ],\n",
       "       [0.91835505],\n",
       "       [0.08826393],\n",
       "       [0.93099856],\n",
       "       [0.9960774 ],\n",
       "       [0.0604417 ],\n",
       "       [0.9374813 ],\n",
       "       [0.8750336 ],\n",
       "       [0.9238776 ],\n",
       "       [0.8390833 ],\n",
       "       [0.9498866 ],\n",
       "       [0.9256939 ],\n",
       "       [0.4593301 ],\n",
       "       [0.04338876]], dtype=float32)"
      ]
     },
     "execution_count": 183,
     "metadata": {},
     "output_type": "execute_result"
    }
   ],
   "source": [
    "model.predict_generator(test_gen, steps=len(test_gen))"
   ]
  },
  {
   "cell_type": "code",
   "execution_count": 70,
   "metadata": {
    "ExecuteTime": {
     "end_time": "2019-04-14T03:00:52.367355Z",
     "start_time": "2019-04-14T03:00:52.362404Z"
    }
   },
   "outputs": [
    {
     "data": {
      "text/plain": [
       "32"
      ]
     },
     "execution_count": 70,
     "metadata": {},
     "output_type": "execute_result"
    }
   ],
   "source": [
    "len(test_gen)"
   ]
  },
  {
   "cell_type": "markdown",
   "metadata": {},
   "source": [
    "# Predicting on a single image Without ImageDataGenerator class"
   ]
  },
  {
   "cell_type": "code",
   "execution_count": 106,
   "metadata": {
    "ExecuteTime": {
     "end_time": "2019-04-16T17:10:49.139635Z",
     "start_time": "2019-04-16T17:10:49.136609Z"
    },
    "collapsed": true
   },
   "outputs": [],
   "source": [
    "import cv2 as cv\n",
    "import matplotlib.pyplot as plt"
   ]
  },
  {
   "cell_type": "code",
   "execution_count": 107,
   "metadata": {
    "ExecuteTime": {
     "end_time": "2019-04-16T17:10:49.672589Z",
     "start_time": "2019-04-16T17:10:49.462737Z"
    },
    "scrolled": false
   },
   "outputs": [
    {
     "data": {
      "text/plain": [
       "<matplotlib.image.AxesImage at 0x2681afb2d68>"
      ]
     },
     "execution_count": 107,
     "metadata": {},
     "output_type": "execute_result"
    },
    {
     "data": {
      "image/png": "[encoded data removed]",
      "text/plain": [
       "<Figure size 432x288 with 1 Axes>"
      ]
     },
     "metadata": {},
     "output_type": "display_data"
    }
   ],
   "source": [
    "img = cv.imread('mole.jpg',cv.IMREAD_GRAYSCALE)\n",
    "plt.imshow(img)\n",
    "\n"
   ]
  },
  {
   "cell_type": "code",
   "execution_count": 108,
   "metadata": {
    "ExecuteTime": {
     "end_time": "2019-04-16T17:10:49.861656Z",
     "start_time": "2019-04-16T17:10:49.857095Z"
    }
   },
   "outputs": [
    {
     "data": {
      "text/plain": [
       "(720, 960)"
      ]
     },
     "execution_count": 108,
     "metadata": {},
     "output_type": "execute_result"
    }
   ],
   "source": [
    "img.shape"
   ]
  },
  {
   "cell_type": "code",
   "execution_count": 109,
   "metadata": {
    "ExecuteTime": {
     "end_time": "2019-04-16T17:10:50.232213Z",
     "start_time": "2019-04-16T17:10:50.228657Z"
    },
    "collapsed": true
   },
   "outputs": [],
   "source": [
    "def pre_process(img):\n",
    "    img=cv.resize(img,(150,150))\n",
    "    img=img/255.0\n",
    "    img=img.reshape(1,150,150,-1)\n",
    "#     img=np.array([img])\n",
    "    return img\n",
    "\n"
   ]
  },
  {
   "cell_type": "code",
   "execution_count": 110,
   "metadata": {
    "ExecuteTime": {
     "end_time": "2019-04-16T17:10:50.762541Z",
     "start_time": "2019-04-16T17:10:50.758585Z"
    },
    "collapsed": true
   },
   "outputs": [],
   "source": [
    "image=pre_process(img)"
   ]
  },
  {
   "cell_type": "code",
   "execution_count": 111,
   "metadata": {
    "ExecuteTime": {
     "end_time": "2019-04-16T17:10:51.962002Z",
     "start_time": "2019-04-16T17:10:51.958049Z"
    }
   },
   "outputs": [
    {
     "data": {
      "text/plain": [
       "(1, 150, 150, 1)"
      ]
     },
     "execution_count": 111,
     "metadata": {},
     "output_type": "execute_result"
    }
   ],
   "source": [
    "image.shape"
   ]
  },
  {
   "cell_type": "code",
   "execution_count": 112,
   "metadata": {
    "ExecuteTime": {
     "end_time": "2019-04-16T17:10:52.520686Z",
     "start_time": "2019-04-16T17:10:52.511746Z"
    }
   },
   "outputs": [
    {
     "data": {
      "text/plain": [
       "array([[0.64714396]], dtype=float32)"
      ]
     },
     "execution_count": 112,
     "metadata": {},
     "output_type": "execute_result"
    }
   ],
   "source": [
    "model_2.predict(image)"
   ]
  },
  {
   "cell_type": "code",
   "execution_count": 113,
   "metadata": {
    "ExecuteTime": {
     "end_time": "2019-04-16T17:11:03.015048Z",
     "start_time": "2019-04-16T17:11:02.816581Z"
    },
    "scrolled": true
   },
   "outputs": [
    {
     "data": {
      "text/plain": [
       "<matplotlib.image.AxesImage at 0x2681c745780>"
      ]
     },
     "execution_count": 113,
     "metadata": {},
     "output_type": "execute_result"
    },
    {
     "data": {
      "image/png": "[encoded data removed]",
      "text/plain": [
       "<Figure size 432x288 with 1 Axes>"
      ]
     },
     "metadata": {},
     "output_type": "display_data"
    }
   ],
   "source": [
    "img2=cv.imread('mole.jpg',cv.IMREAD_GRAYSCALE)\n",
    "plt.imshow(img2)"
   ]
  },
  {
   "cell_type": "code",
   "execution_count": 114,
   "metadata": {
    "ExecuteTime": {
     "end_time": "2019-04-16T17:11:03.628776Z",
     "start_time": "2019-04-16T17:11:03.220192Z"
    }
   },
   "outputs": [
    {
     "data": {
      "text/plain": [
       "<matplotlib.image.AxesImage at 0x26831ebbc18>"
      ]
     },
     "execution_count": 114,
     "metadata": {},
     "output_type": "execute_result"
    },
    {
     "data": {
      "image/png": "[encoded data removed]",
      "text/plain": [
       "<Figure size 432x288 with 4 Axes>"
      ]
     },
     "metadata": {},
     "output_type": "display_data"
    }
   ],
   "source": [
    "fig,(ax1,ax2)=plt.subplots(2,2)\n",
    "ax1[0].imshow(img2)"
   ]
  },
  {
   "cell_type": "code",
   "execution_count": 115,
   "metadata": {
    "ExecuteTime": {
     "end_time": "2019-04-16T17:11:03.820992Z",
     "start_time": "2019-04-16T17:11:03.815482Z"
    },
    "collapsed": true
   },
   "outputs": [],
   "source": [
    "\n",
    "image2=pre_process(img2)\n"
   ]
  },
  {
   "cell_type": "code",
   "execution_count": 116,
   "metadata": {
    "ExecuteTime": {
     "end_time": "2019-04-16T17:11:04.060951Z",
     "start_time": "2019-04-16T17:11:04.055962Z"
    }
   },
   "outputs": [
    {
     "data": {
      "text/plain": [
       "(1, 150, 150, 1)"
      ]
     },
     "execution_count": 116,
     "metadata": {},
     "output_type": "execute_result"
    }
   ],
   "source": [
    "image2.shape"
   ]
  },
  {
   "cell_type": "code",
   "execution_count": 118,
   "metadata": {
    "ExecuteTime": {
     "end_time": "2019-04-16T17:11:09.477930Z",
     "start_time": "2019-04-16T17:11:09.469171Z"
    }
   },
   "outputs": [
    {
     "data": {
      "text/plain": [
       "array([[0.64714396]], dtype=float32)"
      ]
     },
     "execution_count": 118,
     "metadata": {},
     "output_type": "execute_result"
    }
   ],
   "source": [
    "model_2.predict(image2)"
   ]
  },
  {
   "cell_type": "markdown",
   "metadata": {},
   "source": [
    "# Trying Individual Image with ImageDataGenerator class"
   ]
  },
  {
   "cell_type": "code",
   "execution_count": 4,
   "metadata": {
    "ExecuteTime": {
     "end_time": "2019-04-15T21:00:23.250106Z",
     "start_time": "2019-04-15T21:00:23.240133Z"
    }
   },
   "outputs": [
    {
     "ename": "NameError",
     "evalue": "name 'ImageDataGenerator' is not defined",
     "output_type": "error",
     "traceback": [
      "\u001b[1;31m---------------------------------------------------------------------------\u001b[0m",
      "\u001b[1;31mNameError\u001b[0m                                 Traceback (most recent call last)",
      "\u001b[1;32m<ipython-input-4-6418fdbbaa96>\u001b[0m in \u001b[0;36m<module>\u001b[1;34m()\u001b[0m\n\u001b[1;32m----> 1\u001b[1;33m \u001b[0mtest_gen_ind\u001b[0m \u001b[1;33m=\u001b[0m \u001b[0mImageDataGenerator\u001b[0m\u001b[1;33m(\u001b[0m\u001b[0mrescale\u001b[0m \u001b[1;33m=\u001b[0m \u001b[1;36m1.\u001b[0m\u001b[1;33m/\u001b[0m\u001b[1;36m255\u001b[0m\u001b[1;33m)\u001b[0m\u001b[1;33m\u001b[0m\u001b[0m\n\u001b[0m",
      "\u001b[1;31mNameError\u001b[0m: name 'ImageDataGenerator' is not defined"
     ]
    }
   ],
   "source": [
    "test_gen_ind = ImageDataGenerator(rescale = 1./255)\n"
   ]
  },
  {
   "cell_type": "code",
   "execution_count": 315,
   "metadata": {
    "ExecuteTime": {
     "end_time": "2019-04-13T23:47:59.528231Z",
     "start_time": "2019-04-13T23:47:59.520806Z"
    }
   },
   "outputs": [
    {
     "data": {
      "text/html": [
       "<div>\n",
       "<style scoped>\n",
       "    .dataframe tbody tr th:only-of-type {\n",
       "        vertical-align: middle;\n",
       "    }\n",
       "\n",
       "    .dataframe tbody tr th {\n",
       "        vertical-align: top;\n",
       "    }\n",
       "\n",
       "    .dataframe thead th {\n",
       "        text-align: right;\n",
       "    }\n",
       "</style>\n",
       "<table border=\"1\" class=\"dataframe\">\n",
       "  <thead>\n",
       "    <tr style=\"text-align: right;\">\n",
       "      <th></th>\n",
       "      <th>image_id</th>\n",
       "      <th>dx</th>\n",
       "    </tr>\n",
       "  </thead>\n",
       "  <tbody>\n",
       "    <tr>\n",
       "      <th>1964</th>\n",
       "      <td>ISIC_0026352.jpg</td>\n",
       "      <td>1_cancer</td>\n",
       "    </tr>\n",
       "    <tr>\n",
       "      <th>358</th>\n",
       "      <td>ISIC_0029522.jpg</td>\n",
       "      <td>0_not_cancer</td>\n",
       "    </tr>\n",
       "    <tr>\n",
       "      <th>1773</th>\n",
       "      <td>ISIC_0032462.jpg</td>\n",
       "      <td>1_cancer</td>\n",
       "    </tr>\n",
       "    <tr>\n",
       "      <th>9784</th>\n",
       "      <td>ISIC_0030341.jpg</td>\n",
       "      <td>1_cancer</td>\n",
       "    </tr>\n",
       "    <tr>\n",
       "      <th>1253</th>\n",
       "      <td>ISIC_0031953.jpg</td>\n",
       "      <td>1_cancer</td>\n",
       "    </tr>\n",
       "  </tbody>\n",
       "</table>\n",
       "</div>"
      ],
      "text/plain": [
       "              image_id            dx\n",
       "1964  ISIC_0026352.jpg      1_cancer\n",
       "358   ISIC_0029522.jpg  0_not_cancer\n",
       "1773  ISIC_0032462.jpg      1_cancer\n",
       "9784  ISIC_0030341.jpg      1_cancer\n",
       "1253  ISIC_0031953.jpg      1_cancer"
      ]
     },
     "execution_count": 315,
     "metadata": {},
     "output_type": "execute_result"
    }
   ],
   "source": [
    "df_test.head()"
   ]
  },
  {
   "cell_type": "code",
   "execution_count": 316,
   "metadata": {
    "ExecuteTime": {
     "end_time": "2019-04-13T23:48:05.804694Z",
     "start_time": "2019-04-13T23:48:05.801700Z"
    },
    "collapsed": true
   },
   "outputs": [],
   "source": [
    "ind_test=df_test.iloc[0:2,:]"
   ]
  },
  {
   "cell_type": "code",
   "execution_count": 317,
   "metadata": {
    "ExecuteTime": {
     "end_time": "2019-04-13T23:48:07.563929Z",
     "start_time": "2019-04-13T23:48:07.557024Z"
    }
   },
   "outputs": [
    {
     "data": {
      "text/html": [
       "<div>\n",
       "<style scoped>\n",
       "    .dataframe tbody tr th:only-of-type {\n",
       "        vertical-align: middle;\n",
       "    }\n",
       "\n",
       "    .dataframe tbody tr th {\n",
       "        vertical-align: top;\n",
       "    }\n",
       "\n",
       "    .dataframe thead th {\n",
       "        text-align: right;\n",
       "    }\n",
       "</style>\n",
       "<table border=\"1\" class=\"dataframe\">\n",
       "  <thead>\n",
       "    <tr style=\"text-align: right;\">\n",
       "      <th></th>\n",
       "      <th>image_id</th>\n",
       "      <th>dx</th>\n",
       "    </tr>\n",
       "  </thead>\n",
       "  <tbody>\n",
       "    <tr>\n",
       "      <th>1964</th>\n",
       "      <td>ISIC_0026352.jpg</td>\n",
       "      <td>1_cancer</td>\n",
       "    </tr>\n",
       "    <tr>\n",
       "      <th>358</th>\n",
       "      <td>ISIC_0029522.jpg</td>\n",
       "      <td>0_not_cancer</td>\n",
       "    </tr>\n",
       "  </tbody>\n",
       "</table>\n",
       "</div>"
      ],
      "text/plain": [
       "              image_id            dx\n",
       "1964  ISIC_0026352.jpg      1_cancer\n",
       "358   ISIC_0029522.jpg  0_not_cancer"
      ]
     },
     "execution_count": 317,
     "metadata": {},
     "output_type": "execute_result"
    }
   ],
   "source": [
    "ind_test"
   ]
  },
  {
   "cell_type": "code",
   "execution_count": 318,
   "metadata": {
    "ExecuteTime": {
     "end_time": "2019-04-13T23:48:08.228207Z",
     "start_time": "2019-04-13T23:48:08.218390Z"
    }
   },
   "outputs": [
    {
     "name": "stdout",
     "output_type": "stream",
     "text": [
      "Found 2 images belonging to 2 classes.\n"
     ]
    }
   ],
   "source": [
    "test_gen_ind = test_gen_ind.flow_from_dataframe(dataframe=ind_test, directory ='.\\All_Images', x_col='image_id', y_col='dx',target_size=image_dimensions, color_mode='grayscale', class_mode='binary', batch_size= 3)\n"
   ]
  },
  {
   "cell_type": "code",
   "execution_count": 319,
   "metadata": {
    "ExecuteTime": {
     "end_time": "2019-04-13T23:48:14.196901Z",
     "start_time": "2019-04-13T23:48:14.191976Z"
    }
   },
   "outputs": [
    {
     "data": {
      "text/plain": [
       "1"
      ]
     },
     "execution_count": 319,
     "metadata": {},
     "output_type": "execute_result"
    }
   ],
   "source": [
    "len(test_gen_ind)"
   ]
  },
  {
   "cell_type": "code",
   "execution_count": 320,
   "metadata": {
    "ExecuteTime": {
     "end_time": "2019-04-13T23:48:21.799754Z",
     "start_time": "2019-04-13T23:48:21.533517Z"
    }
   },
   "outputs": [
    {
     "data": {
      "text/plain": [
       "[1.3705891370773315, 0.5, 0.9999998807907104, 0.666666567325592]"
      ]
     },
     "execution_count": 320,
     "metadata": {},
     "output_type": "execute_result"
    }
   ],
   "source": [
    "model.evaluate_generator(generator=test_gen_ind,steps=1)"
   ]
  },
  {
   "cell_type": "code",
   "execution_count": 329,
   "metadata": {
    "ExecuteTime": {
     "end_time": "2019-04-14T01:27:44.242761Z",
     "start_time": "2019-04-14T01:27:44.202569Z"
    },
    "scrolled": false
   },
   "outputs": [
    {
     "name": "stdout",
     "output_type": "stream",
     "text": [
      "\r",
      "1/1 [==============================] - 0s 31ms/step\n"
     ]
    },
    {
     "data": {
      "text/plain": [
       "array([[0.9075566],\n",
       "       [0.6976628]], dtype=float32)"
      ]
     },
     "execution_count": 329,
     "metadata": {},
     "output_type": "execute_result"
    }
   ],
   "source": [
    "model.predict_generator(generator=test_gen_ind, verbose=1, steps = 1)"
   ]
  },
  {
   "cell_type": "markdown",
   "metadata": {},
   "source": [
    "### ISIC_0026352.jpg\t(cancer)"
   ]
  },
  {
   "cell_type": "markdown",
   "metadata": {},
   "source": [
    "<img src=\".\\All_Images\\ISIC_0026352.jpg\">"
   ]
  },
  {
   "cell_type": "markdown",
   "metadata": {},
   "source": [
    "### ISIC_0029522.jpg (Not cancer)"
   ]
  },
  {
   "cell_type": "markdown",
   "metadata": {},
   "source": [
    "<img src=\".\\All_Images\\ISIC_0029522.jpg\">"
   ]
  },
  {
   "cell_type": "markdown",
   "metadata": {},
   "source": [
    "# Saving Augmented Images"
   ]
  },
  {
   "cell_type": "code",
   "execution_count": 59,
   "metadata": {
    "ExecuteTime": {
     "end_time": "2019-04-14T02:40:39.308652Z",
     "start_time": "2019-04-14T02:40:39.300664Z"
    },
    "collapsed": true
   },
   "outputs": [],
   "source": [
    "balanced_df=df_new.drop(df_new[df_new['dx']=='0_not_cancer'].sample(frac=.8145).index)\n",
    "df_individual=balanced_df.iloc[2109:2111,:]\n"
   ]
  },
  {
   "cell_type": "code",
   "execution_count": 60,
   "metadata": {
    "ExecuteTime": {
     "end_time": "2019-04-14T02:40:40.170738Z",
     "start_time": "2019-04-14T02:40:40.161767Z"
    },
    "scrolled": true
   },
   "outputs": [
    {
     "data": {
      "text/html": [
       "<div>\n",
       "<style scoped>\n",
       "    .dataframe tbody tr th:only-of-type {\n",
       "        vertical-align: middle;\n",
       "    }\n",
       "\n",
       "    .dataframe tbody tr th {\n",
       "        vertical-align: top;\n",
       "    }\n",
       "\n",
       "    .dataframe thead th {\n",
       "        text-align: right;\n",
       "    }\n",
       "</style>\n",
       "<table border=\"1\" class=\"dataframe\">\n",
       "  <thead>\n",
       "    <tr style=\"text-align: right;\">\n",
       "      <th></th>\n",
       "      <th>image_id</th>\n",
       "    </tr>\n",
       "    <tr>\n",
       "      <th>dx</th>\n",
       "      <th></th>\n",
       "    </tr>\n",
       "  </thead>\n",
       "  <tbody>\n",
       "    <tr>\n",
       "      <th>0_not_cancer</th>\n",
       "      <td>1169</td>\n",
       "    </tr>\n",
       "    <tr>\n",
       "      <th>1_cancer</th>\n",
       "      <td>1169</td>\n",
       "    </tr>\n",
       "  </tbody>\n",
       "</table>\n",
       "</div>"
      ],
      "text/plain": [
       "              image_id\n",
       "dx                    \n",
       "0_not_cancer      1169\n",
       "1_cancer          1169"
      ]
     },
     "execution_count": 60,
     "metadata": {},
     "output_type": "execute_result"
    }
   ],
   "source": [
    "balanced_df.groupby('dx').count()"
   ]
  },
  {
   "cell_type": "code",
   "execution_count": 61,
   "metadata": {
    "ExecuteTime": {
     "end_time": "2019-04-14T02:40:41.004623Z",
     "start_time": "2019-04-14T02:40:40.993652Z"
    },
    "scrolled": true
   },
   "outputs": [
    {
     "name": "stdout",
     "output_type": "stream",
     "text": [
      "Found 2 images belonging to 2 classes.\n"
     ]
    }
   ],
   "source": [
    "test_gen_ind = ImageDataGenerator()\n",
    "\n",
    "test_gen_ind = test_gen_ind.flow_from_dataframe(dataframe=df_individual, directory ='.\\All_Images', save_to_dir= '.\\Augmented_images', save_format='jpeg', x_col='image_id', y_col='dx',target_size=image_dimensions, color_mode='grayscale', class_mode='binary', batch_size= 3)\n",
    "\n"
   ]
  },
  {
   "cell_type": "code",
   "execution_count": 248,
   "metadata": {
    "ExecuteTime": {
     "end_time": "2019-04-13T23:09:45.754064Z",
     "start_time": "2019-04-13T23:09:45.606423Z"
    }
   },
   "outputs": [
    {
     "name": "stdout",
     "output_type": "stream",
     "text": [
      "hi\n",
      "hi\n",
      "hi\n",
      "hi\n"
     ]
    }
   ],
   "source": [
    "i=0\n",
    "for batch in test_gen_ind :\n",
    "    print(\"hi\")\n",
    "    i=i+1\n",
    "    if i==4:\n",
    "        break\n",
    "    \n",
    "\n"
   ]
  },
  {
   "cell_type": "markdown",
   "metadata": {},
   "source": [
    "# Iterations 2"
   ]
  },
  {
   "cell_type": "code",
   "execution_count": 24,
   "metadata": {
    "ExecuteTime": {
     "end_time": "2019-04-16T04:40:59.099743Z",
     "start_time": "2019-04-16T04:40:58.974079Z"
    },
    "scrolled": true
   },
   "outputs": [
    {
     "name": "stdout",
     "output_type": "stream",
     "text": [
      "Found 1870 images belonging to 2 classes.\n",
      "Found 468 images belonging to 2 classes.\n"
     ]
    }
   ],
   "source": [
    "batch_size = 15\n",
    "image_dimensions = (150,150)\n",
    "\n",
    "train_gen2 = ImageDataGenerator(rescale = 1./255, rotation_range = 45, horizontal_flip = True, vertical_flip = True, width_shift_range=[-20,20], height_shift_range=[-20,20])\n",
    "test_gen2 = ImageDataGenerator(rescale = 1./255)\n",
    "\n",
    "# train_gen = im_gen.flow_from_directory(directory = '..\\Images\\All_images_in_classes', target_size=(50,50), color_mode='rgb', class_mode = 'categorical', batch_size =100, subset ='training')\n",
    "# test_gen = im_gen.flow_from_directory(directory = '..\\Images\\All_images_in_classes', target_size=(50,50), color_mode='rgb', class_mode = 'categorical', batch_size =100, subset = 'validation')\n",
    "\n",
    "train_gen2=train_gen2.flow_from_dataframe(dataframe=df_train, directory ='.\\All_Images', x_col='image_id', y_col='dx',target_size=image_dimensions, color_mode='grayscale', class_mode='binary', batch_size= batch_size)\n",
    "test_gen2 = test_gen2.flow_from_dataframe(dataframe=df_test, directory ='.\\All_Images', x_col='image_id', y_col='dx',target_size=image_dimensions, color_mode='grayscale', class_mode='binary', batch_size= batch_size, shuffle=False)\n"
   ]
  },
  {
   "cell_type": "code",
   "execution_count": 25,
   "metadata": {
    "ExecuteTime": {
     "end_time": "2019-04-16T04:41:00.057193Z",
     "start_time": "2019-04-16T04:41:00.048207Z"
    }
   },
   "outputs": [
    {
     "data": {
      "text/html": [
       "<div>\n",
       "<style scoped>\n",
       "    .dataframe tbody tr th:only-of-type {\n",
       "        vertical-align: middle;\n",
       "    }\n",
       "\n",
       "    .dataframe tbody tr th {\n",
       "        vertical-align: top;\n",
       "    }\n",
       "\n",
       "    .dataframe thead th {\n",
       "        text-align: right;\n",
       "    }\n",
       "</style>\n",
       "<table border=\"1\" class=\"dataframe\">\n",
       "  <thead>\n",
       "    <tr style=\"text-align: right;\">\n",
       "      <th></th>\n",
       "      <th>image_id</th>\n",
       "      <th>dx</th>\n",
       "    </tr>\n",
       "  </thead>\n",
       "  <tbody>\n",
       "    <tr>\n",
       "      <th>1964</th>\n",
       "      <td>ISIC_0026352.jpg</td>\n",
       "      <td>1_cancer</td>\n",
       "    </tr>\n",
       "    <tr>\n",
       "      <th>395</th>\n",
       "      <td>ISIC_0027287.jpg</td>\n",
       "      <td>0_not_cancer</td>\n",
       "    </tr>\n",
       "    <tr>\n",
       "      <th>1773</th>\n",
       "      <td>ISIC_0032462.jpg</td>\n",
       "      <td>1_cancer</td>\n",
       "    </tr>\n",
       "    <tr>\n",
       "      <th>9784</th>\n",
       "      <td>ISIC_0030341.jpg</td>\n",
       "      <td>1_cancer</td>\n",
       "    </tr>\n",
       "    <tr>\n",
       "      <th>1253</th>\n",
       "      <td>ISIC_0031953.jpg</td>\n",
       "      <td>1_cancer</td>\n",
       "    </tr>\n",
       "    <tr>\n",
       "      <th>3647</th>\n",
       "      <td>ISIC_0028299.jpg</td>\n",
       "      <td>0_not_cancer</td>\n",
       "    </tr>\n",
       "    <tr>\n",
       "      <th>1452</th>\n",
       "      <td>ISIC_0033496.jpg</td>\n",
       "      <td>1_cancer</td>\n",
       "    </tr>\n",
       "    <tr>\n",
       "      <th>7987</th>\n",
       "      <td>ISIC_0033448.jpg</td>\n",
       "      <td>0_not_cancer</td>\n",
       "    </tr>\n",
       "    <tr>\n",
       "      <th>2562</th>\n",
       "      <td>ISIC_0030659.jpg</td>\n",
       "      <td>1_cancer</td>\n",
       "    </tr>\n",
       "    <tr>\n",
       "      <th>9988</th>\n",
       "      <td>ISIC_0027588.jpg</td>\n",
       "      <td>1_cancer</td>\n",
       "    </tr>\n",
       "  </tbody>\n",
       "</table>\n",
       "</div>"
      ],
      "text/plain": [
       "              image_id            dx\n",
       "1964  ISIC_0026352.jpg      1_cancer\n",
       "395   ISIC_0027287.jpg  0_not_cancer\n",
       "1773  ISIC_0032462.jpg      1_cancer\n",
       "9784  ISIC_0030341.jpg      1_cancer\n",
       "1253  ISIC_0031953.jpg      1_cancer\n",
       "3647  ISIC_0028299.jpg  0_not_cancer\n",
       "1452  ISIC_0033496.jpg      1_cancer\n",
       "7987  ISIC_0033448.jpg  0_not_cancer\n",
       "2562  ISIC_0030659.jpg      1_cancer\n",
       "9988  ISIC_0027588.jpg      1_cancer"
      ]
     },
     "execution_count": 25,
     "metadata": {},
     "output_type": "execute_result"
    }
   ],
   "source": [
    "df_test.head(10)"
   ]
  },
  {
   "cell_type": "code",
   "execution_count": 26,
   "metadata": {
    "ExecuteTime": {
     "end_time": "2019-04-16T04:41:01.731406Z",
     "start_time": "2019-04-16T04:41:01.716446Z"
    }
   },
   "outputs": [
    {
     "data": {
      "text/html": [
       "<div>\n",
       "<style scoped>\n",
       "    .dataframe tbody tr th:only-of-type {\n",
       "        vertical-align: middle;\n",
       "    }\n",
       "\n",
       "    .dataframe tbody tr th {\n",
       "        vertical-align: top;\n",
       "    }\n",
       "\n",
       "    .dataframe thead th {\n",
       "        text-align: right;\n",
       "    }\n",
       "</style>\n",
       "<table border=\"1\" class=\"dataframe\">\n",
       "  <thead>\n",
       "    <tr style=\"text-align: right;\">\n",
       "      <th></th>\n",
       "      <th>image_id</th>\n",
       "      <th>dx</th>\n",
       "    </tr>\n",
       "  </thead>\n",
       "  <tbody>\n",
       "    <tr>\n",
       "      <th>700</th>\n",
       "      <td>ISIC_0024312.jpg</td>\n",
       "      <td>0_not_cancer</td>\n",
       "    </tr>\n",
       "    <tr>\n",
       "      <th>4957</th>\n",
       "      <td>ISIC_0024320.jpg</td>\n",
       "      <td>0_not_cancer</td>\n",
       "    </tr>\n",
       "    <tr>\n",
       "      <th>2554</th>\n",
       "      <td>ISIC_0024360.jpg</td>\n",
       "      <td>1_cancer</td>\n",
       "    </tr>\n",
       "    <tr>\n",
       "      <th>4809</th>\n",
       "      <td>ISIC_0024398.jpg</td>\n",
       "      <td>0_not_cancer</td>\n",
       "    </tr>\n",
       "    <tr>\n",
       "      <th>4850</th>\n",
       "      <td>ISIC_0024399.jpg</td>\n",
       "      <td>0_not_cancer</td>\n",
       "    </tr>\n",
       "    <tr>\n",
       "      <th>9827</th>\n",
       "      <td>ISIC_0024418.jpg</td>\n",
       "      <td>1_cancer</td>\n",
       "    </tr>\n",
       "    <tr>\n",
       "      <th>1958</th>\n",
       "      <td>ISIC_0024449.jpg</td>\n",
       "      <td>1_cancer</td>\n",
       "    </tr>\n",
       "    <tr>\n",
       "      <th>9793</th>\n",
       "      <td>ISIC_0024450.jpg</td>\n",
       "      <td>1_cancer</td>\n",
       "    </tr>\n",
       "    <tr>\n",
       "      <th>2781</th>\n",
       "      <td>ISIC_0024452.jpg</td>\n",
       "      <td>1_cancer</td>\n",
       "    </tr>\n",
       "    <tr>\n",
       "      <th>2558</th>\n",
       "      <td>ISIC_0024504.jpg</td>\n",
       "      <td>1_cancer</td>\n",
       "    </tr>\n",
       "    <tr>\n",
       "      <th>9949</th>\n",
       "      <td>ISIC_0024539.jpg</td>\n",
       "      <td>1_cancer</td>\n",
       "    </tr>\n",
       "    <tr>\n",
       "      <th>2056</th>\n",
       "      <td>ISIC_0024571.jpg</td>\n",
       "      <td>1_cancer</td>\n",
       "    </tr>\n",
       "    <tr>\n",
       "      <th>4602</th>\n",
       "      <td>ISIC_0024601.jpg</td>\n",
       "      <td>0_not_cancer</td>\n",
       "    </tr>\n",
       "    <tr>\n",
       "      <th>5082</th>\n",
       "      <td>ISIC_0024607.jpg</td>\n",
       "      <td>0_not_cancer</td>\n",
       "    </tr>\n",
       "    <tr>\n",
       "      <th>113</th>\n",
       "      <td>ISIC_0024623.jpg</td>\n",
       "      <td>0_not_cancer</td>\n",
       "    </tr>\n",
       "    <tr>\n",
       "      <th>2240</th>\n",
       "      <td>ISIC_0024630.jpg</td>\n",
       "      <td>1_cancer</td>\n",
       "    </tr>\n",
       "    <tr>\n",
       "      <th>2034</th>\n",
       "      <td>ISIC_0024644.jpg</td>\n",
       "      <td>1_cancer</td>\n",
       "    </tr>\n",
       "    <tr>\n",
       "      <th>9918</th>\n",
       "      <td>ISIC_0024646.jpg</td>\n",
       "      <td>1_cancer</td>\n",
       "    </tr>\n",
       "    <tr>\n",
       "      <th>1989</th>\n",
       "      <td>ISIC_0024701.jpg</td>\n",
       "      <td>1_cancer</td>\n",
       "    </tr>\n",
       "    <tr>\n",
       "      <th>9777</th>\n",
       "      <td>ISIC_0024707.jpg</td>\n",
       "      <td>1_cancer</td>\n",
       "    </tr>\n",
       "    <tr>\n",
       "      <th>1036</th>\n",
       "      <td>ISIC_0024850.jpg</td>\n",
       "      <td>0_not_cancer</td>\n",
       "    </tr>\n",
       "    <tr>\n",
       "      <th>1387</th>\n",
       "      <td>ISIC_0024875.jpg</td>\n",
       "      <td>1_cancer</td>\n",
       "    </tr>\n",
       "    <tr>\n",
       "      <th>1953</th>\n",
       "      <td>ISIC_0024962.jpg</td>\n",
       "      <td>1_cancer</td>\n",
       "    </tr>\n",
       "    <tr>\n",
       "      <th>1336</th>\n",
       "      <td>ISIC_0024972.jpg</td>\n",
       "      <td>1_cancer</td>\n",
       "    </tr>\n",
       "    <tr>\n",
       "      <th>3692</th>\n",
       "      <td>ISIC_0024976.jpg</td>\n",
       "      <td>0_not_cancer</td>\n",
       "    </tr>\n",
       "    <tr>\n",
       "      <th>3968</th>\n",
       "      <td>ISIC_0024989.jpg</td>\n",
       "      <td>0_not_cancer</td>\n",
       "    </tr>\n",
       "    <tr>\n",
       "      <th>4480</th>\n",
       "      <td>ISIC_0024990.jpg</td>\n",
       "      <td>0_not_cancer</td>\n",
       "    </tr>\n",
       "    <tr>\n",
       "      <th>4064</th>\n",
       "      <td>ISIC_0025007.jpg</td>\n",
       "      <td>0_not_cancer</td>\n",
       "    </tr>\n",
       "    <tr>\n",
       "      <th>1466</th>\n",
       "      <td>ISIC_0025035.jpg</td>\n",
       "      <td>1_cancer</td>\n",
       "    </tr>\n",
       "    <tr>\n",
       "      <th>7112</th>\n",
       "      <td>ISIC_0025049.jpg</td>\n",
       "      <td>0_not_cancer</td>\n",
       "    </tr>\n",
       "    <tr>\n",
       "      <th>...</th>\n",
       "      <td>...</td>\n",
       "      <td>...</td>\n",
       "    </tr>\n",
       "    <tr>\n",
       "      <th>1846</th>\n",
       "      <td>ISIC_0033487.jpg</td>\n",
       "      <td>1_cancer</td>\n",
       "    </tr>\n",
       "    <tr>\n",
       "      <th>1452</th>\n",
       "      <td>ISIC_0033496.jpg</td>\n",
       "      <td>1_cancer</td>\n",
       "    </tr>\n",
       "    <tr>\n",
       "      <th>1854</th>\n",
       "      <td>ISIC_0033534.jpg</td>\n",
       "      <td>1_cancer</td>\n",
       "    </tr>\n",
       "    <tr>\n",
       "      <th>7915</th>\n",
       "      <td>ISIC_0033564.jpg</td>\n",
       "      <td>0_not_cancer</td>\n",
       "    </tr>\n",
       "    <tr>\n",
       "      <th>1704</th>\n",
       "      <td>ISIC_0033569.jpg</td>\n",
       "      <td>1_cancer</td>\n",
       "    </tr>\n",
       "    <tr>\n",
       "      <th>9616</th>\n",
       "      <td>ISIC_0033597.jpg</td>\n",
       "      <td>0_not_cancer</td>\n",
       "    </tr>\n",
       "    <tr>\n",
       "      <th>9575</th>\n",
       "      <td>ISIC_0033623.jpg</td>\n",
       "      <td>0_not_cancer</td>\n",
       "    </tr>\n",
       "    <tr>\n",
       "      <th>1652</th>\n",
       "      <td>ISIC_0033630.jpg</td>\n",
       "      <td>1_cancer</td>\n",
       "    </tr>\n",
       "    <tr>\n",
       "      <th>1691</th>\n",
       "      <td>ISIC_0033651.jpg</td>\n",
       "      <td>1_cancer</td>\n",
       "    </tr>\n",
       "    <tr>\n",
       "      <th>7085</th>\n",
       "      <td>ISIC_0033745.jpg</td>\n",
       "      <td>0_not_cancer</td>\n",
       "    </tr>\n",
       "    <tr>\n",
       "      <th>7945</th>\n",
       "      <td>ISIC_0033781.jpg</td>\n",
       "      <td>0_not_cancer</td>\n",
       "    </tr>\n",
       "    <tr>\n",
       "      <th>1880</th>\n",
       "      <td>ISIC_0033807.jpg</td>\n",
       "      <td>1_cancer</td>\n",
       "    </tr>\n",
       "    <tr>\n",
       "      <th>9992</th>\n",
       "      <td>ISIC_0033811.jpg</td>\n",
       "      <td>1_cancer</td>\n",
       "    </tr>\n",
       "    <tr>\n",
       "      <th>1543</th>\n",
       "      <td>ISIC_0033820.jpg</td>\n",
       "      <td>1_cancer</td>\n",
       "    </tr>\n",
       "    <tr>\n",
       "      <th>7155</th>\n",
       "      <td>ISIC_0033823.jpg</td>\n",
       "      <td>0_not_cancer</td>\n",
       "    </tr>\n",
       "    <tr>\n",
       "      <th>7352</th>\n",
       "      <td>ISIC_0033827.jpg</td>\n",
       "      <td>0_not_cancer</td>\n",
       "    </tr>\n",
       "    <tr>\n",
       "      <th>7581</th>\n",
       "      <td>ISIC_0033833.jpg</td>\n",
       "      <td>0_not_cancer</td>\n",
       "    </tr>\n",
       "    <tr>\n",
       "      <th>9530</th>\n",
       "      <td>ISIC_0033896.jpg</td>\n",
       "      <td>0_not_cancer</td>\n",
       "    </tr>\n",
       "    <tr>\n",
       "      <th>1591</th>\n",
       "      <td>ISIC_0033942.jpg</td>\n",
       "      <td>1_cancer</td>\n",
       "    </tr>\n",
       "    <tr>\n",
       "      <th>1510</th>\n",
       "      <td>ISIC_0033946.jpg</td>\n",
       "      <td>1_cancer</td>\n",
       "    </tr>\n",
       "    <tr>\n",
       "      <th>9443</th>\n",
       "      <td>ISIC_0034053.jpg</td>\n",
       "      <td>0_not_cancer</td>\n",
       "    </tr>\n",
       "    <tr>\n",
       "      <th>1856</th>\n",
       "      <td>ISIC_0034062.jpg</td>\n",
       "      <td>1_cancer</td>\n",
       "    </tr>\n",
       "    <tr>\n",
       "      <th>1463</th>\n",
       "      <td>ISIC_0034071.jpg</td>\n",
       "      <td>1_cancer</td>\n",
       "    </tr>\n",
       "    <tr>\n",
       "      <th>9588</th>\n",
       "      <td>ISIC_0034082.jpg</td>\n",
       "      <td>0_not_cancer</td>\n",
       "    </tr>\n",
       "    <tr>\n",
       "      <th>7300</th>\n",
       "      <td>ISIC_0034146.jpg</td>\n",
       "      <td>0_not_cancer</td>\n",
       "    </tr>\n",
       "    <tr>\n",
       "      <th>1559</th>\n",
       "      <td>ISIC_0034222.jpg</td>\n",
       "      <td>1_cancer</td>\n",
       "    </tr>\n",
       "    <tr>\n",
       "      <th>9531</th>\n",
       "      <td>ISIC_0034250.jpg</td>\n",
       "      <td>0_not_cancer</td>\n",
       "    </tr>\n",
       "    <tr>\n",
       "      <th>7458</th>\n",
       "      <td>ISIC_0034257.jpg</td>\n",
       "      <td>0_not_cancer</td>\n",
       "    </tr>\n",
       "    <tr>\n",
       "      <th>7914</th>\n",
       "      <td>ISIC_0034271.jpg</td>\n",
       "      <td>0_not_cancer</td>\n",
       "    </tr>\n",
       "    <tr>\n",
       "      <th>973</th>\n",
       "      <td>ISIC_0034283.jpg</td>\n",
       "      <td>0_not_cancer</td>\n",
       "    </tr>\n",
       "  </tbody>\n",
       "</table>\n",
       "<p>468 rows × 2 columns</p>\n",
       "</div>"
      ],
      "text/plain": [
       "              image_id            dx\n",
       "700   ISIC_0024312.jpg  0_not_cancer\n",
       "4957  ISIC_0024320.jpg  0_not_cancer\n",
       "2554  ISIC_0024360.jpg      1_cancer\n",
       "4809  ISIC_0024398.jpg  0_not_cancer\n",
       "4850  ISIC_0024399.jpg  0_not_cancer\n",
       "9827  ISIC_0024418.jpg      1_cancer\n",
       "1958  ISIC_0024449.jpg      1_cancer\n",
       "9793  ISIC_0024450.jpg      1_cancer\n",
       "2781  ISIC_0024452.jpg      1_cancer\n",
       "2558  ISIC_0024504.jpg      1_cancer\n",
       "9949  ISIC_0024539.jpg      1_cancer\n",
       "2056  ISIC_0024571.jpg      1_cancer\n",
       "4602  ISIC_0024601.jpg  0_not_cancer\n",
       "5082  ISIC_0024607.jpg  0_not_cancer\n",
       "113   ISIC_0024623.jpg  0_not_cancer\n",
       "2240  ISIC_0024630.jpg      1_cancer\n",
       "2034  ISIC_0024644.jpg      1_cancer\n",
       "9918  ISIC_0024646.jpg      1_cancer\n",
       "1989  ISIC_0024701.jpg      1_cancer\n",
       "9777  ISIC_0024707.jpg      1_cancer\n",
       "1036  ISIC_0024850.jpg  0_not_cancer\n",
       "1387  ISIC_0024875.jpg      1_cancer\n",
       "1953  ISIC_0024962.jpg      1_cancer\n",
       "1336  ISIC_0024972.jpg      1_cancer\n",
       "3692  ISIC_0024976.jpg  0_not_cancer\n",
       "3968  ISIC_0024989.jpg  0_not_cancer\n",
       "4480  ISIC_0024990.jpg  0_not_cancer\n",
       "4064  ISIC_0025007.jpg  0_not_cancer\n",
       "1466  ISIC_0025035.jpg      1_cancer\n",
       "7112  ISIC_0025049.jpg  0_not_cancer\n",
       "...                ...           ...\n",
       "1846  ISIC_0033487.jpg      1_cancer\n",
       "1452  ISIC_0033496.jpg      1_cancer\n",
       "1854  ISIC_0033534.jpg      1_cancer\n",
       "7915  ISIC_0033564.jpg  0_not_cancer\n",
       "1704  ISIC_0033569.jpg      1_cancer\n",
       "9616  ISIC_0033597.jpg  0_not_cancer\n",
       "9575  ISIC_0033623.jpg  0_not_cancer\n",
       "1652  ISIC_0033630.jpg      1_cancer\n",
       "1691  ISIC_0033651.jpg      1_cancer\n",
       "7085  ISIC_0033745.jpg  0_not_cancer\n",
       "7945  ISIC_0033781.jpg  0_not_cancer\n",
       "1880  ISIC_0033807.jpg      1_cancer\n",
       "9992  ISIC_0033811.jpg      1_cancer\n",
       "1543  ISIC_0033820.jpg      1_cancer\n",
       "7155  ISIC_0033823.jpg  0_not_cancer\n",
       "7352  ISIC_0033827.jpg  0_not_cancer\n",
       "7581  ISIC_0033833.jpg  0_not_cancer\n",
       "9530  ISIC_0033896.jpg  0_not_cancer\n",
       "1591  ISIC_0033942.jpg      1_cancer\n",
       "1510  ISIC_0033946.jpg      1_cancer\n",
       "9443  ISIC_0034053.jpg  0_not_cancer\n",
       "1856  ISIC_0034062.jpg      1_cancer\n",
       "1463  ISIC_0034071.jpg      1_cancer\n",
       "9588  ISIC_0034082.jpg  0_not_cancer\n",
       "7300  ISIC_0034146.jpg  0_not_cancer\n",
       "1559  ISIC_0034222.jpg      1_cancer\n",
       "9531  ISIC_0034250.jpg  0_not_cancer\n",
       "7458  ISIC_0034257.jpg  0_not_cancer\n",
       "7914  ISIC_0034271.jpg  0_not_cancer\n",
       "973   ISIC_0034283.jpg  0_not_cancer\n",
       "\n",
       "[468 rows x 2 columns]"
      ]
     },
     "execution_count": 26,
     "metadata": {},
     "output_type": "execute_result"
    }
   ],
   "source": [
    "df_test.sort_values(by=['image_id'])\n"
   ]
  },
  {
   "cell_type": "code",
   "execution_count": 30,
   "metadata": {
    "ExecuteTime": {
     "end_time": "2019-04-16T03:21:25.090527Z",
     "start_time": "2019-04-16T03:21:19.374918Z"
    },
    "scrolled": true
   },
   "outputs": [
    {
     "name": "stdout",
     "output_type": "stream",
     "text": [
      "468\n"
     ]
    }
   ],
   "source": [
    "import matplotlib.pyplot as plt\n",
    "\n",
    "gen_order = []\n",
    "for i in range(32):\n",
    "    images,labels=test_gen2.next()\n",
    "    gen_order.extend(labels)\n",
    "\n",
    "print(len(gen_order))\n",
    "# k=0\n",
    "# fig, (ax1) = plt.subplots(1,5,figsize=(100,100))\n",
    "# for im in images:\n",
    "#     im=im.reshape(150,150)\n",
    "# #     print(im.shape)\n",
    "#     ax1[k].imshow(im)\n",
    "#     ax1[k].set_title(labels[k],fontdict={'fontsize':50})\n",
    "\n",
    "#     k=k+1\n",
    "#     if k==5:\n",
    "#         break\n",
    "\n",
    "# for im in images:\n",
    "#     print(im.shape)\n",
    "#     hi=im\n",
    "    \n",
    "\n",
    "# g=hi.reshape(150,150)\n",
    "# ax1[0].imshow(g)\n",
    "    \n",
    "    "
   ]
  },
  {
   "cell_type": "code",
   "execution_count": 144,
   "metadata": {
    "ExecuteTime": {
     "end_time": "2019-04-15T22:43:49.894285Z",
     "start_time": "2019-04-15T22:43:49.885309Z"
    }
   },
   "outputs": [
    {
     "data": {
      "text/plain": [
       "[1.0,\n",
       " 0.0,\n",
       " 1.0,\n",
       " 1.0,\n",
       " 1.0,\n",
       " 0.0,\n",
       " 1.0,\n",
       " 0.0,\n",
       " 1.0,\n",
       " 1.0,\n",
       " 0.0,\n",
       " 1.0,\n",
       " 1.0,\n",
       " 1.0,\n",
       " 1.0,\n",
       " 0.0,\n",
       " 0.0,\n",
       " 0.0,\n",
       " 0.0,\n",
       " 0.0,\n",
       " 0.0,\n",
       " 1.0,\n",
       " 1.0,\n",
       " 0.0,\n",
       " 1.0,\n",
       " 1.0,\n",
       " 0.0,\n",
       " 1.0,\n",
       " 0.0,\n",
       " 1.0,\n",
       " 1.0,\n",
       " 1.0,\n",
       " 1.0,\n",
       " 1.0,\n",
       " 0.0,\n",
       " 1.0,\n",
       " 0.0,\n",
       " 1.0,\n",
       " 0.0,\n",
       " 1.0,\n",
       " 1.0,\n",
       " 0.0,\n",
       " 1.0,\n",
       " 1.0,\n",
       " 1.0,\n",
       " 1.0,\n",
       " 1.0,\n",
       " 0.0,\n",
       " 1.0,\n",
       " 0.0,\n",
       " 1.0,\n",
       " 1.0,\n",
       " 1.0,\n",
       " 0.0,\n",
       " 0.0,\n",
       " 0.0,\n",
       " 0.0,\n",
       " 0.0,\n",
       " 1.0,\n",
       " 1.0,\n",
       " 1.0,\n",
       " 0.0,\n",
       " 1.0,\n",
       " 0.0,\n",
       " 1.0,\n",
       " 0.0,\n",
       " 1.0,\n",
       " 0.0,\n",
       " 0.0,\n",
       " 0.0,\n",
       " 0.0,\n",
       " 0.0,\n",
       " 1.0,\n",
       " 0.0,\n",
       " 0.0,\n",
       " 0.0,\n",
       " 1.0,\n",
       " 1.0,\n",
       " 0.0,\n",
       " 0.0,\n",
       " 1.0,\n",
       " 1.0,\n",
       " 1.0,\n",
       " 1.0,\n",
       " 1.0,\n",
       " 0.0,\n",
       " 0.0,\n",
       " 0.0,\n",
       " 0.0,\n",
       " 1.0,\n",
       " 0.0,\n",
       " 0.0,\n",
       " 1.0,\n",
       " 0.0,\n",
       " 1.0,\n",
       " 0.0,\n",
       " 1.0,\n",
       " 1.0,\n",
       " 0.0,\n",
       " 1.0,\n",
       " 1.0,\n",
       " 0.0,\n",
       " 1.0,\n",
       " 1.0,\n",
       " 1.0,\n",
       " 1.0,\n",
       " 1.0,\n",
       " 1.0,\n",
       " 0.0,\n",
       " 0.0,\n",
       " 0.0,\n",
       " 0.0,\n",
       " 1.0,\n",
       " 1.0,\n",
       " 1.0,\n",
       " 0.0,\n",
       " 1.0,\n",
       " 0.0,\n",
       " 0.0,\n",
       " 1.0,\n",
       " 1.0,\n",
       " 1.0,\n",
       " 1.0,\n",
       " 1.0,\n",
       " 1.0,\n",
       " 1.0,\n",
       " 0.0,\n",
       " 1.0,\n",
       " 1.0,\n",
       " 1.0,\n",
       " 0.0,\n",
       " 1.0,\n",
       " 1.0,\n",
       " 1.0,\n",
       " 0.0,\n",
       " 1.0,\n",
       " 0.0,\n",
       " 0.0,\n",
       " 1.0,\n",
       " 1.0,\n",
       " 1.0,\n",
       " 1.0,\n",
       " 0.0,\n",
       " 0.0,\n",
       " 0.0,\n",
       " 0.0,\n",
       " 0.0,\n",
       " 0.0,\n",
       " 0.0,\n",
       " 1.0,\n",
       " 0.0,\n",
       " 1.0,\n",
       " 1.0,\n",
       " 0.0,\n",
       " 1.0,\n",
       " 1.0,\n",
       " 1.0,\n",
       " 1.0,\n",
       " 0.0,\n",
       " 1.0,\n",
       " 0.0,\n",
       " 0.0,\n",
       " 0.0,\n",
       " 0.0,\n",
       " 1.0,\n",
       " 0.0,\n",
       " 1.0,\n",
       " 1.0,\n",
       " 0.0,\n",
       " 1.0,\n",
       " 0.0,\n",
       " 1.0,\n",
       " 0.0,\n",
       " 0.0,\n",
       " 1.0,\n",
       " 0.0,\n",
       " 0.0,\n",
       " 0.0,\n",
       " 1.0,\n",
       " 0.0,\n",
       " 0.0,\n",
       " 0.0,\n",
       " 1.0,\n",
       " 0.0,\n",
       " 1.0,\n",
       " 1.0,\n",
       " 0.0,\n",
       " 0.0,\n",
       " 1.0,\n",
       " 0.0,\n",
       " 1.0,\n",
       " 1.0,\n",
       " 1.0,\n",
       " 1.0,\n",
       " 0.0,\n",
       " 0.0,\n",
       " 1.0,\n",
       " 1.0,\n",
       " 0.0,\n",
       " 0.0,\n",
       " 1.0,\n",
       " 1.0,\n",
       " 0.0,\n",
       " 0.0,\n",
       " 1.0,\n",
       " 0.0,\n",
       " 0.0,\n",
       " 1.0,\n",
       " 0.0,\n",
       " 0.0,\n",
       " 1.0,\n",
       " 0.0,\n",
       " 0.0,\n",
       " 1.0,\n",
       " 1.0,\n",
       " 0.0,\n",
       " 0.0,\n",
       " 0.0,\n",
       " 1.0,\n",
       " 0.0,\n",
       " 0.0,\n",
       " 1.0,\n",
       " 0.0,\n",
       " 0.0,\n",
       " 0.0,\n",
       " 0.0,\n",
       " 0.0,\n",
       " 1.0,\n",
       " 0.0,\n",
       " 0.0,\n",
       " 0.0,\n",
       " 1.0,\n",
       " 0.0,\n",
       " 0.0,\n",
       " 1.0,\n",
       " 0.0,\n",
       " 0.0,\n",
       " 0.0,\n",
       " 1.0,\n",
       " 0.0,\n",
       " 0.0,\n",
       " 0.0,\n",
       " 0.0,\n",
       " 1.0,\n",
       " 0.0,\n",
       " 1.0,\n",
       " 1.0,\n",
       " 1.0,\n",
       " 0.0,\n",
       " 1.0,\n",
       " 1.0,\n",
       " 1.0,\n",
       " 1.0,\n",
       " 0.0,\n",
       " 0.0,\n",
       " 1.0,\n",
       " 1.0,\n",
       " 1.0,\n",
       " 0.0,\n",
       " 1.0,\n",
       " 0.0,\n",
       " 0.0,\n",
       " 1.0,\n",
       " 1.0,\n",
       " 1.0,\n",
       " 1.0,\n",
       " 1.0,\n",
       " 1.0,\n",
       " 1.0,\n",
       " 1.0,\n",
       " 1.0,\n",
       " 0.0,\n",
       " 1.0,\n",
       " 0.0,\n",
       " 0.0,\n",
       " 1.0,\n",
       " 1.0,\n",
       " 1.0,\n",
       " 0.0,\n",
       " 0.0,\n",
       " 0.0,\n",
       " 1.0,\n",
       " 0.0,\n",
       " 0.0,\n",
       " 1.0,\n",
       " 0.0,\n",
       " 0.0,\n",
       " 1.0,\n",
       " 1.0,\n",
       " 0.0,\n",
       " 1.0,\n",
       " 1.0,\n",
       " 1.0,\n",
       " 1.0,\n",
       " 1.0,\n",
       " 1.0,\n",
       " 0.0,\n",
       " 0.0,\n",
       " 0.0,\n",
       " 1.0,\n",
       " 1.0,\n",
       " 1.0,\n",
       " 0.0,\n",
       " 1.0,\n",
       " 0.0,\n",
       " 1.0,\n",
       " 1.0,\n",
       " 0.0,\n",
       " 1.0,\n",
       " 0.0,\n",
       " 0.0,\n",
       " 0.0,\n",
       " 0.0,\n",
       " 0.0,\n",
       " 1.0,\n",
       " 0.0,\n",
       " 1.0,\n",
       " 0.0,\n",
       " 1.0,\n",
       " 1.0,\n",
       " 0.0,\n",
       " 0.0,\n",
       " 1.0,\n",
       " 1.0,\n",
       " 0.0,\n",
       " 0.0,\n",
       " 0.0,\n",
       " 1.0,\n",
       " 1.0,\n",
       " 1.0,\n",
       " 0.0,\n",
       " 1.0,\n",
       " 0.0,\n",
       " 0.0,\n",
       " 1.0,\n",
       " 0.0,\n",
       " 0.0,\n",
       " 1.0,\n",
       " 0.0,\n",
       " 1.0,\n",
       " 1.0,\n",
       " 0.0,\n",
       " 0.0,\n",
       " 0.0,\n",
       " 1.0,\n",
       " 0.0,\n",
       " 0.0,\n",
       " 1.0,\n",
       " 0.0,\n",
       " 0.0,\n",
       " 1.0,\n",
       " 0.0,\n",
       " 1.0,\n",
       " 0.0,\n",
       " 1.0,\n",
       " 0.0,\n",
       " 0.0,\n",
       " 0.0,\n",
       " 0.0,\n",
       " 1.0,\n",
       " 1.0,\n",
       " 1.0,\n",
       " 0.0,\n",
       " 1.0,\n",
       " 1.0,\n",
       " 1.0,\n",
       " 1.0,\n",
       " 0.0,\n",
       " 0.0,\n",
       " 0.0,\n",
       " 0.0,\n",
       " 0.0,\n",
       " 0.0,\n",
       " 1.0,\n",
       " 0.0,\n",
       " 1.0,\n",
       " 1.0,\n",
       " 1.0,\n",
       " 0.0,\n",
       " 0.0,\n",
       " 1.0,\n",
       " 1.0,\n",
       " 0.0,\n",
       " 1.0,\n",
       " 1.0,\n",
       " 1.0,\n",
       " 0.0,\n",
       " 0.0,\n",
       " 1.0,\n",
       " 0.0,\n",
       " 0.0,\n",
       " 1.0,\n",
       " 1.0,\n",
       " 0.0,\n",
       " 1.0,\n",
       " 0.0,\n",
       " 0.0,\n",
       " 0.0,\n",
       " 1.0,\n",
       " 0.0,\n",
       " 1.0,\n",
       " 0.0,\n",
       " 0.0,\n",
       " 1.0,\n",
       " 1.0,\n",
       " 1.0,\n",
       " 0.0,\n",
       " 0.0,\n",
       " 0.0,\n",
       " 1.0,\n",
       " 1.0,\n",
       " 0.0,\n",
       " 1.0,\n",
       " 0.0,\n",
       " 0.0,\n",
       " 0.0,\n",
       " 1.0,\n",
       " 1.0,\n",
       " 1.0,\n",
       " 0.0,\n",
       " 0.0,\n",
       " 1.0,\n",
       " 1.0,\n",
       " 0.0,\n",
       " 1.0,\n",
       " 1.0,\n",
       " 1.0,\n",
       " 0.0,\n",
       " 1.0,\n",
       " 0.0,\n",
       " 1.0,\n",
       " 1.0,\n",
       " 0.0,\n",
       " 1.0,\n",
       " 0.0,\n",
       " 1.0,\n",
       " 0.0,\n",
       " 0.0,\n",
       " 1.0,\n",
       " 0.0,\n",
       " 1.0,\n",
       " 0.0,\n",
       " 0.0,\n",
       " 0.0,\n",
       " 0.0,\n",
       " 1.0,\n",
       " 1.0,\n",
       " 0.0,\n",
       " 0.0,\n",
       " 1.0,\n",
       " 0.0,\n",
       " 0.0,\n",
       " 0.0,\n",
       " 0.0,\n",
       " 1.0,\n",
       " 0.0,\n",
       " 1.0,\n",
       " 0.0,\n",
       " 1.0,\n",
       " 0.0,\n",
       " 0.0,\n",
       " 1.0,\n",
       " 0.0,\n",
       " 0.0,\n",
       " 0.0,\n",
       " 1.0,\n",
       " 0.0,\n",
       " 1.0]"
      ]
     },
     "execution_count": 144,
     "metadata": {},
     "output_type": "execute_result"
    }
   ],
   "source": [
    "gen_order"
   ]
  },
  {
   "cell_type": "code",
   "execution_count": 143,
   "metadata": {
    "ExecuteTime": {
     "end_time": "2019-04-15T22:25:10.344466Z",
     "start_time": "2019-04-15T22:25:10.338487Z"
    }
   },
   "outputs": [
    {
     "data": {
      "text/plain": [
       "array([ True,  True,  True,  True,  True,  True,  True,  True,  True,\n",
       "        True,  True,  True,  True,  True,  True,  True,  True,  True,\n",
       "        True,  True,  True,  True,  True,  True,  True,  True,  True,\n",
       "        True,  True,  True,  True,  True,  True,  True,  True,  True,\n",
       "        True,  True,  True,  True,  True,  True,  True,  True,  True,\n",
       "        True,  True,  True,  True,  True,  True,  True,  True,  True,\n",
       "        True,  True,  True,  True,  True,  True,  True,  True,  True,\n",
       "        True,  True,  True,  True,  True,  True,  True,  True,  True,\n",
       "        True,  True,  True,  True,  True,  True,  True,  True,  True,\n",
       "        True,  True,  True,  True,  True,  True,  True,  True,  True,\n",
       "        True,  True,  True,  True,  True,  True,  True,  True,  True,\n",
       "        True,  True,  True,  True,  True,  True,  True,  True,  True,\n",
       "        True,  True,  True,  True,  True,  True,  True,  True,  True,\n",
       "        True,  True,  True,  True,  True,  True,  True,  True,  True,\n",
       "        True,  True,  True,  True,  True,  True,  True,  True,  True,\n",
       "        True,  True,  True,  True,  True,  True,  True,  True,  True,\n",
       "        True,  True,  True,  True,  True,  True,  True,  True,  True,\n",
       "        True,  True,  True,  True,  True,  True,  True,  True,  True,\n",
       "        True,  True,  True,  True,  True,  True,  True,  True,  True,\n",
       "        True,  True,  True,  True,  True,  True,  True,  True,  True,\n",
       "        True,  True,  True,  True,  True,  True,  True,  True,  True,\n",
       "        True,  True,  True,  True,  True,  True,  True,  True,  True,\n",
       "        True,  True,  True,  True,  True,  True,  True,  True,  True,\n",
       "        True,  True,  True,  True,  True,  True,  True,  True,  True,\n",
       "        True,  True,  True,  True,  True,  True,  True,  True,  True,\n",
       "        True,  True,  True,  True,  True,  True,  True,  True,  True,\n",
       "        True,  True,  True,  True,  True,  True,  True,  True,  True,\n",
       "        True,  True,  True,  True,  True,  True,  True,  True,  True,\n",
       "        True,  True,  True,  True,  True,  True,  True,  True,  True,\n",
       "        True,  True,  True,  True,  True,  True,  True,  True,  True,\n",
       "        True,  True,  True,  True,  True,  True,  True,  True,  True,\n",
       "        True,  True,  True,  True,  True,  True,  True,  True,  True,\n",
       "        True,  True,  True,  True,  True,  True,  True,  True,  True,\n",
       "        True,  True,  True,  True,  True,  True,  True,  True,  True,\n",
       "        True,  True,  True,  True,  True,  True,  True,  True,  True,\n",
       "        True,  True,  True,  True,  True,  True,  True,  True,  True,\n",
       "        True,  True,  True,  True,  True,  True,  True,  True,  True,\n",
       "        True,  True,  True,  True,  True,  True,  True,  True,  True,\n",
       "        True,  True,  True,  True,  True,  True,  True,  True,  True,\n",
       "        True,  True,  True,  True,  True,  True,  True,  True,  True,\n",
       "        True,  True,  True,  True,  True,  True,  True,  True,  True,\n",
       "        True,  True,  True,  True,  True,  True,  True,  True,  True,\n",
       "        True,  True,  True,  True,  True,  True,  True,  True,  True,\n",
       "        True,  True,  True,  True,  True,  True,  True,  True,  True,\n",
       "        True,  True,  True,  True,  True,  True,  True,  True,  True,\n",
       "        True,  True,  True,  True,  True,  True,  True,  True,  True,\n",
       "        True,  True,  True,  True,  True,  True,  True,  True,  True,\n",
       "        True,  True,  True,  True,  True,  True,  True,  True,  True,\n",
       "        True,  True,  True,  True,  True,  True,  True,  True,  True,\n",
       "        True,  True,  True,  True,  True,  True,  True,  True,  True,\n",
       "        True,  True,  True,  True,  True,  True,  True,  True,  True,\n",
       "        True,  True,  True,  True,  True,  True,  True,  True,  True])"
      ]
     },
     "execution_count": 143,
     "metadata": {},
     "output_type": "execute_result"
    }
   ],
   "source": [
    "#test_gen2.classes == gen_order\n",
    "df_test_yn = df_test['dx'].apply(lambda x: 1 if '1' in x else 0).values\n",
    "df_test_yn\n",
    "gen_order == df_test_yn"
   ]
  },
  {
   "cell_type": "code",
   "execution_count": 51,
   "metadata": {
    "ExecuteTime": {
     "end_time": "2019-04-16T04:21:28.589012Z",
     "start_time": "2019-04-16T04:21:28.585036Z"
    },
    "collapsed": true
   },
   "outputs": [],
   "source": [
    "del model_2"
   ]
  },
  {
   "cell_type": "markdown",
   "metadata": {},
   "source": [
    "Conclusion: generator starts in order if shuffle is off starting with the images at the top of the dataframe, labels values when calling images, labels = gen.next()"
   ]
  },
  {
   "cell_type": "code",
   "execution_count": 27,
   "metadata": {
    "ExecuteTime": {
     "end_time": "2019-04-16T04:41:16.317953Z",
     "start_time": "2019-04-16T04:41:16.065619Z"
    }
   },
   "outputs": [
    {
     "name": "stdout",
     "output_type": "stream",
     "text": [
      "WARNING:tensorflow:From C:\\Users\\petra\\Anaconda3\\lib\\site-packages\\tensorflow\\python\\framework\\op_def_library.py:263: colocate_with (from tensorflow.python.framework.ops) is deprecated and will be removed in a future version.\n",
      "Instructions for updating:\n",
      "Colocations handled automatically by placer.\n",
      "_________________________________________________________________\n",
      "Layer (type)                 Output Shape              Param #   \n",
      "=================================================================\n",
      "conv2d_1 (Conv2D)            (None, 148, 148, 32)      320       \n",
      "_________________________________________________________________\n",
      "activation_1 (Activation)    (None, 148, 148, 32)      0         \n",
      "_________________________________________________________________\n",
      "max_pooling2d_1 (MaxPooling2 (None, 74, 74, 32)        0         \n",
      "_________________________________________________________________\n",
      "conv2d_2 (Conv2D)            (None, 72, 72, 32)        9248      \n",
      "_________________________________________________________________\n",
      "max_pooling2d_2 (MaxPooling2 (None, 36, 36, 32)        0         \n",
      "_________________________________________________________________\n",
      "conv2d_3 (Conv2D)            (None, 34, 34, 64)        18496     \n",
      "_________________________________________________________________\n",
      "max_pooling2d_3 (MaxPooling2 (None, 17, 17, 64)        0         \n",
      "_________________________________________________________________\n",
      "flatten_1 (Flatten)          (None, 18496)             0         \n",
      "_________________________________________________________________\n",
      "dense_1 (Dense)              (None, 64)                1183808   \n",
      "_________________________________________________________________\n",
      "dense_2 (Dense)              (None, 1)                 65        \n",
      "=================================================================\n",
      "Total params: 1,211,937\n",
      "Trainable params: 1,211,937\n",
      "Non-trainable params: 0\n",
      "_________________________________________________________________\n"
     ]
    }
   ],
   "source": [
    "input_into_first_layer = (150,150,1)\n",
    "\n",
    "model_2 = Sequential()\n",
    "\n",
    "model_2.add(Conv2D(32, (3, 3),input_shape=input_into_first_layer))\n",
    "model_2.add(Activation('relu'))\n",
    "model_2.add(MaxPooling2D(pool_size=(2, 2)))\n",
    "\n",
    "model_2.add(Conv2D(32, (3, 3),activation = 'relu'))\n",
    "model_2.add(MaxPooling2D(pool_size=(2, 2) ))\n",
    "\n",
    "model_2.add(Conv2D(64, (3, 3), activation ='relu'))\n",
    "model_2.add(MaxPooling2D(pool_size=(2, 2)))\n",
    "\n",
    "model_2.add(Flatten())  # this converts our 3D feature maps to 1D feature vectors\n",
    "model_2.add(Dense(64, activation ='relu'))\n",
    "# model.add(Dropout(0.5))\n",
    "model_2.add(Dense(1, activation ='sigmoid'))\n",
    "# model.add(Activation('softmax'))\n",
    "\n",
    "model_2.compile(loss='binary_crossentropy',\n",
    "              optimizer='adam',\n",
    "              metrics=['binary_accuracy',recall, f1])\n",
    "\n",
    "model_2.summary()"
   ]
  },
  {
   "cell_type": "code",
   "execution_count": 28,
   "metadata": {
    "ExecuteTime": {
     "end_time": "2019-04-16T04:57:05.494822Z",
     "start_time": "2019-04-16T04:41:22.205406Z"
    },
    "scrolled": true
   },
   "outputs": [
    {
     "name": "stdout",
     "output_type": "stream",
     "text": [
      "WARNING:tensorflow:From C:\\Users\\petra\\Anaconda3\\lib\\site-packages\\tensorflow\\python\\ops\\math_ops.py:3066: to_int32 (from tensorflow.python.ops.math_ops) is deprecated and will be removed in a future version.\n",
      "Instructions for updating:\n",
      "Use tf.cast instead.\n",
      "Epoch 1/35\n",
      "125/125 [==============================] - 29s 229ms/step - loss: 1.1363 - binary_accuracy: 0.5000 - recall: 1.0000 - f1: 0.6562\n",
      "Epoch 2/35\n",
      "125/125 [==============================] - 28s 220ms/step - loss: 1.0898 - binary_accuracy: 0.5003 - recall: 1.0000 - f1: 0.6581\n",
      "Epoch 3/35\n",
      "125/125 [==============================] - 27s 215ms/step - loss: 1.0852 - binary_accuracy: 0.5008 - recall: 1.0000 - f1: 0.6545\n",
      "Epoch 4/35\n",
      "125/125 [==============================] - 26s 212ms/step - loss: 1.0797 - binary_accuracy: 0.5008 - recall: 0.9981 - f1: 0.6572\n",
      "Epoch 5/35\n",
      "125/125 [==============================] - 28s 224ms/step - loss: 1.0636 - binary_accuracy: 0.5045 - recall: 0.9971 - f1: 0.6580\n",
      "Epoch 6/35\n",
      "125/125 [==============================] - 27s 214ms/step - loss: 1.0822 - binary_accuracy: 0.5032 - recall: 0.9900 - f1: 0.6549\n",
      "Epoch 7/35\n",
      "125/125 [==============================] - 28s 222ms/step - loss: 1.0337 - binary_accuracy: 0.5064 - recall: 0.9934 - f1: 0.6597\n",
      "Epoch 8/35\n",
      "125/125 [==============================] - 26s 211ms/step - loss: 1.0187 - binary_accuracy: 0.5347 - recall: 0.9671 - f1: 0.6646\n",
      "Epoch 9/35\n",
      "125/125 [==============================] - 26s 210ms/step - loss: 1.0159 - binary_accuracy: 0.5512 - recall: 0.9690 - f1: 0.6734\n",
      "Epoch 10/35\n",
      "125/125 [==============================] - 26s 211ms/step - loss: 0.9799 - binary_accuracy: 0.5584 - recall: 0.9807 - f1: 0.6794\n",
      "Epoch 11/35\n",
      "125/125 [==============================] - 26s 211ms/step - loss: 0.9289 - binary_accuracy: 0.6240 - recall: 0.9587 - f1: 0.7113\n",
      "Epoch 12/35\n",
      "125/125 [==============================] - 26s 212ms/step - loss: 0.9596 - binary_accuracy: 0.5643 - recall: 0.9814 - f1: 0.6827\n",
      "Epoch 13/35\n",
      "125/125 [==============================] - 26s 212ms/step - loss: 0.9088 - binary_accuracy: 0.6451 - recall: 0.9462 - f1: 0.7166\n",
      "Epoch 14/35\n",
      "125/125 [==============================] - 27s 214ms/step - loss: 0.9126 - binary_accuracy: 0.6419 - recall: 0.9474 - f1: 0.7185\n",
      "Epoch 15/35\n",
      "125/125 [==============================] - 27s 215ms/step - loss: 0.8856 - binary_accuracy: 0.6685 - recall: 0.9448 - f1: 0.7293\n",
      "Epoch 16/35\n",
      "125/125 [==============================] - 27s 219ms/step - loss: 0.8544 - binary_accuracy: 0.6915 - recall: 0.9354 - f1: 0.7408\n",
      "Epoch 17/35\n",
      "125/125 [==============================] - 27s 215ms/step - loss: 0.8652 - binary_accuracy: 0.6784 - recall: 0.9574 - f1: 0.7423\n",
      "Epoch 18/35\n",
      "125/125 [==============================] - 27s 217ms/step - loss: 0.8510 - binary_accuracy: 0.7061 - recall: 0.9437 - f1: 0.75318s - loss: 0.8476 - binary_accura\n",
      "Epoch 19/35\n",
      "125/125 [==============================] - 27s 215ms/step - loss: 0.8396 - binary_accuracy: 0.7011 - recall: 0.9487 - f1: 0.74974s - loss: 0.8471 - binary_accuracy: 0.6910 - recall\n",
      "Epoch 20/35\n",
      "125/125 [==============================] - 27s 216ms/step - loss: 0.8573 - binary_accuracy: 0.7016 - recall: 0.9333 - f1: 0.7477\n",
      "Epoch 21/35\n",
      "125/125 [==============================] - 27s 216ms/step - loss: 0.8081 - binary_accuracy: 0.7216 - recall: 0.9385 - f1: 0.7595\n",
      "Epoch 22/35\n",
      "125/125 [==============================] - 27s 214ms/step - loss: 0.8140 - binary_accuracy: 0.7171 - recall: 0.9476 - f1: 0.7609\n",
      "Epoch 23/35\n",
      "125/125 [==============================] - 27s 218ms/step - loss: 0.8332 - binary_accuracy: 0.7096 - recall: 0.9397 - f1: 0.75695s - loss: 0.8308 - binary_accuracy: 0.7163 - reca\n",
      "Epoch 24/35\n",
      "125/125 [==============================] - 28s 220ms/step - loss: 0.8233 - binary_accuracy: 0.7083 - recall: 0.9381 - f1: 0.7504\n",
      "Epoch 25/35\n",
      "125/125 [==============================] - 27s 212ms/step - loss: 0.8061 - binary_accuracy: 0.7189 - recall: 0.9437 - f1: 0.76136s - loss: 0.8016 - binary_accuracy: 0.714\n",
      "Epoch 26/35\n",
      "125/125 [==============================] - 27s 214ms/step - loss: 0.8186 - binary_accuracy: 0.7160 - recall: 0.9259 - f1: 0.7552\n",
      "Epoch 27/35\n",
      "125/125 [==============================] - 27s 212ms/step - loss: 0.8284 - binary_accuracy: 0.7083 - recall: 0.9297 - f1: 0.7495\n",
      "Epoch 28/35\n",
      "125/125 [==============================] - 28s 224ms/step - loss: 0.7996 - binary_accuracy: 0.7189 - recall: 0.9388 - f1: 0.7642\n",
      "Epoch 29/35\n",
      "125/125 [==============================] - 27s 218ms/step - loss: 0.7902 - binary_accuracy: 0.7309 - recall: 0.9491 - f1: 0.7681\n",
      "Epoch 30/35\n",
      "125/125 [==============================] - 27s 220ms/step - loss: 0.7999 - binary_accuracy: 0.7256 - recall: 0.9410 - f1: 0.7651\n",
      "Epoch 31/35\n",
      "125/125 [==============================] - 26s 211ms/step - loss: 0.7920 - binary_accuracy: 0.7251 - recall: 0.9432 - f1: 0.7654\n",
      "Epoch 32/35\n",
      "125/125 [==============================] - 27s 214ms/step - loss: 0.7882 - binary_accuracy: 0.7283 - recall: 0.9398 - f1: 0.7625\n",
      "Epoch 33/35\n",
      "125/125 [==============================] - 26s 208ms/step - loss: 0.8051 - binary_accuracy: 0.7171 - recall: 0.9415 - f1: 0.7630\n",
      "Epoch 34/35\n",
      "125/125 [==============================] - 26s 211ms/step - loss: 0.8004 - binary_accuracy: 0.7125 - recall: 0.9458 - f1: 0.75922s - loss: 0.7932 - binary_accuracy: 0.7137 - recall: 0.9502\n",
      "Epoch 35/35\n",
      "125/125 [==============================] - 27s 216ms/step - loss: 0.7751 - binary_accuracy: 0.7317 - recall: 0.9426 - f1: 0.7695\n"
     ]
    },
    {
     "data": {
      "text/plain": [
       "<keras.callbacks.History at 0x267b2c737f0>"
      ]
     },
     "execution_count": 28,
     "metadata": {},
     "output_type": "execute_result"
    }
   ],
   "source": [
    "model_2.fit_generator(\n",
    "        train_gen2,\n",
    "        steps_per_epoch=ceil(1870/batch_size),\n",
    "        epochs=35,\n",
    "        class_weight = {0:1,\n",
    "                        1:3}\n",
    ")"
   ]
  },
  {
   "cell_type": "code",
   "execution_count": 29,
   "metadata": {
    "ExecuteTime": {
     "end_time": "2019-04-16T04:57:34.617413Z",
     "start_time": "2019-04-16T04:57:28.779118Z"
    },
    "scrolled": true
   },
   "outputs": [
    {
     "name": "stdout",
     "output_type": "stream",
     "text": [
      "32/32 [==============================] - 6s 182ms/step\n"
     ]
    },
    {
     "data": {
      "text/plain": [
       "[0.5455130047332017,\n",
       " 0.7735042870044708,\n",
       " 0.8983608988615183,\n",
       " 0.7841587930153577]"
      ]
     },
     "execution_count": 29,
     "metadata": {},
     "output_type": "execute_result"
    }
   ],
   "source": [
    "model_2.evaluate_generator(test_gen2, steps = len(test_gen2), verbose=1)\n"
   ]
  },
  {
   "cell_type": "code",
   "execution_count": 83,
   "metadata": {
    "ExecuteTime": {
     "end_time": "2019-04-16T17:06:40.163895Z",
     "start_time": "2019-04-16T17:06:38.984405Z"
    }
   },
   "outputs": [
    {
     "data": {
      "text/plain": [
       "array([[1.]], dtype=float32)"
      ]
     },
     "execution_count": 83,
     "metadata": {},
     "output_type": "execute_result"
    },
    {
     "data": {
      "image/png": "[encoded data removed]",
      "text/plain": [
       "<Figure size 432x288 with 1 Axes>"
      ]
     },
     "metadata": {},
     "output_type": "display_data"
    }
   ],
   "source": [
    "import matplotlib.pyplot as plt\n",
    "import cv2 as cv\n",
    "\n",
    "img= cv.imread('.\\mole2.jpg')\n",
    "img_gray = cv.cvtColor(img, cv.COLOR_BGR2GRAY)\n",
    "\n",
    "plt.imshow(img_gray)\n",
    "img_gray=cv.resize(img_gray,(150,150))\n",
    "img=img_gray.reshape(1,150,150,1)\n",
    "\n",
    "model_2.predict(img)\n",
    "\n",
    "# plt.imshow(img)\n",
    "# img.reshape(406,406)\n",
    "# typ\n",
    "# plt.imshow(img)"
   ]
  },
  {
   "cell_type": "code",
   "execution_count": null,
   "metadata": {
    "collapsed": true
   },
   "outputs": [],
   "source": [
    "model_2.predict()"
   ]
  },
  {
   "cell_type": "code",
   "execution_count": 31,
   "metadata": {
    "ExecuteTime": {
     "end_time": "2019-04-16T04:59:28.262786Z",
     "start_time": "2019-04-16T04:59:28.232857Z"
    }
   },
   "outputs": [
    {
     "name": "stdout",
     "output_type": "stream",
     "text": [
      "Found 468 images belonging to 2 classes.\n"
     ]
    }
   ],
   "source": [
    "test_gen2 = ImageDataGenerator(rescale = 1./255)\n",
    "test_gen2 = test_gen2.flow_from_dataframe(dataframe=df_test, directory ='.\\All_Images', x_col='image_id', y_col='dx',target_size=image_dimensions, color_mode='grayscale', class_mode='binary', batch_size= batch_size, shuffle=False)"
   ]
  },
  {
   "cell_type": "code",
   "execution_count": 32,
   "metadata": {
    "ExecuteTime": {
     "end_time": "2019-04-16T04:59:34.866055Z",
     "start_time": "2019-04-16T04:59:29.632350Z"
    },
    "collapsed": true
   },
   "outputs": [],
   "source": [
    "y_pred_2=model_2.predict_generator(test_gen2,steps = len(test_gen2))"
   ]
  },
  {
   "cell_type": "code",
   "execution_count": 33,
   "metadata": {
    "ExecuteTime": {
     "end_time": "2019-04-16T04:59:35.105378Z",
     "start_time": "2019-04-16T04:59:35.101388Z"
    },
    "collapsed": true
   },
   "outputs": [],
   "source": [
    "y_true_2=test_gen2.classes"
   ]
  },
  {
   "cell_type": "code",
   "execution_count": 34,
   "metadata": {
    "ExecuteTime": {
     "end_time": "2019-04-16T04:59:38.031042Z",
     "start_time": "2019-04-16T04:59:38.027026Z"
    },
    "collapsed": true
   },
   "outputs": [],
   "source": [
    "k=0\n",
    "for i in y_pred_2:\n",
    "    if y_pred_2[k]>=.5:\n",
    "        y_pred_2[k]=1\n",
    "    else:\n",
    "        y_pred_2[k]=0\n",
    "    k=k+1\n",
    "    "
   ]
  },
  {
   "cell_type": "code",
   "execution_count": 35,
   "metadata": {
    "ExecuteTime": {
     "end_time": "2019-04-16T04:59:42.984766Z",
     "start_time": "2019-04-16T04:59:42.972799Z"
    }
   },
   "outputs": [
    {
     "data": {
      "text/plain": [
       "array([[151,  83],\n",
       "       [ 23, 211]])"
      ]
     },
     "execution_count": 35,
     "metadata": {},
     "output_type": "execute_result"
    }
   ],
   "source": [
    "def miguel_matrix(y_true_2,y_pred_2):\n",
    "    tp=0\n",
    "    tn=0\n",
    "    fp=0\n",
    "    fn=0\n",
    "    k=0\n",
    "    for i in range(len(y_pred_2)):\n",
    "        if y_pred_2[k]==0 and y_true_2[k]==0:\n",
    "            tn=tn+1\n",
    "        if y_pred_2[k]==1 and y_true_2[k]==1:\n",
    "            tp=tp+1\n",
    "        if y_pred_2[k]==0 and y_true_2[k]==1:\n",
    "            fn=fn+1\n",
    "        if y_pred_2[k]==1 and y_true_2[k]==0:\n",
    "            fp=fp+1\n",
    "        k=k+1\n",
    "        \n",
    "    return np.array([[tn ,fp],[fn, tp]])\n",
    "\n",
    "miguel_matrix=miguel_matrix(y_true_2,y_pred_2)\n",
    "miguel_matrix"
   ]
  },
  {
   "cell_type": "code",
   "execution_count": 36,
   "metadata": {
    "ExecuteTime": {
     "end_time": "2019-04-16T04:59:48.436171Z",
     "start_time": "2019-04-16T04:59:48.431185Z"
    },
    "scrolled": true
   },
   "outputs": [
    {
     "name": "stdout",
     "output_type": "stream",
     "text": [
      "0.9017094017094017\n",
      "0.717687074829932\n"
     ]
    }
   ],
   "source": [
    "tn=miguel_matrix[0][0]\n",
    "fp=miguel_matrix[0][1]\n",
    "fn=miguel_matrix[1][0]\n",
    "tp=miguel_matrix[1][1]\n",
    "\n",
    "recall=tp/(tp+fn)\n",
    "precision=tp/(tp+fp)\n",
    "print(recall)\n",
    "print(precision)"
   ]
  },
  {
   "cell_type": "code",
   "execution_count": 37,
   "metadata": {
    "ExecuteTime": {
     "end_time": "2019-04-16T04:59:56.256541Z",
     "start_time": "2019-04-16T04:59:56.251554Z"
    }
   },
   "outputs": [
    {
     "data": {
      "text/plain": [
       "0.7735042735042735"
      ]
     },
     "execution_count": 37,
     "metadata": {},
     "output_type": "execute_result"
    }
   ],
   "source": [
    "accuracy= (tp+tn)/(tp+fn+fp+tn)\n",
    "accuracy"
   ]
  },
  {
   "cell_type": "code",
   "execution_count": 43,
   "metadata": {
    "ExecuteTime": {
     "end_time": "2019-04-15T21:25:33.911249Z",
     "start_time": "2019-04-15T21:25:33.902268Z"
    }
   },
   "outputs": [
    {
     "data": {
      "text/plain": [
       "array([[ 41, 193],\n",
       "       [ 39, 195]], dtype=int64)"
      ]
     },
     "execution_count": 43,
     "metadata": {},
     "output_type": "execute_result"
    }
   ],
   "source": [
    "from sklearn.metrics import confusion_matrix\n",
    "confusion_matrix(y_true_2,y_pred_2)"
   ]
  },
  {
   "cell_type": "markdown",
   "metadata": {
    "heading_collapsed": true
   },
   "source": [
    "# Trying Individual Images "
   ]
  },
  {
   "cell_type": "code",
   "execution_count": 346,
   "metadata": {
    "ExecuteTime": {
     "end_time": "2019-04-14T01:30:33.108826Z",
     "start_time": "2019-04-14T01:30:33.104280Z"
    },
    "collapsed": true,
    "hidden": true
   },
   "outputs": [],
   "source": [
    "test_gen_ind = ImageDataGenerator(rescale = 1./255)"
   ]
  },
  {
   "cell_type": "code",
   "execution_count": 347,
   "metadata": {
    "ExecuteTime": {
     "end_time": "2019-04-14T01:30:33.350447Z",
     "start_time": "2019-04-14T01:30:33.339113Z"
    },
    "hidden": true
   },
   "outputs": [
    {
     "data": {
      "text/html": [
       "<div>\n",
       "<style scoped>\n",
       "    .dataframe tbody tr th:only-of-type {\n",
       "        vertical-align: middle;\n",
       "    }\n",
       "\n",
       "    .dataframe tbody tr th {\n",
       "        vertical-align: top;\n",
       "    }\n",
       "\n",
       "    .dataframe thead th {\n",
       "        text-align: right;\n",
       "    }\n",
       "</style>\n",
       "<table border=\"1\" class=\"dataframe\">\n",
       "  <thead>\n",
       "    <tr style=\"text-align: right;\">\n",
       "      <th></th>\n",
       "      <th>image_id</th>\n",
       "      <th>dx</th>\n",
       "    </tr>\n",
       "  </thead>\n",
       "  <tbody>\n",
       "    <tr>\n",
       "      <th>1964</th>\n",
       "      <td>ISIC_0026352.jpg</td>\n",
       "      <td>1_cancer</td>\n",
       "    </tr>\n",
       "    <tr>\n",
       "      <th>358</th>\n",
       "      <td>ISIC_0029522.jpg</td>\n",
       "      <td>0_not_cancer</td>\n",
       "    </tr>\n",
       "    <tr>\n",
       "      <th>1773</th>\n",
       "      <td>ISIC_0032462.jpg</td>\n",
       "      <td>1_cancer</td>\n",
       "    </tr>\n",
       "    <tr>\n",
       "      <th>9784</th>\n",
       "      <td>ISIC_0030341.jpg</td>\n",
       "      <td>1_cancer</td>\n",
       "    </tr>\n",
       "    <tr>\n",
       "      <th>1253</th>\n",
       "      <td>ISIC_0031953.jpg</td>\n",
       "      <td>1_cancer</td>\n",
       "    </tr>\n",
       "  </tbody>\n",
       "</table>\n",
       "</div>"
      ],
      "text/plain": [
       "              image_id            dx\n",
       "1964  ISIC_0026352.jpg      1_cancer\n",
       "358   ISIC_0029522.jpg  0_not_cancer\n",
       "1773  ISIC_0032462.jpg      1_cancer\n",
       "9784  ISIC_0030341.jpg      1_cancer\n",
       "1253  ISIC_0031953.jpg      1_cancer"
      ]
     },
     "execution_count": 347,
     "metadata": {},
     "output_type": "execute_result"
    }
   ],
   "source": [
    "df_test.head()"
   ]
  },
  {
   "cell_type": "code",
   "execution_count": 348,
   "metadata": {
    "ExecuteTime": {
     "end_time": "2019-04-14T01:30:33.550643Z",
     "start_time": "2019-04-14T01:30:33.546062Z"
    },
    "collapsed": true,
    "hidden": true
   },
   "outputs": [],
   "source": [
    "ind_test=df_test.iloc[0:2,:]"
   ]
  },
  {
   "cell_type": "code",
   "execution_count": 349,
   "metadata": {
    "ExecuteTime": {
     "end_time": "2019-04-14T01:30:33.725323Z",
     "start_time": "2019-04-14T01:30:33.715456Z"
    },
    "hidden": true
   },
   "outputs": [
    {
     "data": {
      "text/html": [
       "<div>\n",
       "<style scoped>\n",
       "    .dataframe tbody tr th:only-of-type {\n",
       "        vertical-align: middle;\n",
       "    }\n",
       "\n",
       "    .dataframe tbody tr th {\n",
       "        vertical-align: top;\n",
       "    }\n",
       "\n",
       "    .dataframe thead th {\n",
       "        text-align: right;\n",
       "    }\n",
       "</style>\n",
       "<table border=\"1\" class=\"dataframe\">\n",
       "  <thead>\n",
       "    <tr style=\"text-align: right;\">\n",
       "      <th></th>\n",
       "      <th>image_id</th>\n",
       "      <th>dx</th>\n",
       "    </tr>\n",
       "  </thead>\n",
       "  <tbody>\n",
       "    <tr>\n",
       "      <th>1964</th>\n",
       "      <td>ISIC_0026352.jpg</td>\n",
       "      <td>1_cancer</td>\n",
       "    </tr>\n",
       "    <tr>\n",
       "      <th>358</th>\n",
       "      <td>ISIC_0029522.jpg</td>\n",
       "      <td>0_not_cancer</td>\n",
       "    </tr>\n",
       "  </tbody>\n",
       "</table>\n",
       "</div>"
      ],
      "text/plain": [
       "              image_id            dx\n",
       "1964  ISIC_0026352.jpg      1_cancer\n",
       "358   ISIC_0029522.jpg  0_not_cancer"
      ]
     },
     "execution_count": 349,
     "metadata": {},
     "output_type": "execute_result"
    }
   ],
   "source": [
    "ind_test"
   ]
  },
  {
   "cell_type": "code",
   "execution_count": 350,
   "metadata": {
    "ExecuteTime": {
     "end_time": "2019-04-14T01:30:34.852366Z",
     "start_time": "2019-04-14T01:30:34.839400Z"
    },
    "hidden": true,
    "scrolled": true
   },
   "outputs": [
    {
     "name": "stdout",
     "output_type": "stream",
     "text": [
      "Found 2 images belonging to 2 classes.\n"
     ]
    }
   ],
   "source": [
    "test_gen_ind = test_gen_ind.flow_from_dataframe(dataframe=ind_test, directory ='.\\All_Images', x_col='image_id', y_col='dx',target_size=image_dimensions, color_mode='grayscale', class_mode='binary', batch_size= 3)\n"
   ]
  },
  {
   "cell_type": "code",
   "execution_count": 353,
   "metadata": {
    "ExecuteTime": {
     "end_time": "2019-04-14T01:31:26.356999Z",
     "start_time": "2019-04-14T01:31:26.320475Z"
    },
    "hidden": true,
    "scrolled": true
   },
   "outputs": [
    {
     "name": "stdout",
     "output_type": "stream",
     "text": [
      "\r",
      "1/1 [==============================] - 0s 28ms/step\n"
     ]
    },
    {
     "data": {
      "text/plain": [
       "array([[0.9734937 ],\n",
       "       [0.77222997]], dtype=float32)"
      ]
     },
     "execution_count": 353,
     "metadata": {},
     "output_type": "execute_result"
    }
   ],
   "source": [
    "model_2.predict_generator(generator=test_gen_ind, verbose=1, steps = 1)"
   ]
  },
  {
   "cell_type": "markdown",
   "metadata": {},
   "source": [
    "# Iteration 3, not undersampling"
   ]
  },
  {
   "cell_type": "code",
   "execution_count": 169,
   "metadata": {
    "ExecuteTime": {
     "end_time": "2019-04-15T18:39:31.080699Z",
     "start_time": "2019-04-15T18:39:31.043764Z"
    }
   },
   "outputs": [
    {
     "data": {
      "text/html": [
       "<div>\n",
       "<style scoped>\n",
       "    .dataframe tbody tr th:only-of-type {\n",
       "        vertical-align: middle;\n",
       "    }\n",
       "\n",
       "    .dataframe tbody tr th {\n",
       "        vertical-align: top;\n",
       "    }\n",
       "\n",
       "    .dataframe thead th {\n",
       "        text-align: right;\n",
       "    }\n",
       "</style>\n",
       "<table border=\"1\" class=\"dataframe\">\n",
       "  <thead>\n",
       "    <tr style=\"text-align: right;\">\n",
       "      <th></th>\n",
       "      <th>lesion_id</th>\n",
       "      <th>image_id</th>\n",
       "      <th>dx</th>\n",
       "      <th>dx_type</th>\n",
       "      <th>age</th>\n",
       "      <th>sex</th>\n",
       "      <th>localization</th>\n",
       "    </tr>\n",
       "  </thead>\n",
       "  <tbody>\n",
       "    <tr>\n",
       "      <th>0</th>\n",
       "      <td>HAM_0000118</td>\n",
       "      <td>ISIC_0027419</td>\n",
       "      <td>bkl</td>\n",
       "      <td>histo</td>\n",
       "      <td>80.0</td>\n",
       "      <td>male</td>\n",
       "      <td>scalp</td>\n",
       "    </tr>\n",
       "    <tr>\n",
       "      <th>1</th>\n",
       "      <td>HAM_0000118</td>\n",
       "      <td>ISIC_0025030</td>\n",
       "      <td>bkl</td>\n",
       "      <td>histo</td>\n",
       "      <td>80.0</td>\n",
       "      <td>male</td>\n",
       "      <td>scalp</td>\n",
       "    </tr>\n",
       "    <tr>\n",
       "      <th>2</th>\n",
       "      <td>HAM_0002730</td>\n",
       "      <td>ISIC_0026769</td>\n",
       "      <td>bkl</td>\n",
       "      <td>histo</td>\n",
       "      <td>80.0</td>\n",
       "      <td>male</td>\n",
       "      <td>scalp</td>\n",
       "    </tr>\n",
       "    <tr>\n",
       "      <th>3</th>\n",
       "      <td>HAM_0002730</td>\n",
       "      <td>ISIC_0025661</td>\n",
       "      <td>bkl</td>\n",
       "      <td>histo</td>\n",
       "      <td>80.0</td>\n",
       "      <td>male</td>\n",
       "      <td>scalp</td>\n",
       "    </tr>\n",
       "    <tr>\n",
       "      <th>4</th>\n",
       "      <td>HAM_0001466</td>\n",
       "      <td>ISIC_0031633</td>\n",
       "      <td>bkl</td>\n",
       "      <td>histo</td>\n",
       "      <td>75.0</td>\n",
       "      <td>male</td>\n",
       "      <td>ear</td>\n",
       "    </tr>\n",
       "    <tr>\n",
       "      <th>5</th>\n",
       "      <td>HAM_0001466</td>\n",
       "      <td>ISIC_0027850</td>\n",
       "      <td>bkl</td>\n",
       "      <td>histo</td>\n",
       "      <td>75.0</td>\n",
       "      <td>male</td>\n",
       "      <td>ear</td>\n",
       "    </tr>\n",
       "    <tr>\n",
       "      <th>6</th>\n",
       "      <td>HAM_0002761</td>\n",
       "      <td>ISIC_0029176</td>\n",
       "      <td>bkl</td>\n",
       "      <td>histo</td>\n",
       "      <td>60.0</td>\n",
       "      <td>male</td>\n",
       "      <td>face</td>\n",
       "    </tr>\n",
       "    <tr>\n",
       "      <th>7</th>\n",
       "      <td>HAM_0002761</td>\n",
       "      <td>ISIC_0029068</td>\n",
       "      <td>bkl</td>\n",
       "      <td>histo</td>\n",
       "      <td>60.0</td>\n",
       "      <td>male</td>\n",
       "      <td>face</td>\n",
       "    </tr>\n",
       "    <tr>\n",
       "      <th>8</th>\n",
       "      <td>HAM_0005132</td>\n",
       "      <td>ISIC_0025837</td>\n",
       "      <td>bkl</td>\n",
       "      <td>histo</td>\n",
       "      <td>70.0</td>\n",
       "      <td>female</td>\n",
       "      <td>back</td>\n",
       "    </tr>\n",
       "    <tr>\n",
       "      <th>9</th>\n",
       "      <td>HAM_0005132</td>\n",
       "      <td>ISIC_0025209</td>\n",
       "      <td>bkl</td>\n",
       "      <td>histo</td>\n",
       "      <td>70.0</td>\n",
       "      <td>female</td>\n",
       "      <td>back</td>\n",
       "    </tr>\n",
       "  </tbody>\n",
       "</table>\n",
       "</div>"
      ],
      "text/plain": [
       "     lesion_id      image_id   dx dx_type   age     sex localization\n",
       "0  HAM_0000118  ISIC_0027419  bkl   histo  80.0    male        scalp\n",
       "1  HAM_0000118  ISIC_0025030  bkl   histo  80.0    male        scalp\n",
       "2  HAM_0002730  ISIC_0026769  bkl   histo  80.0    male        scalp\n",
       "3  HAM_0002730  ISIC_0025661  bkl   histo  80.0    male        scalp\n",
       "4  HAM_0001466  ISIC_0031633  bkl   histo  75.0    male          ear\n",
       "5  HAM_0001466  ISIC_0027850  bkl   histo  75.0    male          ear\n",
       "6  HAM_0002761  ISIC_0029176  bkl   histo  60.0    male         face\n",
       "7  HAM_0002761  ISIC_0029068  bkl   histo  60.0    male         face\n",
       "8  HAM_0005132  ISIC_0025837  bkl   histo  70.0  female         back\n",
       "9  HAM_0005132  ISIC_0025209  bkl   histo  70.0  female         back"
      ]
     },
     "execution_count": 169,
     "metadata": {},
     "output_type": "execute_result"
    }
   ],
   "source": [
    "from sklearn.metrics import confusion_matrix\n",
    "\n",
    "\n",
    "\n",
    "df = pd.read_csv('.\\HAM10000_metadata.csv')\n",
    "df.head(10)"
   ]
  },
  {
   "cell_type": "code",
   "execution_count": 170,
   "metadata": {
    "ExecuteTime": {
     "end_time": "2019-04-15T18:39:31.620632Z",
     "start_time": "2019-04-15T18:39:31.607529Z"
    },
    "collapsed": true
   },
   "outputs": [],
   "source": [
    "df_new=df.drop_duplicates('lesion_id')"
   ]
  },
  {
   "cell_type": "code",
   "execution_count": 171,
   "metadata": {
    "ExecuteTime": {
     "end_time": "2019-04-15T18:39:32.650514Z",
     "start_time": "2019-04-15T18:39:32.125157Z"
    }
   },
   "outputs": [
    {
     "name": "stderr",
     "output_type": "stream",
     "text": [
      "C:\\Users\\petra\\Anaconda3\\lib\\site-packages\\ipykernel_launcher.py:1: SettingWithCopyWarning: \n",
      "A value is trying to be set on a copy of a slice from a DataFrame.\n",
      "Try using .loc[row_indexer,col_indexer] = value instead\n",
      "\n",
      "See the caveats in the documentation: http://pandas.pydata.org/pandas-docs/stable/indexing.html#indexing-view-versus-copy\n",
      "  \"\"\"Entry point for launching an IPython kernel.\n"
     ]
    }
   ],
   "source": [
    "df_new['image_id']=df_new['image_id'].apply(lambda x: x+'.jpg' )"
   ]
  },
  {
   "cell_type": "code",
   "execution_count": 172,
   "metadata": {
    "ExecuteTime": {
     "end_time": "2019-04-15T18:39:33.128103Z",
     "start_time": "2019-04-15T18:39:33.116685Z"
    }
   },
   "outputs": [
    {
     "data": {
      "text/html": [
       "<div>\n",
       "<style scoped>\n",
       "    .dataframe tbody tr th:only-of-type {\n",
       "        vertical-align: middle;\n",
       "    }\n",
       "\n",
       "    .dataframe tbody tr th {\n",
       "        vertical-align: top;\n",
       "    }\n",
       "\n",
       "    .dataframe thead th {\n",
       "        text-align: right;\n",
       "    }\n",
       "</style>\n",
       "<table border=\"1\" class=\"dataframe\">\n",
       "  <thead>\n",
       "    <tr style=\"text-align: right;\">\n",
       "      <th></th>\n",
       "      <th>lesion_id</th>\n",
       "      <th>image_id</th>\n",
       "      <th>dx</th>\n",
       "      <th>dx_type</th>\n",
       "      <th>age</th>\n",
       "      <th>sex</th>\n",
       "      <th>localization</th>\n",
       "    </tr>\n",
       "  </thead>\n",
       "  <tbody>\n",
       "    <tr>\n",
       "      <th>0</th>\n",
       "      <td>HAM_0000118</td>\n",
       "      <td>ISIC_0027419.jpg</td>\n",
       "      <td>bkl</td>\n",
       "      <td>histo</td>\n",
       "      <td>80.0</td>\n",
       "      <td>male</td>\n",
       "      <td>scalp</td>\n",
       "    </tr>\n",
       "    <tr>\n",
       "      <th>2</th>\n",
       "      <td>HAM_0002730</td>\n",
       "      <td>ISIC_0026769.jpg</td>\n",
       "      <td>bkl</td>\n",
       "      <td>histo</td>\n",
       "      <td>80.0</td>\n",
       "      <td>male</td>\n",
       "      <td>scalp</td>\n",
       "    </tr>\n",
       "    <tr>\n",
       "      <th>4</th>\n",
       "      <td>HAM_0001466</td>\n",
       "      <td>ISIC_0031633.jpg</td>\n",
       "      <td>bkl</td>\n",
       "      <td>histo</td>\n",
       "      <td>75.0</td>\n",
       "      <td>male</td>\n",
       "      <td>ear</td>\n",
       "    </tr>\n",
       "    <tr>\n",
       "      <th>6</th>\n",
       "      <td>HAM_0002761</td>\n",
       "      <td>ISIC_0029176.jpg</td>\n",
       "      <td>bkl</td>\n",
       "      <td>histo</td>\n",
       "      <td>60.0</td>\n",
       "      <td>male</td>\n",
       "      <td>face</td>\n",
       "    </tr>\n",
       "    <tr>\n",
       "      <th>8</th>\n",
       "      <td>HAM_0005132</td>\n",
       "      <td>ISIC_0025837.jpg</td>\n",
       "      <td>bkl</td>\n",
       "      <td>histo</td>\n",
       "      <td>70.0</td>\n",
       "      <td>female</td>\n",
       "      <td>back</td>\n",
       "    </tr>\n",
       "  </tbody>\n",
       "</table>\n",
       "</div>"
      ],
      "text/plain": [
       "     lesion_id          image_id   dx dx_type   age     sex localization\n",
       "0  HAM_0000118  ISIC_0027419.jpg  bkl   histo  80.0    male        scalp\n",
       "2  HAM_0002730  ISIC_0026769.jpg  bkl   histo  80.0    male        scalp\n",
       "4  HAM_0001466  ISIC_0031633.jpg  bkl   histo  75.0    male          ear\n",
       "6  HAM_0002761  ISIC_0029176.jpg  bkl   histo  60.0    male         face\n",
       "8  HAM_0005132  ISIC_0025837.jpg  bkl   histo  70.0  female         back"
      ]
     },
     "execution_count": 172,
     "metadata": {},
     "output_type": "execute_result"
    }
   ],
   "source": [
    "df_new.head()"
   ]
  },
  {
   "cell_type": "code",
   "execution_count": 173,
   "metadata": {
    "ExecuteTime": {
     "end_time": "2019-04-15T18:39:33.614580Z",
     "start_time": "2019-04-15T18:39:33.608597Z"
    },
    "collapsed": true
   },
   "outputs": [],
   "source": [
    "df_new=df_new.loc[:,['image_id','dx']]\n"
   ]
  },
  {
   "cell_type": "code",
   "execution_count": 174,
   "metadata": {
    "ExecuteTime": {
     "end_time": "2019-04-15T18:39:33.985293Z",
     "start_time": "2019-04-15T18:39:33.973327Z"
    },
    "collapsed": true
   },
   "outputs": [],
   "source": [
    "def binary_coder(sample):\n",
    "    if (sample =='mel') or (sample=='bcc') or (sample==\"akiec\"):\n",
    "        sample='1_cancer'\n",
    "    else:\n",
    "        sample='0_not_cancer'\n",
    "        \n",
    "    return sample\n",
    "    \n",
    "\n",
    "# def binary_coder(sample):\n",
    "#     if (sample =='mel') or (sample=='bcc') or (sample==\"akiec\"):\n",
    "#         sample='cancer'\n",
    "#         return sample\n",
    "\n",
    "#     else:\n",
    "#         sample='not cancer'\n",
    "#         return sample\n",
    "    \n",
    "df_new['dx'] = df_new['dx'].apply(binary_coder) \n",
    "\n",
    "\n"
   ]
  },
  {
   "cell_type": "code",
   "execution_count": 175,
   "metadata": {
    "ExecuteTime": {
     "end_time": "2019-04-15T18:39:34.348059Z",
     "start_time": "2019-04-15T18:39:34.331327Z"
    },
    "scrolled": true
   },
   "outputs": [
    {
     "data": {
      "text/html": [
       "<div>\n",
       "<style scoped>\n",
       "    .dataframe tbody tr th:only-of-type {\n",
       "        vertical-align: middle;\n",
       "    }\n",
       "\n",
       "    .dataframe tbody tr th {\n",
       "        vertical-align: top;\n",
       "    }\n",
       "\n",
       "    .dataframe thead th {\n",
       "        text-align: right;\n",
       "    }\n",
       "</style>\n",
       "<table border=\"1\" class=\"dataframe\">\n",
       "  <thead>\n",
       "    <tr style=\"text-align: right;\">\n",
       "      <th></th>\n",
       "      <th>image_id</th>\n",
       "    </tr>\n",
       "    <tr>\n",
       "      <th>dx</th>\n",
       "      <th></th>\n",
       "    </tr>\n",
       "  </thead>\n",
       "  <tbody>\n",
       "    <tr>\n",
       "      <th>0_not_cancer</th>\n",
       "      <td>6301</td>\n",
       "    </tr>\n",
       "    <tr>\n",
       "      <th>1_cancer</th>\n",
       "      <td>1169</td>\n",
       "    </tr>\n",
       "  </tbody>\n",
       "</table>\n",
       "</div>"
      ],
      "text/plain": [
       "              image_id\n",
       "dx                    \n",
       "0_not_cancer      6301\n",
       "1_cancer          1169"
      ]
     },
     "execution_count": 175,
     "metadata": {},
     "output_type": "execute_result"
    }
   ],
   "source": [
    "df_new.groupby('dx').count()"
   ]
  },
  {
   "cell_type": "code",
   "execution_count": 176,
   "metadata": {
    "ExecuteTime": {
     "end_time": "2019-04-15T18:39:37.703300Z",
     "start_time": "2019-04-15T18:39:37.689335Z"
    }
   },
   "outputs": [
    {
     "name": "stderr",
     "output_type": "stream",
     "text": [
      "C:\\Users\\petra\\Anaconda3\\lib\\site-packages\\sklearn\\model_selection\\_split.py:2026: FutureWarning: From version 0.21, test_size will always complement train_size unless both are specified.\n",
      "  FutureWarning)\n"
     ]
    }
   ],
   "source": [
    "df_train_3, df_test_3 =train_test_split(df_new, train_size=.8, random_state =2, stratify=df_new['dx'])\n"
   ]
  },
  {
   "cell_type": "code",
   "execution_count": 177,
   "metadata": {
    "ExecuteTime": {
     "end_time": "2019-04-15T18:39:40.075982Z",
     "start_time": "2019-04-15T18:39:39.415209Z"
    }
   },
   "outputs": [
    {
     "name": "stdout",
     "output_type": "stream",
     "text": [
      "Found 5976 images belonging to 2 classes.\n",
      "Found 1494 images belonging to 2 classes.\n"
     ]
    }
   ],
   "source": [
    "batch_size = 32\n",
    "image_dimensions = (150,150)\n",
    "\n",
    "train_gen3 = ImageDataGenerator(rescale = 1./255, rotation_range = 45, horizontal_flip = True, vertical_flip = True, width_shift_range=[-20,20], height_shift_range=[-20,20])\n",
    "test_gen3 = ImageDataGenerator(rescale = 1./255)\n",
    "\n",
    "# train_gen = im_gen.flow_from_directory(directory = '..\\Images\\All_images_in_classes', target_size=(50,50), color_mode='rgb', class_mode = 'categorical', batch_size =100, subset ='training')\n",
    "# test_gen = im_gen.flow_from_directory(directory = '..\\Images\\All_images_in_classes', target_size=(50,50), color_mode='rgb', class_mode = 'categorical', batch_size =100, subset = 'validation')\n",
    "\n",
    "train_gen3=train_gen3.flow_from_dataframe(dataframe=df_train_3, directory ='.\\All_Images', x_col='image_id', y_col='dx',target_size=image_dimensions, color_mode='grayscale', class_mode='binary', batch_size= batch_size)\n",
    "test_gen3 = test_gen3.flow_from_dataframe(dataframe=df_test_3, directory ='.\\All_Images', x_col='image_id', y_col='dx',target_size=image_dimensions, color_mode='grayscale', class_mode='binary', batch_size= batch_size,Shuffle=False)\n"
   ]
  },
  {
   "cell_type": "code",
   "execution_count": 185,
   "metadata": {
    "ExecuteTime": {
     "end_time": "2019-04-15T18:40:33.933838Z",
     "start_time": "2019-04-15T18:40:33.653030Z"
    },
    "scrolled": false
   },
   "outputs": [
    {
     "name": "stdout",
     "output_type": "stream",
     "text": [
      "_________________________________________________________________\n",
      "Layer (type)                 Output Shape              Param #   \n",
      "=================================================================\n",
      "conv2d_22 (Conv2D)           (None, 148, 148, 32)      320       \n",
      "_________________________________________________________________\n",
      "activation_8 (Activation)    (None, 148, 148, 32)      0         \n",
      "_________________________________________________________________\n",
      "max_pooling2d_22 (MaxPooling (None, 74, 74, 32)        0         \n",
      "_________________________________________________________________\n",
      "conv2d_23 (Conv2D)           (None, 72, 72, 32)        9248      \n",
      "_________________________________________________________________\n",
      "max_pooling2d_23 (MaxPooling (None, 36, 36, 32)        0         \n",
      "_________________________________________________________________\n",
      "conv2d_24 (Conv2D)           (None, 34, 34, 64)        18496     \n",
      "_________________________________________________________________\n",
      "max_pooling2d_24 (MaxPooling (None, 17, 17, 64)        0         \n",
      "_________________________________________________________________\n",
      "flatten_8 (Flatten)          (None, 18496)             0         \n",
      "_________________________________________________________________\n",
      "dense_15 (Dense)             (None, 64)                1183808   \n",
      "_________________________________________________________________\n",
      "dense_16 (Dense)             (None, 1)                 65        \n",
      "=================================================================\n",
      "Total params: 1,211,937\n",
      "Trainable params: 1,211,937\n",
      "Non-trainable params: 0\n",
      "_________________________________________________________________\n"
     ]
    }
   ],
   "source": [
    "\n",
    "input_into_first_layer = (150,150,1)\n",
    "\n",
    "model_3 = Sequential()\n",
    "\n",
    "model_3.add(Conv2D(32, (3, 3),input_shape=input_into_first_layer))\n",
    "model_3.add(Activation('relu'))\n",
    "model_3.add(MaxPooling2D(pool_size=(2, 2)))\n",
    "\n",
    "model_3.add(Conv2D(32, (3, 3),activation = 'relu'))\n",
    "model_3.add(MaxPooling2D(pool_size=(2, 2) ))\n",
    "\n",
    "model_3.add(Conv2D(64, (3, 3), activation ='relu'))\n",
    "model_3.add(MaxPooling2D(pool_size=(2, 2)))\n",
    "\n",
    "model_3.add(Flatten())  # this converts our 3D feature maps to 1D feature vectors\n",
    "model_3.add(Dense(64, activation ='relu'))\n",
    "# model.add(Dropout(0.5))\n",
    "model_3.add(Dense(1, activation ='sigmoid'))\n",
    "# model.add(Activation('softmax'))\n",
    "\n",
    "model_3.compile(loss='binary_crossentropy',\n",
    "              optimizer='adam',\n",
    "              metrics=['binary_accuracy',recall,precision, f1])\n",
    "\n",
    "model_3.summary()"
   ]
  },
  {
   "cell_type": "code",
   "execution_count": 186,
   "metadata": {
    "ExecuteTime": {
     "end_time": "2019-04-15T18:46:21.321833Z",
     "start_time": "2019-04-15T18:40:38.515420Z"
    },
    "scrolled": true
   },
   "outputs": [
    {
     "name": "stdout",
     "output_type": "stream",
     "text": [
      "Epoch 1/10\n",
      "59/59 [==============================] - 38s 638ms/step - loss: 1.4243 - binary_accuracy: 0.1859 - recall: 0.9593 - precision: 0.1509 - f1: 0.2553\n",
      "Epoch 2/10\n",
      "59/59 [==============================] - 37s 630ms/step - loss: 1.3856 - binary_accuracy: 0.1504 - recall: 1.0000 - precision: 0.1504 - f1: 0.2554\n",
      "Epoch 3/10\n",
      "59/59 [==============================] - 38s 641ms/step - loss: 1.4128 - binary_accuracy: 0.1610 - recall: 1.0000 - precision: 0.1610 - f1: 0.2704\n",
      "Epoch 4/10\n",
      "59/59 [==============================] - 32s 535ms/step - loss: 1.3834 - binary_accuracy: 0.2161 - recall: 0.9489 - precision: 0.1638 - f1: 0.2720\n",
      "Epoch 5/10\n",
      "59/59 [==============================] - 33s 567ms/step - loss: 1.4119 - binary_accuracy: 0.3607 - recall: 0.8958 - precision: 0.2106 - f1: 0.3269\n",
      "Epoch 6/10\n",
      "59/59 [==============================] - 32s 547ms/step - loss: 1.3339 - binary_accuracy: 0.4942 - recall: 0.7730 - precision: 0.2166 - f1: 0.3220\n",
      "Epoch 7/10\n",
      "59/59 [==============================] - 34s 577ms/step - loss: 1.3675 - binary_accuracy: 0.4202 - recall: 0.8214 - precision: 0.1936 - f1: 0.3031\n",
      "Epoch 8/10\n",
      "59/59 [==============================] - 33s 554ms/step - loss: 1.2857 - binary_accuracy: 0.4576 - recall: 0.8617 - precision: 0.2067 - f1: 0.3202\n",
      "Epoch 9/10\n",
      "59/59 [==============================] - 33s 551ms/step - loss: 1.3090 - binary_accuracy: 0.4650 - recall: 0.8590 - precision: 0.2365 - f1: 0.3386\n",
      "Epoch 10/10\n",
      "59/59 [==============================] - 33s 555ms/step - loss: 1.2806 - binary_accuracy: 0.4792 - recall: 0.8736 - precision: 0.2229 - f1: 0.3446\n"
     ]
    },
    {
     "data": {
      "text/plain": [
       "<keras.callbacks.History at 0x19abf1f6390>"
      ]
     },
     "execution_count": 186,
     "metadata": {},
     "output_type": "execute_result"
    }
   ],
   "source": [
    "model_3.fit_generator(\n",
    "        train_gen3,\n",
    "        steps_per_epoch=ceil(1870/batch_size),\n",
    "        epochs=10,\n",
    "        class_weight = {0:1,\n",
    "                        1:8}\n",
    ")"
   ]
  },
  {
   "cell_type": "code",
   "execution_count": 255,
   "metadata": {
    "ExecuteTime": {
     "end_time": "2019-04-15T19:29:51.009353Z",
     "start_time": "2019-04-15T19:29:29.143857Z"
    },
    "scrolled": false
   },
   "outputs": [
    {
     "data": {
      "text/plain": [
       "[0.9140039164538045,\n",
       " 0.27710843389452383,\n",
       " 0.967488998709274,\n",
       " 0.17613074905581902,\n",
       " 0.29275800987898587]"
      ]
     },
     "execution_count": 255,
     "metadata": {},
     "output_type": "execute_result"
    }
   ],
   "source": [
    "model_3.evaluate_generator(test_gen3, steps = len(test_gen3))\n"
   ]
  },
  {
   "cell_type": "code",
   "execution_count": 218,
   "metadata": {
    "ExecuteTime": {
     "end_time": "2019-04-15T19:04:19.523620Z",
     "start_time": "2019-04-15T19:03:58.274421Z"
    },
    "collapsed": true
   },
   "outputs": [],
   "source": [
    "y_pred=model_3.predict_generator(test_gen3, steps=len(test_gen3))"
   ]
  },
  {
   "cell_type": "code",
   "execution_count": 219,
   "metadata": {
    "ExecuteTime": {
     "end_time": "2019-04-15T19:04:21.350252Z",
     "start_time": "2019-04-15T19:04:21.345697Z"
    }
   },
   "outputs": [
    {
     "data": {
      "text/plain": [
       "array([[0.92866725],\n",
       "       [0.6599717 ],\n",
       "       [0.6191731 ],\n",
       "       ...,\n",
       "       [0.34929526],\n",
       "       [0.6133474 ],\n",
       "       [0.6321764 ]], dtype=float32)"
      ]
     },
     "execution_count": 219,
     "metadata": {},
     "output_type": "execute_result"
    }
   ],
   "source": [
    "y_pred"
   ]
  },
  {
   "cell_type": "code",
   "execution_count": 220,
   "metadata": {
    "ExecuteTime": {
     "end_time": "2019-04-15T19:04:25.322772Z",
     "start_time": "2019-04-15T19:04:25.319780Z"
    },
    "collapsed": true
   },
   "outputs": [],
   "source": [
    "# y_pred=model_3.predict_generator(test_gen3, steps = len(test_gen3))\n",
    "y_true=test_gen3.classes\n",
    "\n"
   ]
  },
  {
   "cell_type": "code",
   "execution_count": null,
   "metadata": {
    "collapsed": true
   },
   "outputs": [],
   "source": []
  },
  {
   "cell_type": "code",
   "execution_count": 222,
   "metadata": {
    "ExecuteTime": {
     "end_time": "2019-04-15T19:04:55.896571Z",
     "start_time": "2019-04-15T19:04:55.883019Z"
    }
   },
   "outputs": [
    {
     "data": {
      "text/plain": [
       "[0,\n",
       " 0,\n",
       " 0,\n",
       " 0,\n",
       " 0,\n",
       " 0,\n",
       " 0,\n",
       " 0,\n",
       " 0,\n",
       " 0,\n",
       " 0,\n",
       " 0,\n",
       " 0,\n",
       " 0,\n",
       " 0,\n",
       " 0,\n",
       " 0,\n",
       " 0,\n",
       " 0,\n",
       " 0,\n",
       " 0,\n",
       " 0,\n",
       " 0,\n",
       " 0,\n",
       " 1,\n",
       " 0,\n",
       " 1,\n",
       " 0,\n",
       " 0,\n",
       " 0,\n",
       " 0,\n",
       " 0,\n",
       " 0,\n",
       " 1,\n",
       " 1,\n",
       " 0,\n",
       " 0,\n",
       " 1,\n",
       " 0,\n",
       " 0,\n",
       " 0,\n",
       " 0,\n",
       " 0,\n",
       " 0,\n",
       " 0,\n",
       " 0,\n",
       " 1,\n",
       " 0,\n",
       " 0,\n",
       " 0,\n",
       " 0,\n",
       " 0,\n",
       " 1,\n",
       " 1,\n",
       " 0,\n",
       " 0,\n",
       " 0,\n",
       " 0,\n",
       " 0,\n",
       " 1,\n",
       " 1,\n",
       " 0,\n",
       " 0,\n",
       " 0,\n",
       " 0,\n",
       " 0,\n",
       " 0,\n",
       " 0,\n",
       " 0,\n",
       " 0,\n",
       " 1,\n",
       " 0,\n",
       " 0,\n",
       " 0,\n",
       " 0,\n",
       " 0,\n",
       " 0,\n",
       " 0,\n",
       " 0,\n",
       " 0,\n",
       " 0,\n",
       " 1,\n",
       " 0,\n",
       " 0,\n",
       " 1,\n",
       " 0,\n",
       " 0,\n",
       " 0,\n",
       " 0,\n",
       " 0,\n",
       " 0,\n",
       " 0,\n",
       " 0,\n",
       " 0,\n",
       " 0,\n",
       " 0,\n",
       " 0,\n",
       " 1,\n",
       " 0,\n",
       " 0,\n",
       " 0,\n",
       " 0,\n",
       " 1,\n",
       " 0,\n",
       " 0,\n",
       " 0,\n",
       " 1,\n",
       " 0,\n",
       " 0,\n",
       " 0,\n",
       " 0,\n",
       " 0,\n",
       " 0,\n",
       " 1,\n",
       " 0,\n",
       " 0,\n",
       " 1,\n",
       " 0,\n",
       " 0,\n",
       " 0,\n",
       " 0,\n",
       " 0,\n",
       " 0,\n",
       " 1,\n",
       " 0,\n",
       " 0,\n",
       " 0,\n",
       " 0,\n",
       " 1,\n",
       " 1,\n",
       " 0,\n",
       " 0,\n",
       " 0,\n",
       " 0,\n",
       " 0,\n",
       " 0,\n",
       " 0,\n",
       " 0,\n",
       " 0,\n",
       " 0,\n",
       " 0,\n",
       " 0,\n",
       " 0,\n",
       " 0,\n",
       " 1,\n",
       " 0,\n",
       " 1,\n",
       " 0,\n",
       " 0,\n",
       " 0,\n",
       " 0,\n",
       " 0,\n",
       " 0,\n",
       " 0,\n",
       " 0,\n",
       " 0,\n",
       " 0,\n",
       " 0,\n",
       " 0,\n",
       " 0,\n",
       " 0,\n",
       " 1,\n",
       " 0,\n",
       " 0,\n",
       " 0,\n",
       " 0,\n",
       " 0,\n",
       " 0,\n",
       " 1,\n",
       " 0,\n",
       " 0,\n",
       " 1,\n",
       " 0,\n",
       " 0,\n",
       " 0,\n",
       " 0,\n",
       " 1,\n",
       " 1,\n",
       " 0,\n",
       " 0,\n",
       " 0,\n",
       " 0,\n",
       " 0,\n",
       " 0,\n",
       " 1,\n",
       " 0,\n",
       " 0,\n",
       " 1,\n",
       " 0,\n",
       " 0,\n",
       " 0,\n",
       " 0,\n",
       " 0,\n",
       " 1,\n",
       " 0,\n",
       " 0,\n",
       " 1,\n",
       " 0,\n",
       " 1,\n",
       " 0,\n",
       " 1,\n",
       " 0,\n",
       " 0,\n",
       " 1,\n",
       " 0,\n",
       " 0,\n",
       " 0,\n",
       " 0,\n",
       " 0,\n",
       " 1,\n",
       " 0,\n",
       " 0,\n",
       " 0,\n",
       " 1,\n",
       " 0,\n",
       " 0,\n",
       " 1,\n",
       " 0,\n",
       " 0,\n",
       " 0,\n",
       " 0,\n",
       " 0,\n",
       " 0,\n",
       " 0,\n",
       " 0,\n",
       " 1,\n",
       " 0,\n",
       " 0,\n",
       " 0,\n",
       " 0,\n",
       " 0,\n",
       " 1,\n",
       " 0,\n",
       " 0,\n",
       " 0,\n",
       " 1,\n",
       " 0,\n",
       " 0,\n",
       " 0,\n",
       " 0,\n",
       " 1,\n",
       " 1,\n",
       " 0,\n",
       " 0,\n",
       " 0,\n",
       " 0,\n",
       " 1,\n",
       " 0,\n",
       " 1,\n",
       " 0,\n",
       " 1,\n",
       " 1,\n",
       " 1,\n",
       " 0,\n",
       " 0,\n",
       " 0,\n",
       " 0,\n",
       " 0,\n",
       " 0,\n",
       " 0,\n",
       " 0,\n",
       " 0,\n",
       " 0,\n",
       " 0,\n",
       " 0,\n",
       " 0,\n",
       " 1,\n",
       " 0,\n",
       " 0,\n",
       " 1,\n",
       " 1,\n",
       " 1,\n",
       " 0,\n",
       " 0,\n",
       " 0,\n",
       " 0,\n",
       " 0,\n",
       " 0,\n",
       " 1,\n",
       " 1,\n",
       " 0,\n",
       " 0,\n",
       " 1,\n",
       " 0,\n",
       " 0,\n",
       " 0,\n",
       " 0,\n",
       " 0,\n",
       " 1,\n",
       " 0,\n",
       " 1,\n",
       " 0,\n",
       " 0,\n",
       " 0,\n",
       " 0,\n",
       " 0,\n",
       " 0,\n",
       " 0,\n",
       " 0,\n",
       " 0,\n",
       " 0,\n",
       " 1,\n",
       " 1,\n",
       " 0,\n",
       " 1,\n",
       " 0,\n",
       " 0,\n",
       " 1,\n",
       " 0,\n",
       " 0,\n",
       " 1,\n",
       " 0,\n",
       " 0,\n",
       " 0,\n",
       " 0,\n",
       " 0,\n",
       " 0,\n",
       " 0,\n",
       " 0,\n",
       " 0,\n",
       " 0,\n",
       " 0,\n",
       " 0,\n",
       " 0,\n",
       " 0,\n",
       " 0,\n",
       " 0,\n",
       " 0,\n",
       " 0,\n",
       " 0,\n",
       " 0,\n",
       " 0,\n",
       " 0,\n",
       " 0,\n",
       " 0,\n",
       " 0,\n",
       " 0,\n",
       " 1,\n",
       " 0,\n",
       " 0,\n",
       " 0,\n",
       " 1,\n",
       " 0,\n",
       " 0,\n",
       " 0,\n",
       " 0,\n",
       " 0,\n",
       " 0,\n",
       " 0,\n",
       " 0,\n",
       " 1,\n",
       " 1,\n",
       " 0,\n",
       " 0,\n",
       " 0,\n",
       " 0,\n",
       " 0,\n",
       " 0,\n",
       " 0,\n",
       " 0,\n",
       " 0,\n",
       " 0,\n",
       " 0,\n",
       " 0,\n",
       " 0,\n",
       " 1,\n",
       " 0,\n",
       " 0,\n",
       " 0,\n",
       " 0,\n",
       " 0,\n",
       " 0,\n",
       " 0,\n",
       " 0,\n",
       " 0,\n",
       " 0,\n",
       " 0,\n",
       " 0,\n",
       " 0,\n",
       " 0,\n",
       " 0,\n",
       " 1,\n",
       " 0,\n",
       " 0,\n",
       " 0,\n",
       " 0,\n",
       " 0,\n",
       " 0,\n",
       " 0,\n",
       " 0,\n",
       " 0,\n",
       " 0,\n",
       " 1,\n",
       " 0,\n",
       " 0,\n",
       " 1,\n",
       " 1,\n",
       " 0,\n",
       " 0,\n",
       " 0,\n",
       " 0,\n",
       " 0,\n",
       " 0,\n",
       " 0,\n",
       " 1,\n",
       " 0,\n",
       " 0,\n",
       " 0,\n",
       " 0,\n",
       " 0,\n",
       " 0,\n",
       " 0,\n",
       " 1,\n",
       " 0,\n",
       " 0,\n",
       " 0,\n",
       " 0,\n",
       " 1,\n",
       " 0,\n",
       " 0,\n",
       " 0,\n",
       " 0,\n",
       " 0,\n",
       " 0,\n",
       " 0,\n",
       " 0,\n",
       " 0,\n",
       " 0,\n",
       " 1,\n",
       " 0,\n",
       " 0,\n",
       " 0,\n",
       " 0,\n",
       " 0,\n",
       " 0,\n",
       " 1,\n",
       " 0,\n",
       " 1,\n",
       " 0,\n",
       " 0,\n",
       " 0,\n",
       " 0,\n",
       " 0,\n",
       " 0,\n",
       " 0,\n",
       " 0,\n",
       " 0,\n",
       " 0,\n",
       " 0,\n",
       " 0,\n",
       " 0,\n",
       " 0,\n",
       " 0,\n",
       " 0,\n",
       " 0,\n",
       " 0,\n",
       " 1,\n",
       " 0,\n",
       " 0,\n",
       " 0,\n",
       " 0,\n",
       " 0,\n",
       " 0,\n",
       " 0,\n",
       " 0,\n",
       " 0,\n",
       " 1,\n",
       " 0,\n",
       " 0,\n",
       " 0,\n",
       " 1,\n",
       " 0,\n",
       " 0,\n",
       " 1,\n",
       " 0,\n",
       " 0,\n",
       " 0,\n",
       " 0,\n",
       " 0,\n",
       " 0,\n",
       " 0,\n",
       " 1,\n",
       " 0,\n",
       " 1,\n",
       " 0,\n",
       " 0,\n",
       " 0,\n",
       " 0,\n",
       " 1,\n",
       " 0,\n",
       " 0,\n",
       " 1,\n",
       " 0,\n",
       " 0,\n",
       " 0,\n",
       " 0,\n",
       " 0,\n",
       " 1,\n",
       " 0,\n",
       " 0,\n",
       " 0,\n",
       " 0,\n",
       " 1,\n",
       " 1,\n",
       " 1,\n",
       " 0,\n",
       " 0,\n",
       " 0,\n",
       " 0,\n",
       " 0,\n",
       " 0,\n",
       " 0,\n",
       " 0,\n",
       " 0,\n",
       " 0,\n",
       " 0,\n",
       " 0,\n",
       " 0,\n",
       " 0,\n",
       " 1,\n",
       " 0,\n",
       " 0,\n",
       " 0,\n",
       " 0,\n",
       " 0,\n",
       " 0,\n",
       " 0,\n",
       " 0,\n",
       " 0,\n",
       " 0,\n",
       " 0,\n",
       " 1,\n",
       " 0,\n",
       " 0,\n",
       " 0,\n",
       " 0,\n",
       " 0,\n",
       " 1,\n",
       " 0,\n",
       " 0,\n",
       " 0,\n",
       " 0,\n",
       " 0,\n",
       " 0,\n",
       " 0,\n",
       " 0,\n",
       " 0,\n",
       " 0,\n",
       " 0,\n",
       " 0,\n",
       " 0,\n",
       " 0,\n",
       " 0,\n",
       " 0,\n",
       " 0,\n",
       " 0,\n",
       " 0,\n",
       " 0,\n",
       " 0,\n",
       " 1,\n",
       " 1,\n",
       " 0,\n",
       " 0,\n",
       " 0,\n",
       " 0,\n",
       " 0,\n",
       " 0,\n",
       " 0,\n",
       " 0,\n",
       " 0,\n",
       " 0,\n",
       " 0,\n",
       " 0,\n",
       " 0,\n",
       " 0,\n",
       " 0,\n",
       " 0,\n",
       " 0,\n",
       " 0,\n",
       " 0,\n",
       " 0,\n",
       " 0,\n",
       " 0,\n",
       " 0,\n",
       " 0,\n",
       " 0,\n",
       " 0,\n",
       " 0,\n",
       " 0,\n",
       " 1,\n",
       " 0,\n",
       " 0,\n",
       " 0,\n",
       " 0,\n",
       " 0,\n",
       " 0,\n",
       " 0,\n",
       " 0,\n",
       " 0,\n",
       " 0,\n",
       " 0,\n",
       " 1,\n",
       " 0,\n",
       " 0,\n",
       " 0,\n",
       " 0,\n",
       " 0,\n",
       " 0,\n",
       " 0,\n",
       " 0,\n",
       " 0,\n",
       " 0,\n",
       " 0,\n",
       " 0,\n",
       " 0,\n",
       " 0,\n",
       " 0,\n",
       " 0,\n",
       " 0,\n",
       " 0,\n",
       " 0,\n",
       " 0,\n",
       " 0,\n",
       " 0,\n",
       " 0,\n",
       " 0,\n",
       " 0,\n",
       " 0,\n",
       " 1,\n",
       " 0,\n",
       " 0,\n",
       " 1,\n",
       " 0,\n",
       " 1,\n",
       " 0,\n",
       " 0,\n",
       " 0,\n",
       " 0,\n",
       " 1,\n",
       " 0,\n",
       " 0,\n",
       " 0,\n",
       " 1,\n",
       " 0,\n",
       " 0,\n",
       " 0,\n",
       " 1,\n",
       " 0,\n",
       " 0,\n",
       " 1,\n",
       " 0,\n",
       " 1,\n",
       " 0,\n",
       " 0,\n",
       " 0,\n",
       " 1,\n",
       " 0,\n",
       " 0,\n",
       " 0,\n",
       " 0,\n",
       " 0,\n",
       " 0,\n",
       " 0,\n",
       " 0,\n",
       " 0,\n",
       " 0,\n",
       " 1,\n",
       " 1,\n",
       " 0,\n",
       " 0,\n",
       " 0,\n",
       " 0,\n",
       " 0,\n",
       " 0,\n",
       " 0,\n",
       " 0,\n",
       " 0,\n",
       " 0,\n",
       " 0,\n",
       " 0,\n",
       " 0,\n",
       " 0,\n",
       " 0,\n",
       " 0,\n",
       " 1,\n",
       " 0,\n",
       " 1,\n",
       " 0,\n",
       " 1,\n",
       " 0,\n",
       " 0,\n",
       " 0,\n",
       " 0,\n",
       " 0,\n",
       " 0,\n",
       " 0,\n",
       " 0,\n",
       " 0,\n",
       " 0,\n",
       " 0,\n",
       " 0,\n",
       " 1,\n",
       " 0,\n",
       " 0,\n",
       " 0,\n",
       " 0,\n",
       " 0,\n",
       " 1,\n",
       " 0,\n",
       " 0,\n",
       " 1,\n",
       " 0,\n",
       " 0,\n",
       " 0,\n",
       " 0,\n",
       " 0,\n",
       " 0,\n",
       " 0,\n",
       " 0,\n",
       " 0,\n",
       " 0,\n",
       " 0,\n",
       " 0,\n",
       " 0,\n",
       " 1,\n",
       " 0,\n",
       " 0,\n",
       " 0,\n",
       " 0,\n",
       " 0,\n",
       " 0,\n",
       " 1,\n",
       " 0,\n",
       " 0,\n",
       " 0,\n",
       " 0,\n",
       " 0,\n",
       " 0,\n",
       " 1,\n",
       " 1,\n",
       " 0,\n",
       " 0,\n",
       " 0,\n",
       " 0,\n",
       " 0,\n",
       " 0,\n",
       " 0,\n",
       " 0,\n",
       " 0,\n",
       " 0,\n",
       " 0,\n",
       " 1,\n",
       " 0,\n",
       " 0,\n",
       " 1,\n",
       " 0,\n",
       " 0,\n",
       " 1,\n",
       " 1,\n",
       " 1,\n",
       " 0,\n",
       " 1,\n",
       " 0,\n",
       " 0,\n",
       " 0,\n",
       " 0,\n",
       " 0,\n",
       " 0,\n",
       " 0,\n",
       " 0,\n",
       " 0,\n",
       " 1,\n",
       " 1,\n",
       " 0,\n",
       " 0,\n",
       " 0,\n",
       " 0,\n",
       " 0,\n",
       " 1,\n",
       " 0,\n",
       " 0,\n",
       " 0,\n",
       " 0,\n",
       " 1,\n",
       " 0,\n",
       " 0,\n",
       " 0,\n",
       " 0,\n",
       " 1,\n",
       " 1,\n",
       " 0,\n",
       " 0,\n",
       " 0,\n",
       " 0,\n",
       " 0,\n",
       " 1,\n",
       " 0,\n",
       " 1,\n",
       " 0,\n",
       " 0,\n",
       " 0,\n",
       " 0,\n",
       " 0,\n",
       " 0,\n",
       " 0,\n",
       " 0,\n",
       " 0,\n",
       " 0,\n",
       " 0,\n",
       " 0,\n",
       " 0,\n",
       " 0,\n",
       " 0,\n",
       " 0,\n",
       " 1,\n",
       " 0,\n",
       " 0,\n",
       " 1,\n",
       " 0,\n",
       " 0,\n",
       " 0,\n",
       " 0,\n",
       " 0,\n",
       " 0,\n",
       " 0,\n",
       " 0,\n",
       " 0,\n",
       " 0,\n",
       " 0,\n",
       " 0,\n",
       " 0,\n",
       " 0,\n",
       " 0,\n",
       " 0,\n",
       " 1,\n",
       " 0,\n",
       " 0,\n",
       " 0,\n",
       " 0,\n",
       " 0,\n",
       " 0,\n",
       " 0,\n",
       " 0,\n",
       " 0,\n",
       " 1,\n",
       " 0,\n",
       " 0,\n",
       " 1,\n",
       " 0,\n",
       " 0,\n",
       " 1,\n",
       " 0,\n",
       " 0,\n",
       " 1,\n",
       " 0,\n",
       " 1,\n",
       " 0,\n",
       " 1,\n",
       " 0,\n",
       " 0,\n",
       " 0,\n",
       " 0,\n",
       " 0,\n",
       " 0,\n",
       " 0,\n",
       " 1,\n",
       " 0,\n",
       " 1,\n",
       " 0,\n",
       " 0,\n",
       " 0,\n",
       " 1,\n",
       " 0,\n",
       " 0,\n",
       " 0,\n",
       " 0,\n",
       " 0,\n",
       " 0,\n",
       " 0,\n",
       " 0,\n",
       " 0,\n",
       " 0,\n",
       " 0,\n",
       " 0,\n",
       " 0,\n",
       " 0,\n",
       " 1,\n",
       " 0,\n",
       " 0,\n",
       " 0,\n",
       " 0,\n",
       " 1,\n",
       " 0,\n",
       " 0,\n",
       " 0,\n",
       " 0,\n",
       " 1,\n",
       " 0,\n",
       " 0,\n",
       " 0,\n",
       " 0,\n",
       " 0,\n",
       " 0,\n",
       " 0,\n",
       " 1,\n",
       " 0,\n",
       " 1,\n",
       " 0,\n",
       " 0,\n",
       " 1,\n",
       " 0,\n",
       " 0,\n",
       " 0,\n",
       " 0,\n",
       " 0,\n",
       " 0,\n",
       " 0,\n",
       " 0,\n",
       " 0,\n",
       " 0,\n",
       " 0,\n",
       " 0,\n",
       " 1,\n",
       " 0,\n",
       " 0,\n",
       " 0,\n",
       " 0,\n",
       " 1,\n",
       " 0,\n",
       " 0,\n",
       " 1,\n",
       " 0,\n",
       " 0,\n",
       " 1,\n",
       " 0,\n",
       " 0,\n",
       " 0,\n",
       " 0,\n",
       " 1,\n",
       " 0,\n",
       " 0,\n",
       " 0,\n",
       " 1,\n",
       " 0,\n",
       " 1,\n",
       " 0,\n",
       " 0,\n",
       " 0,\n",
       " 0,\n",
       " 0,\n",
       " 0,\n",
       " 0,\n",
       " 0,\n",
       " 0,\n",
       " 0,\n",
       " 0,\n",
       " 0,\n",
       " 0,\n",
       " 0,\n",
       " 0,\n",
       " 0,\n",
       " 0,\n",
       " 1,\n",
       " 0,\n",
       " 0,\n",
       " 0,\n",
       " 0,\n",
       " 0,\n",
       " 0,\n",
       " 0,\n",
       " 0,\n",
       " 0,\n",
       " 0,\n",
       " 0,\n",
       " 0,\n",
       " 0,\n",
       " 0,\n",
       " 0,\n",
       " 0,\n",
       " 0,\n",
       " 0,\n",
       " 0,\n",
       " 0,\n",
       " 0,\n",
       " 0,\n",
       " 0,\n",
       " 0,\n",
       " 0,\n",
       " 0,\n",
       " 1,\n",
       " 0,\n",
       " 0,\n",
       " 1,\n",
       " 0,\n",
       " 0,\n",
       " 0,\n",
       " 1,\n",
       " 0,\n",
       " 0,\n",
       " 0,\n",
       " ...]"
      ]
     },
     "execution_count": 222,
     "metadata": {},
     "output_type": "execute_result"
    }
   ],
   "source": [
    "y_true"
   ]
  },
  {
   "cell_type": "code",
   "execution_count": 223,
   "metadata": {
    "ExecuteTime": {
     "end_time": "2019-04-15T19:04:58.530857Z",
     "start_time": "2019-04-15T19:04:58.522957Z"
    },
    "collapsed": true
   },
   "outputs": [],
   "source": [
    "k=0\n",
    "for i in y_pred:\n",
    "    if y_pred[k]>=.5:\n",
    "        y_pred[k]=1\n",
    "    else:\n",
    "        y_pred[k]=0\n",
    "    k=k+1\n",
    "    \n"
   ]
  },
  {
   "cell_type": "code",
   "execution_count": 224,
   "metadata": {
    "ExecuteTime": {
     "end_time": "2019-04-15T19:05:00.999417Z",
     "start_time": "2019-04-15T19:05:00.972489Z"
    }
   },
   "outputs": [
    {
     "data": {
      "text/plain": [
       "array([[ 182, 1078],\n",
       "       [  19,  215]])"
      ]
     },
     "execution_count": 224,
     "metadata": {},
     "output_type": "execute_result"
    }
   ],
   "source": [
    "def miguel_matrix(y_true,y_pred):\n",
    "    tp=0\n",
    "    tn=0\n",
    "    fp=0\n",
    "    fn=0\n",
    "    k=0\n",
    "    for i in range(len(y_pred)):\n",
    "        if y_pred[k]==0 and y_true[k]==0:\n",
    "            tn=tn+1\n",
    "        if y_pred[k]==1 and y_true[k]==1:\n",
    "            tp=tp+1\n",
    "        if y_pred[k]==0 and y_true[k]==1:\n",
    "            fn=fn+1\n",
    "        if y_pred[k]==1 and y_true[k]==0:\n",
    "            fp=fp+1\n",
    "        k=k+1\n",
    "        \n",
    "    return np.array([[tn ,fp],[fn, tp]])\n",
    "\n",
    "miguel_matrix=miguel_matrix(y_true,y_pred)\n",
    "miguel_matrix"
   ]
  },
  {
   "cell_type": "code",
   "execution_count": 225,
   "metadata": {
    "ExecuteTime": {
     "end_time": "2019-04-15T19:05:06.535636Z",
     "start_time": "2019-04-15T19:05:06.530647Z"
    }
   },
   "outputs": [
    {
     "name": "stdout",
     "output_type": "stream",
     "text": [
      "0.9188034188034188\n",
      "0.1662799690641918\n"
     ]
    }
   ],
   "source": [
    "tn=miguel_matrix[0][0]\n",
    "fp=miguel_matrix[0][1]\n",
    "fn=miguel_matrix[1][0]\n",
    "tp=miguel_matrix[1][1]\n",
    "\n",
    "recall=tp/(tp+fn)\n",
    "precision=tp/(tp+fp)\n",
    "print(recall)\n",
    "print(precision)"
   ]
  },
  {
   "cell_type": "code",
   "execution_count": 226,
   "metadata": {
    "ExecuteTime": {
     "end_time": "2019-04-15T19:05:18.385174Z",
     "start_time": "2019-04-15T19:05:18.380150Z"
    }
   },
   "outputs": [
    {
     "data": {
      "text/plain": [
       "0.2657295850066934"
      ]
     },
     "execution_count": 226,
     "metadata": {},
     "output_type": "execute_result"
    }
   ],
   "source": [
    "accuracy= (tp+tn)/(tp+fn+fp+tn)\n",
    "accuracy"
   ]
  },
  {
   "cell_type": "code",
   "execution_count": 144,
   "metadata": {
    "ExecuteTime": {
     "end_time": "2019-04-15T18:12:48.310677Z",
     "start_time": "2019-04-15T18:12:48.288699Z"
    }
   },
   "outputs": [
    {
     "data": {
      "text/plain": [
       "array([[684, 576],\n",
       "       [142,  92]], dtype=int64)"
      ]
     },
     "execution_count": 144,
     "metadata": {},
     "output_type": "execute_result"
    }
   ],
   "source": [
    "confusion_matrix(y_true,y_pred)"
   ]
  },
  {
   "cell_type": "code",
   "execution_count": null,
   "metadata": {
    "collapsed": true
   },
   "outputs": [],
   "source": []
  },
  {
   "cell_type": "code",
   "execution_count": 123,
   "metadata": {
    "ExecuteTime": {
     "end_time": "2019-04-15T18:03:32.940758Z",
     "start_time": "2019-04-15T18:03:32.927798Z"
    }
   },
   "outputs": [
    {
     "data": {
      "text/plain": [
       "[0,\n",
       " 0,\n",
       " 0,\n",
       " 0,\n",
       " 0,\n",
       " 0,\n",
       " 0,\n",
       " 0,\n",
       " 0,\n",
       " 0,\n",
       " 0,\n",
       " 0,\n",
       " 0,\n",
       " 0,\n",
       " 0,\n",
       " 0,\n",
       " 0,\n",
       " 0,\n",
       " 0,\n",
       " 0,\n",
       " 0,\n",
       " 0,\n",
       " 0,\n",
       " 0,\n",
       " 1,\n",
       " 0,\n",
       " 1,\n",
       " 0,\n",
       " 0,\n",
       " 0,\n",
       " 0,\n",
       " 0,\n",
       " 0,\n",
       " 1,\n",
       " 1,\n",
       " 0,\n",
       " 0,\n",
       " 1,\n",
       " 0,\n",
       " 0,\n",
       " 0,\n",
       " 0,\n",
       " 0,\n",
       " 0,\n",
       " 0,\n",
       " 0,\n",
       " 1,\n",
       " 0,\n",
       " 0,\n",
       " 0,\n",
       " 0,\n",
       " 0,\n",
       " 1,\n",
       " 1,\n",
       " 0,\n",
       " 0,\n",
       " 0,\n",
       " 0,\n",
       " 0,\n",
       " 1,\n",
       " 1,\n",
       " 0,\n",
       " 0,\n",
       " 0,\n",
       " 0,\n",
       " 0,\n",
       " 0,\n",
       " 0,\n",
       " 0,\n",
       " 0,\n",
       " 1,\n",
       " 0,\n",
       " 0,\n",
       " 0,\n",
       " 0,\n",
       " 0,\n",
       " 0,\n",
       " 0,\n",
       " 0,\n",
       " 0,\n",
       " 0,\n",
       " 1,\n",
       " 0,\n",
       " 0,\n",
       " 1,\n",
       " 0,\n",
       " 0,\n",
       " 0,\n",
       " 0,\n",
       " 0,\n",
       " 0,\n",
       " 0,\n",
       " 0,\n",
       " 0,\n",
       " 0,\n",
       " 0,\n",
       " 0,\n",
       " 1,\n",
       " 0,\n",
       " 0,\n",
       " 0,\n",
       " 0,\n",
       " 1,\n",
       " 0,\n",
       " 0,\n",
       " 0,\n",
       " 1,\n",
       " 0,\n",
       " 0,\n",
       " 0,\n",
       " 0,\n",
       " 0,\n",
       " 0,\n",
       " 1,\n",
       " 0,\n",
       " 0,\n",
       " 1,\n",
       " 0,\n",
       " 0,\n",
       " 0,\n",
       " 0,\n",
       " 0,\n",
       " 0,\n",
       " 1,\n",
       " 0,\n",
       " 0,\n",
       " 0,\n",
       " 0,\n",
       " 1,\n",
       " 1,\n",
       " 0,\n",
       " 0,\n",
       " 0,\n",
       " 0,\n",
       " 0,\n",
       " 0,\n",
       " 0,\n",
       " 0,\n",
       " 0,\n",
       " 0,\n",
       " 0,\n",
       " 0,\n",
       " 0,\n",
       " 0,\n",
       " 1,\n",
       " 0,\n",
       " 1,\n",
       " 0,\n",
       " 0,\n",
       " 0,\n",
       " 0,\n",
       " 0,\n",
       " 0,\n",
       " 0,\n",
       " 0,\n",
       " 0,\n",
       " 0,\n",
       " 0,\n",
       " 0,\n",
       " 0,\n",
       " 0,\n",
       " 1,\n",
       " 0,\n",
       " 0,\n",
       " 0,\n",
       " 0,\n",
       " 0,\n",
       " 0,\n",
       " 1,\n",
       " 0,\n",
       " 0,\n",
       " 1,\n",
       " 0,\n",
       " 0,\n",
       " 0,\n",
       " 0,\n",
       " 1,\n",
       " 1,\n",
       " 0,\n",
       " 0,\n",
       " 0,\n",
       " 0,\n",
       " 0,\n",
       " 0,\n",
       " 1,\n",
       " 0,\n",
       " 0,\n",
       " 1,\n",
       " 0,\n",
       " 0,\n",
       " 0,\n",
       " 0,\n",
       " 0,\n",
       " 1,\n",
       " 0,\n",
       " 0,\n",
       " 1,\n",
       " 0,\n",
       " 1,\n",
       " 0,\n",
       " 1,\n",
       " 0,\n",
       " 0,\n",
       " 1,\n",
       " 0,\n",
       " 0,\n",
       " 0,\n",
       " 0,\n",
       " 0,\n",
       " 1,\n",
       " 0,\n",
       " 0,\n",
       " 0,\n",
       " 1,\n",
       " 0,\n",
       " 0,\n",
       " 1,\n",
       " 0,\n",
       " 0,\n",
       " 0,\n",
       " 0,\n",
       " 0,\n",
       " 0,\n",
       " 0,\n",
       " 0,\n",
       " 1,\n",
       " 0,\n",
       " 0,\n",
       " 0,\n",
       " 0,\n",
       " 0,\n",
       " 1,\n",
       " 0,\n",
       " 0,\n",
       " 0,\n",
       " 1,\n",
       " 0,\n",
       " 0,\n",
       " 0,\n",
       " 0,\n",
       " 1,\n",
       " 1,\n",
       " 0,\n",
       " 0,\n",
       " 0,\n",
       " 0,\n",
       " 1,\n",
       " 0,\n",
       " 1,\n",
       " 0,\n",
       " 1,\n",
       " 1,\n",
       " 1,\n",
       " 0,\n",
       " 0,\n",
       " 0,\n",
       " 0,\n",
       " 0,\n",
       " 0,\n",
       " 0,\n",
       " 0,\n",
       " 0,\n",
       " 0,\n",
       " 0,\n",
       " 0,\n",
       " 0,\n",
       " 1,\n",
       " 0,\n",
       " 0,\n",
       " 1,\n",
       " 1,\n",
       " 1,\n",
       " 0,\n",
       " 0,\n",
       " 0,\n",
       " 0,\n",
       " 0,\n",
       " 0,\n",
       " 1,\n",
       " 1,\n",
       " 0,\n",
       " 0,\n",
       " 1,\n",
       " 0,\n",
       " 0,\n",
       " 0,\n",
       " 0,\n",
       " 0,\n",
       " 1,\n",
       " 0,\n",
       " 1,\n",
       " 0,\n",
       " 0,\n",
       " 0,\n",
       " 0,\n",
       " 0,\n",
       " 0,\n",
       " 0,\n",
       " 0,\n",
       " 0,\n",
       " 0,\n",
       " 1,\n",
       " 1,\n",
       " 0,\n",
       " 1,\n",
       " 0,\n",
       " 0,\n",
       " 1,\n",
       " 0,\n",
       " 0,\n",
       " 1,\n",
       " 0,\n",
       " 0,\n",
       " 0,\n",
       " 0,\n",
       " 0,\n",
       " 0,\n",
       " 0,\n",
       " 0,\n",
       " 0,\n",
       " 0,\n",
       " 0,\n",
       " 0,\n",
       " 0,\n",
       " 0,\n",
       " 0,\n",
       " 0,\n",
       " 0,\n",
       " 0,\n",
       " 0,\n",
       " 0,\n",
       " 0,\n",
       " 0,\n",
       " 0,\n",
       " 0,\n",
       " 0,\n",
       " 0,\n",
       " 1,\n",
       " 0,\n",
       " 0,\n",
       " 0,\n",
       " 1,\n",
       " 0,\n",
       " 0,\n",
       " 0,\n",
       " 0,\n",
       " 0,\n",
       " 0,\n",
       " 0,\n",
       " 0,\n",
       " 1,\n",
       " 1,\n",
       " 0,\n",
       " 0,\n",
       " 0,\n",
       " 0,\n",
       " 0,\n",
       " 0,\n",
       " 0,\n",
       " 0,\n",
       " 0,\n",
       " 0,\n",
       " 0,\n",
       " 0,\n",
       " 0,\n",
       " 1,\n",
       " 0,\n",
       " 0,\n",
       " 0,\n",
       " 0,\n",
       " 0,\n",
       " 0,\n",
       " 0,\n",
       " 0,\n",
       " 0,\n",
       " 0,\n",
       " 0,\n",
       " 0,\n",
       " 0,\n",
       " 0,\n",
       " 0,\n",
       " 1,\n",
       " 0,\n",
       " 0,\n",
       " 0,\n",
       " 0,\n",
       " 0,\n",
       " 0,\n",
       " 0,\n",
       " 0,\n",
       " 0,\n",
       " 0,\n",
       " 1,\n",
       " 0,\n",
       " 0,\n",
       " 1,\n",
       " 1,\n",
       " 0,\n",
       " 0,\n",
       " 0,\n",
       " 0,\n",
       " 0,\n",
       " 0,\n",
       " 0,\n",
       " 1,\n",
       " 0,\n",
       " 0,\n",
       " 0,\n",
       " 0,\n",
       " 0,\n",
       " 0,\n",
       " 0,\n",
       " 1,\n",
       " 0,\n",
       " 0,\n",
       " 0,\n",
       " 0,\n",
       " 1,\n",
       " 0,\n",
       " 0,\n",
       " 0,\n",
       " 0,\n",
       " 0,\n",
       " 0,\n",
       " 0,\n",
       " 0,\n",
       " 0,\n",
       " 0,\n",
       " 1,\n",
       " 0,\n",
       " 0,\n",
       " 0,\n",
       " 0,\n",
       " 0,\n",
       " 0,\n",
       " 1,\n",
       " 0,\n",
       " 1,\n",
       " 0,\n",
       " 0,\n",
       " 0,\n",
       " 0,\n",
       " 0,\n",
       " 0,\n",
       " 0,\n",
       " 0,\n",
       " 0,\n",
       " 0,\n",
       " 0,\n",
       " 0,\n",
       " 0,\n",
       " 0,\n",
       " 0,\n",
       " 0,\n",
       " 0,\n",
       " 0,\n",
       " 1,\n",
       " 0,\n",
       " 0,\n",
       " 0,\n",
       " 0,\n",
       " 0,\n",
       " 0,\n",
       " 0,\n",
       " 0,\n",
       " 0,\n",
       " 1,\n",
       " 0,\n",
       " 0,\n",
       " 0,\n",
       " 1,\n",
       " 0,\n",
       " 0,\n",
       " 1,\n",
       " 0,\n",
       " 0,\n",
       " 0,\n",
       " 0,\n",
       " 0,\n",
       " 0,\n",
       " 0,\n",
       " 1,\n",
       " 0,\n",
       " 1,\n",
       " 0,\n",
       " 0,\n",
       " 0,\n",
       " 0,\n",
       " 1,\n",
       " 0,\n",
       " 0,\n",
       " 1,\n",
       " 0,\n",
       " 0,\n",
       " 0,\n",
       " 0,\n",
       " 0,\n",
       " 1,\n",
       " 0,\n",
       " 0,\n",
       " 0,\n",
       " 0,\n",
       " 1,\n",
       " 1,\n",
       " 1,\n",
       " 0,\n",
       " 0,\n",
       " 0,\n",
       " 0,\n",
       " 0,\n",
       " 0,\n",
       " 0,\n",
       " 0,\n",
       " 0,\n",
       " 0,\n",
       " 0,\n",
       " 0,\n",
       " 0,\n",
       " 0,\n",
       " 1,\n",
       " 0,\n",
       " 0,\n",
       " 0,\n",
       " 0,\n",
       " 0,\n",
       " 0,\n",
       " 0,\n",
       " 0,\n",
       " 0,\n",
       " 0,\n",
       " 0,\n",
       " 1,\n",
       " 0,\n",
       " 0,\n",
       " 0,\n",
       " 0,\n",
       " 0,\n",
       " 1,\n",
       " 0,\n",
       " 0,\n",
       " 0,\n",
       " 0,\n",
       " 0,\n",
       " 0,\n",
       " 0,\n",
       " 0,\n",
       " 0,\n",
       " 0,\n",
       " 0,\n",
       " 0,\n",
       " 0,\n",
       " 0,\n",
       " 0,\n",
       " 0,\n",
       " 0,\n",
       " 0,\n",
       " 0,\n",
       " 0,\n",
       " 0,\n",
       " 1,\n",
       " 1,\n",
       " 0,\n",
       " 0,\n",
       " 0,\n",
       " 0,\n",
       " 0,\n",
       " 0,\n",
       " 0,\n",
       " 0,\n",
       " 0,\n",
       " 0,\n",
       " 0,\n",
       " 0,\n",
       " 0,\n",
       " 0,\n",
       " 0,\n",
       " 0,\n",
       " 0,\n",
       " 0,\n",
       " 0,\n",
       " 0,\n",
       " 0,\n",
       " 0,\n",
       " 0,\n",
       " 0,\n",
       " 0,\n",
       " 0,\n",
       " 0,\n",
       " 0,\n",
       " 1,\n",
       " 0,\n",
       " 0,\n",
       " 0,\n",
       " 0,\n",
       " 0,\n",
       " 0,\n",
       " 0,\n",
       " 0,\n",
       " 0,\n",
       " 0,\n",
       " 0,\n",
       " 1,\n",
       " 0,\n",
       " 0,\n",
       " 0,\n",
       " 0,\n",
       " 0,\n",
       " 0,\n",
       " 0,\n",
       " 0,\n",
       " 0,\n",
       " 0,\n",
       " 0,\n",
       " 0,\n",
       " 0,\n",
       " 0,\n",
       " 0,\n",
       " 0,\n",
       " 0,\n",
       " 0,\n",
       " 0,\n",
       " 0,\n",
       " 0,\n",
       " 0,\n",
       " 0,\n",
       " 0,\n",
       " 0,\n",
       " 0,\n",
       " 1,\n",
       " 0,\n",
       " 0,\n",
       " 1,\n",
       " 0,\n",
       " 1,\n",
       " 0,\n",
       " 0,\n",
       " 0,\n",
       " 0,\n",
       " 1,\n",
       " 0,\n",
       " 0,\n",
       " 0,\n",
       " 1,\n",
       " 0,\n",
       " 0,\n",
       " 0,\n",
       " 1,\n",
       " 0,\n",
       " 0,\n",
       " 1,\n",
       " 0,\n",
       " 1,\n",
       " 0,\n",
       " 0,\n",
       " 0,\n",
       " 1,\n",
       " 0,\n",
       " 0,\n",
       " 0,\n",
       " 0,\n",
       " 0,\n",
       " 0,\n",
       " 0,\n",
       " 0,\n",
       " 0,\n",
       " 0,\n",
       " 1,\n",
       " 1,\n",
       " 0,\n",
       " 0,\n",
       " 0,\n",
       " 0,\n",
       " 0,\n",
       " 0,\n",
       " 0,\n",
       " 0,\n",
       " 0,\n",
       " 0,\n",
       " 0,\n",
       " 0,\n",
       " 0,\n",
       " 0,\n",
       " 0,\n",
       " 0,\n",
       " 1,\n",
       " 0,\n",
       " 1,\n",
       " 0,\n",
       " 1,\n",
       " 0,\n",
       " 0,\n",
       " 0,\n",
       " 0,\n",
       " 0,\n",
       " 0,\n",
       " 0,\n",
       " 0,\n",
       " 0,\n",
       " 0,\n",
       " 0,\n",
       " 0,\n",
       " 1,\n",
       " 0,\n",
       " 0,\n",
       " 0,\n",
       " 0,\n",
       " 0,\n",
       " 1,\n",
       " 0,\n",
       " 0,\n",
       " 1,\n",
       " 0,\n",
       " 0,\n",
       " 0,\n",
       " 0,\n",
       " 0,\n",
       " 0,\n",
       " 0,\n",
       " 0,\n",
       " 0,\n",
       " 0,\n",
       " 0,\n",
       " 0,\n",
       " 0,\n",
       " 1,\n",
       " 0,\n",
       " 0,\n",
       " 0,\n",
       " 0,\n",
       " 0,\n",
       " 0,\n",
       " 1,\n",
       " 0,\n",
       " 0,\n",
       " 0,\n",
       " 0,\n",
       " 0,\n",
       " 0,\n",
       " 1,\n",
       " 1,\n",
       " 0,\n",
       " 0,\n",
       " 0,\n",
       " 0,\n",
       " 0,\n",
       " 0,\n",
       " 0,\n",
       " 0,\n",
       " 0,\n",
       " 0,\n",
       " 0,\n",
       " 1,\n",
       " 0,\n",
       " 0,\n",
       " 1,\n",
       " 0,\n",
       " 0,\n",
       " 1,\n",
       " 1,\n",
       " 1,\n",
       " 0,\n",
       " 1,\n",
       " 0,\n",
       " 0,\n",
       " 0,\n",
       " 0,\n",
       " 0,\n",
       " 0,\n",
       " 0,\n",
       " 0,\n",
       " 0,\n",
       " 1,\n",
       " 1,\n",
       " 0,\n",
       " 0,\n",
       " 0,\n",
       " 0,\n",
       " 0,\n",
       " 1,\n",
       " 0,\n",
       " 0,\n",
       " 0,\n",
       " 0,\n",
       " 1,\n",
       " 0,\n",
       " 0,\n",
       " 0,\n",
       " 0,\n",
       " 1,\n",
       " 1,\n",
       " 0,\n",
       " 0,\n",
       " 0,\n",
       " 0,\n",
       " 0,\n",
       " 1,\n",
       " 0,\n",
       " 1,\n",
       " 0,\n",
       " 0,\n",
       " 0,\n",
       " 0,\n",
       " 0,\n",
       " 0,\n",
       " 0,\n",
       " 0,\n",
       " 0,\n",
       " 0,\n",
       " 0,\n",
       " 0,\n",
       " 0,\n",
       " 0,\n",
       " 0,\n",
       " 0,\n",
       " 1,\n",
       " 0,\n",
       " 0,\n",
       " 1,\n",
       " 0,\n",
       " 0,\n",
       " 0,\n",
       " 0,\n",
       " 0,\n",
       " 0,\n",
       " 0,\n",
       " 0,\n",
       " 0,\n",
       " 0,\n",
       " 0,\n",
       " 0,\n",
       " 0,\n",
       " 0,\n",
       " 0,\n",
       " 0,\n",
       " 1,\n",
       " 0,\n",
       " 0,\n",
       " 0,\n",
       " 0,\n",
       " 0,\n",
       " 0,\n",
       " 0,\n",
       " 0,\n",
       " 0,\n",
       " 1,\n",
       " 0,\n",
       " 0,\n",
       " 1,\n",
       " 0,\n",
       " 0,\n",
       " 1,\n",
       " 0,\n",
       " 0,\n",
       " 1,\n",
       " 0,\n",
       " 1,\n",
       " 0,\n",
       " 1,\n",
       " 0,\n",
       " 0,\n",
       " 0,\n",
       " 0,\n",
       " 0,\n",
       " 0,\n",
       " 0,\n",
       " 1,\n",
       " 0,\n",
       " 1,\n",
       " 0,\n",
       " 0,\n",
       " 0,\n",
       " 1,\n",
       " 0,\n",
       " 0,\n",
       " 0,\n",
       " 0,\n",
       " 0,\n",
       " 0,\n",
       " 0,\n",
       " 0,\n",
       " 0,\n",
       " 0,\n",
       " 0,\n",
       " 0,\n",
       " 0,\n",
       " 0,\n",
       " 1,\n",
       " 0,\n",
       " 0,\n",
       " 0,\n",
       " 0,\n",
       " 1,\n",
       " 0,\n",
       " 0,\n",
       " 0,\n",
       " 0,\n",
       " 1,\n",
       " 0,\n",
       " 0,\n",
       " 0,\n",
       " 0,\n",
       " 0,\n",
       " 0,\n",
       " 0,\n",
       " 1,\n",
       " 0,\n",
       " 1,\n",
       " 0,\n",
       " 0,\n",
       " 1,\n",
       " 0,\n",
       " 0,\n",
       " 0,\n",
       " 0,\n",
       " 0,\n",
       " 0,\n",
       " 0,\n",
       " 0,\n",
       " 0,\n",
       " 0,\n",
       " 0,\n",
       " 0,\n",
       " 1,\n",
       " 0,\n",
       " 0,\n",
       " 0,\n",
       " 0,\n",
       " 1,\n",
       " 0,\n",
       " 0,\n",
       " 1,\n",
       " 0,\n",
       " 0,\n",
       " 1,\n",
       " 0,\n",
       " 0,\n",
       " 0,\n",
       " 0,\n",
       " 1,\n",
       " 0,\n",
       " 0,\n",
       " 0,\n",
       " 1,\n",
       " 0,\n",
       " 1,\n",
       " 0,\n",
       " 0,\n",
       " 0,\n",
       " 0,\n",
       " 0,\n",
       " 0,\n",
       " 0,\n",
       " 0,\n",
       " 0,\n",
       " 0,\n",
       " 0,\n",
       " 0,\n",
       " 0,\n",
       " 0,\n",
       " 0,\n",
       " 0,\n",
       " 0,\n",
       " 1,\n",
       " 0,\n",
       " 0,\n",
       " 0,\n",
       " 0,\n",
       " 0,\n",
       " 0,\n",
       " 0,\n",
       " 0,\n",
       " 0,\n",
       " 0,\n",
       " 0,\n",
       " 0,\n",
       " 0,\n",
       " 0,\n",
       " 0,\n",
       " 0,\n",
       " 0,\n",
       " 0,\n",
       " 0,\n",
       " 0,\n",
       " 0,\n",
       " 0,\n",
       " 0,\n",
       " 0,\n",
       " 0,\n",
       " 0,\n",
       " 1,\n",
       " 0,\n",
       " 0,\n",
       " 1,\n",
       " 0,\n",
       " 0,\n",
       " 0,\n",
       " 1,\n",
       " 0,\n",
       " 0,\n",
       " 0,\n",
       " ...]"
      ]
     },
     "execution_count": 123,
     "metadata": {},
     "output_type": "execute_result"
    }
   ],
   "source": [
    "y_true model "
   ]
  },
  {
   "cell_type": "code",
   "execution_count": 67,
   "metadata": {
    "ExecuteTime": {
     "end_time": "2019-04-15T17:51:02.103700Z",
     "start_time": "2019-04-15T17:51:02.096249Z"
    }
   },
   "outputs": [
    {
     "data": {
      "text/plain": [
       "32"
      ]
     },
     "execution_count": 67,
     "metadata": {},
     "output_type": "execute_result"
    }
   ],
   "source": [
    "len(y_labels)"
   ]
  },
  {
   "cell_type": "code",
   "execution_count": 68,
   "metadata": {
    "ExecuteTime": {
     "end_time": "2019-04-15T17:51:07.696874Z",
     "start_time": "2019-04-15T17:51:07.690008Z"
    }
   },
   "outputs": [
    {
     "data": {
      "text/plain": [
       "array([0., 0., 1., 0., 0., 0., 0., 0., 0., 0., 0., 0., 0., 0., 0., 0., 0.,\n",
       "       0., 0., 0., 0., 0., 0., 0., 1., 0., 0., 0., 0., 1., 1., 0.],\n",
       "      dtype=float32)"
      ]
     },
     "execution_count": 68,
     "metadata": {},
     "output_type": "execute_result"
    }
   ],
   "source": [
    "y_labels"
   ]
  },
  {
   "cell_type": "code",
   "execution_count": 70,
   "metadata": {
    "ExecuteTime": {
     "end_time": "2019-04-15T17:51:47.909341Z",
     "start_time": "2019-04-15T17:51:47.603739Z"
    }
   },
   "outputs": [
    {
     "data": {
      "text/plain": [
       "array([[0.9704884 ],\n",
       "       [0.82282215],\n",
       "       [0.9228008 ],\n",
       "       [0.6806685 ],\n",
       "       [0.30790663],\n",
       "       [0.07192844],\n",
       "       [0.6023172 ],\n",
       "       [0.19309878],\n",
       "       [0.05492455],\n",
       "       [0.07044649],\n",
       "       [0.94325674],\n",
       "       [0.21082854],\n",
       "       [0.08447543],\n",
       "       [0.278752  ],\n",
       "       [0.42559505],\n",
       "       [0.7217413 ],\n",
       "       [0.7121027 ],\n",
       "       [0.07040808],\n",
       "       [0.6928571 ],\n",
       "       [0.2812217 ],\n",
       "       [0.10593092],\n",
       "       [0.6347262 ],\n",
       "       [0.8864411 ],\n",
       "       [0.49812114],\n",
       "       [0.860495  ],\n",
       "       [0.11140522],\n",
       "       [0.2469284 ],\n",
       "       [0.7832467 ],\n",
       "       [0.24330905],\n",
       "       [0.8547966 ],\n",
       "       [0.6869298 ],\n",
       "       [0.16582808]], dtype=float32)"
      ]
     },
     "execution_count": 70,
     "metadata": {},
     "output_type": "execute_result"
    }
   ],
   "source": [
    "model_3.predict(x)"
   ]
  },
  {
   "cell_type": "code",
   "execution_count": 53,
   "metadata": {
    "ExecuteTime": {
     "end_time": "2019-04-15T17:39:44.969315Z",
     "start_time": "2019-04-15T17:39:44.961861Z"
    }
   },
   "outputs": [
    {
     "data": {
      "text/plain": [
       "1494"
      ]
     },
     "execution_count": 53,
     "metadata": {},
     "output_type": "execute_result"
    }
   ],
   "source": [
    "len(y_pred)"
   ]
  },
  {
   "cell_type": "code",
   "execution_count": 50,
   "metadata": {
    "ExecuteTime": {
     "end_time": "2019-04-15T17:38:58.301878Z",
     "start_time": "2019-04-15T17:38:58.292113Z"
    }
   },
   "outputs": [
    {
     "data": {
      "text/plain": [
       "array([675])"
      ]
     },
     "execution_count": 50,
     "metadata": {},
     "output_type": "execute_result"
    }
   ],
   "source": [
    "sum(y_pred>.5)"
   ]
  }
 ],
 "metadata": {
  "kernelspec": {
   "display_name": "Python 3",
   "language": "python",
   "name": "python3"
  },
  "language_info": {
   "codemirror_mode": {
    "name": "ipython",
    "version": 3
   },
   "file_extension": ".py",
   "mimetype": "text/x-python",
   "name": "python",
   "nbconvert_exporter": "python",
   "pygments_lexer": "ipython3",
   "version": "3.6.8"
  },
  "varInspector": {
   "cols": {
    "lenName": 16,
    "lenType": 16,
    "lenVar": 40
   },
   "kernels_config": {
    "python": {
     "delete_cmd_postfix": "",
     "delete_cmd_prefix": "del ",
     "library": "var_list.py",
     "varRefreshCmd": "print(var_dic_list())"
    },
    "r": {
     "delete_cmd_postfix": ") ",
     "delete_cmd_prefix": "rm(",
     "library": "var_list.r",
     "varRefreshCmd": "cat(var_dic_list()) "
    }
   },
   "types_to_exclude": [
    "module",
    "function",
    "builtin_function_or_method",
    "instance",
    "_Feature"
   ],
   "window_display": false
  }
 },
 "nbformat": 4,
 "nbformat_minor": 2
}
